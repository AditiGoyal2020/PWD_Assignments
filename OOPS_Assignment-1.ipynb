{
 "cells": [
  {
   "cell_type": "code",
   "execution_count": 4,
   "id": "79f3609c",
   "metadata": {},
   "outputs": [],
   "source": [
    "# Problem 1: Bank Account Create a class representing a bank account with attributes like account number, account holder name, and balance. Implement methods to deposit and withdraw money from the account.\n",
    "\n",
    "# Ans:\n",
    "class bank_account:\n",
    "    def __init__(self, account_num, account_hol_name, balance):\n",
    "        self.accountNumber = account_num\n",
    "        self.accountHolderName = account_hol_name\n",
    "        self.Balance = balance\n",
    "    def Deposit(self, amount):\n",
    "        self.Balance += amount\n",
    "        print(\"Amount balance after deposit: \", self.Balance)\n",
    "    def Withdraw(self, amount):\n",
    "        self.Balance -= amount\n",
    "        print(\"Amount balance after withdrawal: \", self.Balance)\n",
    "\n",
    "customer1 = bank_account('67y4uhjuyew754', 'Aditi Goyal', 100000)"
   ]
  },
  {
   "cell_type": "code",
   "execution_count": 31,
   "id": "7d943141",
   "metadata": {},
   "outputs": [],
   "source": [
    "# Problem 2: Employee Management Create a class representing an employee with attributes like employee ID, name, and salary. Implement methods to calculate the yearly bonus and display employee details.\n",
    "\n",
    "# Ans:\n",
    "class Employee:\n",
    "    def __init__(self,ID, name, salary):\n",
    "        self.Id = ID\n",
    "        self.Name = name\n",
    "        self.Salary = salary\n",
    "    \n",
    "    def bonus_details(self, bonus):\n",
    "        self.Salary+=bonus \n",
    "        return self.Salary\n",
    "    \n",
    "    def Display_details(self):\n",
    "        print(self.Id, self.Name, self.Salary)"
   ]
  },
  {
   "cell_type": "code",
   "execution_count": 47,
   "id": "cf886eef",
   "metadata": {},
   "outputs": [],
   "source": [
    "# Problem 3: Vehicle Rental Create a class representing a vehicle rental system. Implement methods to rent a vehicle, return a vehicle, and display available vehicles.\n",
    "\n",
    "# Ans:\n",
    "class vehicle_rental_sys:\n",
    "    def __init__(self, name, address):\n",
    "        self.__name  = name\n",
    "        self.__location = address\n",
    "    def get_location(self):\n",
    "        return self.__location"
   ]
  },
  {
   "cell_type": "code",
   "execution_count": 58,
   "id": "7321d72c",
   "metadata": {},
   "outputs": [],
   "source": [
    "# Problem 4: Library Catalog Create classes representing a library and a book. Implement methods to add books to the library, borrow books, and display available books.\n",
    "\n",
    "# Ans:\n",
    "\n",
    "class library:\n",
    "    def __init__(self, books):\n",
    "        self.current_books = books\n",
    "    def add_books(self, No_of_books):\n",
    "        self.current_books +=No_of_books\n",
    "        print('present number of books', self.current_books)\n",
    "    def borrow_books(self, num_books):\n",
    "        self.current_books-=num_books\n",
    "        print('present number of books', self.current_books)\n",
    "    def display_details(self):\n",
    "        print(\"We have complete stock of book\")\n",
    "\n",
    "class book(library):\n",
    "    pass"
   ]
  },
  {
   "cell_type": "code",
   "execution_count": 71,
   "id": "6370a2a5",
   "metadata": {},
   "outputs": [],
   "source": [
    "# Problem 5: Product Inventory Create classes representing a product and an inventory system. Implement methods to add products to the inventory, update product quantity, and display available products.\n",
    "\n",
    "# Ans:\n",
    "class inventory:\n",
    "    def __init__(self, pid, price, quantity):\n",
    "        self.Id = pid\n",
    "        self.Price = price\n",
    "        self.Quantity = quantity\n",
    "    def add_products(self, num_prod):\n",
    "        self.Quantity +=num_prod\n",
    "    def update_product_qty(self):\n",
    "        return self.Quantity\n",
    "    def display_inventory(self):\n",
    "        print(\"Product_ID: \", self.Id, \"Product_Price: \",self.Price, \"Product_Quantity: \", self.Quantity)"
   ]
  },
  {
   "cell_type": "code",
   "execution_count": 74,
   "id": "76899023",
   "metadata": {},
   "outputs": [],
   "source": [
    "# Problem 6: Shape Calculation Create a class representing a shape with attributes like length, width, and height. Implement methods to calculate the area and perimeter of the shape.\n",
    "\n",
    "# Ans:\n",
    "\n",
    "class shape:\n",
    "    def __init__(self,l,w,h):\n",
    "        self.length = l\n",
    "        self.width = w\n",
    "        self.height = h\n",
    "    def cal_perimeter(self):\n",
    "        return self.length * self.width * self.height"
   ]
  },
  {
   "cell_type": "code",
   "execution_count": 86,
   "id": "f5eb2ed5",
   "metadata": {},
   "outputs": [],
   "source": [
    "# Problem 7: Student Management Create a class representing a student with attributes like student ID, name, and grades. Implement methods to calculate the average grade and display student details.\n",
    "\n",
    "# Ans:\n",
    "class student:\n",
    "    def __init__(self, Id, name, m1, m2):\n",
    "        self.ID = Id\n",
    "        self.Name = name\n",
    "        self.Marks1 = m1\n",
    "        self.Marks2 = m2\n",
    "    def avg_grade(self):\n",
    "        avg_grade = (self.Marks1 + self.Marks2)/2\n",
    "        return avg_grade\n",
    "    def student_details(self):\n",
    "        print('Student ID: ',self.ID )\n",
    "        print('Student Name: ', self.Name)"
   ]
  },
  {
   "cell_type": "code",
   "execution_count": 89,
   "id": "8f7e07f3",
   "metadata": {},
   "outputs": [],
   "source": [
    "# Problem 8: Email Management Create a class representing an email with attributes like sender, recipient, and subject. Implement methods to send an email and display email details.\n",
    "\n",
    "# Ans:\n",
    "class email:\n",
    "    def __init__(self, sender, recipient, subject):\n",
    "        self.Sender = sender\n",
    "        self.Recipient = recipient\n",
    "        self.Subject = subject\n",
    "    def send_email(self):\n",
    "        print('email sent')\n",
    "    def display_email_details(self):\n",
    "        print('email sent by: ',self.Sender, 'email received by: ',self.Recipient )"
   ]
  },
  {
   "cell_type": "code",
   "execution_count": 92,
   "id": "10bec1f6",
   "metadata": {},
   "outputs": [],
   "source": [
    "# Problem 9: Social Media Profile Create a class representing a social media profile with attributes like username and posts. Implement methods to add posts, display posts, and search for posts by keyword.\n",
    "\n",
    "# Ans:\n",
    "\n",
    "class Social_Media_Profile:\n",
    "    def __init__(self,username, post1, post2):\n",
    "        self.Username = username\n",
    "        self.Post1 = post1\n",
    "        self.Post2 = post2\n",
    "    def add_post(self,post3):\n",
    "        self.Post3 = post3\n",
    "    def display_post(self):\n",
    "        print(self.Post1)\n",
    "        print(self.Post2)\n",
    "        print(self.Post3)"
   ]
  },
  {
   "cell_type": "code",
   "execution_count": 98,
   "id": "ab1bb67c",
   "metadata": {},
   "outputs": [],
   "source": [
    "# Problem 10: ToDo List Create a class representing a ToDo list with attributes like tasks and due dates. Implement methods to add tasks, mark tasks as completed, and display pending tasks.\n",
    "\n",
    "# Ans:\n",
    "\n",
    "class To_Do_List:\n",
    "    def __init__(self, task1, duedate1, task2, duedate2):\n",
    "        self.Task1 = task1\n",
    "        self.DueDate1 = duedate1\n",
    "        self.Task2 = task2\n",
    "        self.DueDate2 = duedate2\n",
    "    def dispaly_details(self):\n",
    "        print(self.Task1, \":\", self.DueDate1)\n",
    "        print(self.Task2,\":\", self.DueDate2)"
   ]
  },
  {
   "cell_type": "code",
   "execution_count": null,
   "id": "4d3778ab",
   "metadata": {},
   "outputs": [],
   "source": []
  }
 ],
 "metadata": {
  "kernelspec": {
   "display_name": "Python 3 (ipykernel)",
   "language": "python",
   "name": "python3"
  },
  "language_info": {
   "codemirror_mode": {
    "name": "ipython",
    "version": 3
   },
   "file_extension": ".py",
   "mimetype": "text/x-python",
   "name": "python",
   "nbconvert_exporter": "python",
   "pygments_lexer": "ipython3",
   "version": "3.9.7"
  }
 },
 "nbformat": 4,
 "nbformat_minor": 5
}
