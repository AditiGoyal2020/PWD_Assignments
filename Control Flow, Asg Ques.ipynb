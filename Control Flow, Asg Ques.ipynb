{
 "cells": [
  {
   "cell_type": "markdown",
   "id": "c970dc0d",
   "metadata": {},
   "source": [
    "## Basic If-Else Statements:"
   ]
  },
  {
   "cell_type": "code",
   "execution_count": 2,
   "id": "3b6ea953",
   "metadata": {},
   "outputs": [
    {
     "name": "stdout",
     "output_type": "stream",
     "text": [
      "4\n",
      "4 : Positive\n"
     ]
    }
   ],
   "source": [
    "# 1. Write a Python program to check if a given number is positive or negative\n",
    "\n",
    "# Ans:\n",
    "n = int(input())\n",
    "    \n",
    "if n < 0:\n",
    "    print(n,\":\", 'Negative')\n",
    "elif n == 0:\n",
    "    print(n,\":\" ,'Zero')\n",
    "else:\n",
    "    print(n,\":\",'Positive')"
   ]
  },
  {
   "cell_type": "code",
   "execution_count": 3,
   "id": "19973376",
   "metadata": {},
   "outputs": [
    {
     "name": "stdout",
     "output_type": "stream",
     "text": [
      "12\n",
      "not eligible to vote\n"
     ]
    }
   ],
   "source": [
    "# 2. Create a program that determines if a person is eligible to vote based on their age\n",
    "\n",
    "# Ans:\n",
    "age = int(input())\n",
    "\n",
    "if age >= 18:\n",
    "    print(\"eligible to vote\")\n",
    "else:\n",
    "    print(\"not eligible to vote\")"
   ]
  },
  {
   "cell_type": "code",
   "execution_count": 4,
   "id": "fe439575",
   "metadata": {},
   "outputs": [
    {
     "name": "stdout",
     "output_type": "stream",
     "text": [
      "23\n",
      "12\n",
      "Maximum is : 23\n"
     ]
    }
   ],
   "source": [
    "# 3. Develop a program to find the maximum of two numbers using if-else statements.\n",
    "\n",
    "# Ans:\n",
    "a = int(input())\n",
    "b = int(input())\n",
    "\n",
    "if a > b:\n",
    "    print('Maximum is', \":\", a)\n",
    "elif a == b:\n",
    "    print(\"a is equal to b\")\n",
    "else:\n",
    "    print('Maximum is', \":\", b)"
   ]
  },
  {
   "cell_type": "code",
   "execution_count": 5,
   "id": "72ac710c",
   "metadata": {},
   "outputs": [
    {
     "name": "stdout",
     "output_type": "stream",
     "text": [
      "1990\n",
      "This is not a leap year\n"
     ]
    }
   ],
   "source": [
    "# 4. Write a Python script to classify a given year as a leap year or not.\n",
    "\n",
    "# Ans:\n",
    "year = int(input())\n",
    "\n",
    "if year % 400==0:\n",
    "    print('This is leap year')\n",
    "elif year % 100==0:\n",
    "    print('This is not a leap year')\n",
    "elif year % 4 == 0:\n",
    "    print('This is leap year') \n",
    "else:\n",
    "    print('This is not a leap year')"
   ]
  },
  {
   "cell_type": "code",
   "execution_count": null,
   "id": "2178e4cb",
   "metadata": {},
   "outputs": [],
   "source": []
  },
  {
   "cell_type": "code",
   "execution_count": 6,
   "id": "f583dee2",
   "metadata": {},
   "outputs": [
    {
     "name": "stdout",
     "output_type": "stream",
     "text": [
      "e\n",
      "This is vowel\n"
     ]
    }
   ],
   "source": [
    "# 5. Create a program that checks whether a character is a vowel or a consonant.\n",
    "\n",
    "# Ans:\n",
    "s = input()\n",
    "\n",
    "if s in ('a','e','i','o','u','A', 'E', 'I', 'O','U'):\n",
    "    print('This is vowel')\n",
    "else:\n",
    "    print('This is consonent')"
   ]
  },
  {
   "cell_type": "code",
   "execution_count": 7,
   "id": "99307299",
   "metadata": {},
   "outputs": [
    {
     "name": "stdout",
     "output_type": "stream",
     "text": [
      "4\n",
      "Even Number\n"
     ]
    }
   ],
   "source": [
    "# 6. Implement a program to determine whether a given number is even or odd.\n",
    "\n",
    "# Ans:\n",
    "i = int(input())\n",
    "\n",
    "if i%2 == 0:\n",
    "    print('Even Number')\n",
    "else:\n",
    "    print('Odd Number')"
   ]
  },
  {
   "cell_type": "code",
   "execution_count": 8,
   "id": "712cfb75",
   "metadata": {},
   "outputs": [
    {
     "name": "stdout",
     "output_type": "stream",
     "text": [
      "Number : -4\n",
      "4\n"
     ]
    }
   ],
   "source": [
    "#7. Write a Python function to calculate the absolute value of a number without using the `abs()` function.\n",
    "\n",
    "# Ans:\n",
    "i = int(input('Number : ')) \n",
    "if i > 0:\n",
    "    print(i)\n",
    "else:\n",
    "    print(i*-1)"
   ]
  },
  {
   "cell_type": "code",
   "execution_count": 9,
   "id": "235dc8d4",
   "metadata": {},
   "outputs": [
    {
     "name": "stdout",
     "output_type": "stream",
     "text": [
      "Number : 2\n",
      "Number : 3\n",
      "Number : 4\n",
      "n3 is the largest number\n"
     ]
    }
   ],
   "source": [
    "# 8. Develop a program that determines the largest of three given numbers using if-else statements.\n",
    "\n",
    "# Ans:\n",
    "\n",
    "n1 = int(input('Number : ')) \n",
    "n2 = int(input('Number : ')) \n",
    "n3 = int(input('Number : ')) \n",
    "\n",
    "if n1 > n2 and n1 > n3:\n",
    "    print('n1 is the largest number')\n",
    "elif n2 > n1 and n2 > n3:\n",
    "    print('n2 is the largest number')\n",
    "else:\n",
    "    print('n3 is the largest number')"
   ]
  },
  {
   "cell_type": "code",
   "execution_count": 10,
   "id": "29aabcd9",
   "metadata": {},
   "outputs": [
    {
     "name": "stdout",
     "output_type": "stream",
     "text": [
      "madam\n",
      "String is palidrome\n"
     ]
    }
   ],
   "source": [
    "# 9. Create a program that checks if a given string is a palindrome.\n",
    "\n",
    "#Ans:\n",
    "s = str(input())\n",
    "\n",
    "if s[::] == s[::-1]:\n",
    "    print('String is palidrome')\n",
    "else:\n",
    "    print('String is not palidrome')"
   ]
  },
  {
   "cell_type": "code",
   "execution_count": 11,
   "id": "403b5fdf",
   "metadata": {},
   "outputs": [
    {
     "name": "stdout",
     "output_type": "stream",
     "text": [
      "7\n",
      "Grade : B\n"
     ]
    }
   ],
   "source": [
    "# 10. Write a Python program to calculate the grade based on a student's score.\n",
    "\n",
    "# Ans:\n",
    "score = int(input())\n",
    "\n",
    "if score >= 70:\n",
    "    print('Grade :', 'A')\n",
    "else:\n",
    "    print('Grade :', 'B')"
   ]
  },
  {
   "cell_type": "markdown",
   "id": "b4f529c4",
   "metadata": {},
   "source": [
    "## Nested If-Else Statements:"
   ]
  },
  {
   "cell_type": "code",
   "execution_count": 14,
   "id": "6865192f",
   "metadata": {},
   "outputs": [
    {
     "name": "stdout",
     "output_type": "stream",
     "text": [
      "Number: 2\n",
      "Number: 3\n",
      "Number: 4\n",
      "n3 is the largest\n"
     ]
    }
   ],
   "source": [
    "## Write a program to find the largest among three numbers using nested if-else statements.\n",
    "\n",
    "# Ans:\n",
    "n1 = int(input('Number: '))\n",
    "n2 = int(input('Number: '))\n",
    "n3 = int(input('Number: '))\n",
    "\n",
    "if n1 > n2:\n",
    "    if n2 > n3:\n",
    "        print('n1 is the largest')\n",
    "    else:\n",
    "        if n3 > n1:\n",
    "            ('n3 is the largest')\n",
    "else:\n",
    "    if n2 > n3:\n",
    "        print('n2 is the largest')\n",
    "    else:\n",
    "        print('n3 is the largest')"
   ]
  },
  {
   "cell_type": "code",
   "execution_count": 20,
   "id": "b414e701",
   "metadata": {},
   "outputs": [
    {
     "name": "stdout",
     "output_type": "stream",
     "text": [
      "2\n",
      "3\n",
      "2\n",
      "Triangle is isosceles\n"
     ]
    }
   ],
   "source": [
    "# 12.Implement a program to determine if a triangle is equilateral, isosceles, or scalene.\n",
    "\n",
    "# Ans:\n",
    "s1 = int(input())\n",
    "s2 = int(input())\n",
    "s3 = int(input())\n",
    "\n",
    "if s1 == s2 == s3:\n",
    "    print('Triangle is equilateral')\n",
    "else:\n",
    "    if s1 == s2 or s1 == s3 or s2 == s3:\n",
    "        print('Triangle is isosceles')\n",
    "    else:\n",
    "        print('Triangle is scalene')"
   ]
  },
  {
   "cell_type": "code",
   "execution_count": 26,
   "id": "66d0325c",
   "metadata": {},
   "outputs": [
    {
     "name": "stdout",
     "output_type": "stream",
     "text": [
      "1900\n",
      "This is not a leap year\n"
     ]
    }
   ],
   "source": [
    "# 13. Develop a program that checks if a year is a leap year and also if it is a century year.\n",
    "\n",
    "# Ans:\n",
    "year = int(input())\n",
    "\n",
    "if year % 4 == 0:\n",
    "    if year % 100 !=0 or year % 400 == 0:\n",
    "        print('This is leap year')\n",
    "    else:\n",
    "        print('This is not a leap year')\n",
    "else:\n",
    "    print('This is not a leap year')"
   ]
  },
  {
   "cell_type": "code",
   "execution_count": 29,
   "id": "ff29e25d",
   "metadata": {},
   "outputs": [
    {
     "name": "stdout",
     "output_type": "stream",
     "text": [
      "0\n",
      "number is zero\n"
     ]
    }
   ],
   "source": [
    "# 14. Write a Python script to determine if a number is positive, negative, or zero.\n",
    "\n",
    "# Ans:\n",
    "n = int(input())\n",
    "if n>= 0:\n",
    "    if n == 0:\n",
    "        print('number is zero')\n",
    "    else:\n",
    "        print('number is positive')\n",
    "else:\n",
    "    print('number is negative')\n",
    "            "
   ]
  },
  {
   "cell_type": "code",
   "execution_count": 37,
   "id": "de96e7f4",
   "metadata": {},
   "outputs": [
    {
     "name": "stdout",
     "output_type": "stream",
     "text": [
      "14\n",
      "person is a teenager\n"
     ]
    }
   ],
   "source": [
    "# 15. Create a program to check if a person is a teenager (between 13 and 19 years old).\n",
    "\n",
    "# Ans:\n",
    "age = int(input())\n",
    "\n",
    "if age >= 13 :\n",
    "    if age <= 19:\n",
    "        print('person is a teenager')\n",
    "    else:\n",
    "        print('person is not a teenager')\n",
    "else:\n",
    "    print('person is not a teenager')"
   ]
  },
  {
   "cell_type": "code",
   "execution_count": 40,
   "id": "67e0ad91",
   "metadata": {},
   "outputs": [
    {
     "name": "stdout",
     "output_type": "stream",
     "text": [
      "90\n",
      "Right angle\n"
     ]
    }
   ],
   "source": [
    "# 16. Develop a program that determines the type of angle based on its measure (acute, obtuse, or right).\n",
    "\n",
    "# Ans:\n",
    "angle = int(input())\n",
    "\n",
    "if angle >= 90:\n",
    "    if angle > 90 and angle < 180:\n",
    "        print('Obsute angle')\n",
    "    else:\n",
    "        print('Right angle')\n",
    "else:\n",
    "    print('Acute angle')        "
   ]
  },
  {
   "cell_type": "code",
   "execution_count": 47,
   "id": "fe2cb3c5",
   "metadata": {},
   "outputs": [
    {
     "name": "stdout",
     "output_type": "stream",
     "text": [
      "2\n",
      "2\n",
      "3\n",
      "Complex Roots\n",
      "-0.5 -4 4.47213595499958\n",
      "-0.5 4 4.47213595499958\n"
     ]
    }
   ],
   "source": [
    "# 17. Write a Python program to calculate the roots of a quadratic equation.\n",
    "\n",
    "# Ans:\n",
    "\n",
    "a = int(input())\n",
    "b = int(input())\n",
    "c = int(input())\n",
    "import math\n",
    "\n",
    "dis = b * b - 4 * a * c\n",
    "sqrt_val = math.sqrt(abs(dis))\n",
    "\n",
    "\n",
    "if dis > 0:\n",
    "        print(\"real and different roots\")\n",
    "        print((-b + sqrt_val)/(2 * a))\n",
    "        print((-b - sqrt_val)/(2 * a))\n",
    "elif dis == 0:\n",
    "        print(\"real and same roots\")\n",
    "        print(-b / (2 * a))\n",
    "     \n",
    "    # when discriminant is less than 0\n",
    "else:\n",
    "        print(\"Complex Roots\")\n",
    "        print(- b / (2 * a), + i, sqrt_val)\n",
    "        print(- b / (2 * a), - i, sqrt_val)"
   ]
  },
  {
   "cell_type": "code",
   "execution_count": 49,
   "id": "8b0ecc10",
   "metadata": {},
   "outputs": [
    {
     "name": "stdout",
     "output_type": "stream",
     "text": [
      "3\n",
      "Wednesday\n"
     ]
    }
   ],
   "source": [
    "# 18. Implement a program to determine the day of the week based on a user-provided number (1 for Monday, 2for Tuesday, etc.).\n",
    "\n",
    "# Ans:\n",
    "n = int(input())\n",
    "if n > 0  and n <= 7:\n",
    "    if n == 1:\n",
    "        print('Monday')\n",
    "    elif n == 2:\n",
    "        print('Tuesday')\n",
    "    elif n == 3:\n",
    "        print('Wednesday')\n",
    "    elif n == 4:\n",
    "        print('Thursday')\n",
    "    elif n == 5:\n",
    "        print('Friday')\n",
    "    elif n == 6:\n",
    "        print('Saturday')\n",
    "    else:\n",
    "        print('Sunday')\n",
    "else:\n",
    "    print('Invalid input')"
   ]
  },
  {
   "cell_type": "code",
   "execution_count": null,
   "id": "28d153bc",
   "metadata": {},
   "outputs": [],
   "source": [
    "# 19. Create a program that determines if a year is a leap year and also if it is evenly divisible by 400.\n",
    "\n",
    "# Ans:"
   ]
  },
  {
   "cell_type": "code",
   "execution_count": 10,
   "id": "143e6c7c",
   "metadata": {},
   "outputs": [
    {
     "name": "stdout",
     "output_type": "stream",
     "text": [
      "4\n",
      "False\n",
      "True\n"
     ]
    }
   ],
   "source": [
    "# 20. Develop a program that checks if a given number is prime or not using nested if-else statements.\n",
    "\n",
    "# Ans:\n",
    "n  = int(input())\n",
    "if (n==1):\n",
    "    print('False')\n",
    "elif (n==2):\n",
    "    print('True')\n",
    "else:\n",
    "    for x in range(2,n):\n",
    "        if(n % x==0):\n",
    "            print('False')\n",
    "    print('True')"
   ]
  },
  {
   "cell_type": "markdown",
   "id": "b8c53194",
   "metadata": {},
   "source": [
    "## Elif Statements:"
   ]
  },
  {
   "cell_type": "code",
   "execution_count": 1,
   "id": "5baab50b",
   "metadata": {},
   "outputs": [
    {
     "name": "stdout",
     "output_type": "stream",
     "text": [
      "76\n",
      "B\n"
     ]
    }
   ],
   "source": [
    "# 21. Write a Python program to assign grades based on different ranges of scores using elif statements.\n",
    "\n",
    "# Ans:\n",
    "score = int(input())\n",
    "\n",
    "if score >= 90:\n",
    "    print('A')\n",
    "elif score >= 75:\n",
    "    print('B')\n",
    "elif score >= 50:\n",
    "    print('C')\n",
    "else:\n",
    "    print('D')"
   ]
  },
  {
   "cell_type": "code",
   "execution_count": 3,
   "id": "76fac05a",
   "metadata": {},
   "outputs": [
    {
     "name": "stdout",
     "output_type": "stream",
     "text": [
      "180\n",
      "Straight angle\n"
     ]
    }
   ],
   "source": [
    "# 22.Implement a program to determine the type of a triangle based on its angles.\n",
    "\n",
    "# Ans:\n",
    "angle = int(input())\n",
    "\n",
    "if angle == 180:\n",
    "    print('Straight angle')\n",
    "elif angle > 90 and angle < 180:\n",
    "    print('Obtuse angle')\n",
    "elif angle == 90:\n",
    "    print('Right angle')\n",
    "elif 0 < angle < 90:\n",
    "    print('Acute angle')\n",
    "else:\n",
    "    print('Invalid input')"
   ]
  },
  {
   "cell_type": "code",
   "execution_count": null,
   "id": "7ab4e347",
   "metadata": {},
   "outputs": [],
   "source": [
    "# 23. Develop a program that checks if a year is a leap year and also if it is a century year.\n"
   ]
  },
  {
   "cell_type": "code",
   "execution_count": 6,
   "id": "f012c0ed",
   "metadata": {},
   "outputs": [
    {
     "name": "stdout",
     "output_type": "stream",
     "text": [
      "23\n",
      "positive\n"
     ]
    }
   ],
   "source": [
    "# 24. Write a Python script to determine if a number is positive, negative, or zero.\n",
    "\n",
    "# Ans:\n",
    "n = int(input())\n",
    "\n",
    "if n > 0:\n",
    "    print('positive')\n",
    "elif n== 0:\n",
    "    print('zero')\n",
    "else:\n",
    "    print('negative')"
   ]
  },
  {
   "cell_type": "code",
   "execution_count": 10,
   "id": "cca8ac70",
   "metadata": {},
   "outputs": [
    {
     "name": "stdout",
     "output_type": "stream",
     "text": [
      "@\n",
      "upper\n"
     ]
    }
   ],
   "source": [
    "# 25. Write a Python script to determine the type of a character (uppercase, lowercase, or special) using elifstatement\n",
    "\n",
    "# Ans:\n",
    "c = input()\n",
    "if c.upper() == c:\n",
    "    print('upper')\n",
    "elif c.lower() == c:\n",
    "    print('lower')\n",
    "else:\n",
    "    print('special')"
   ]
  },
  {
   "cell_type": "code",
   "execution_count": 26,
   "id": "5c5aa301",
   "metadata": {},
   "outputs": [
    {
     "name": "stdout",
     "output_type": "stream",
     "text": [
      "500\n",
      "400.0\n"
     ]
    }
   ],
   "source": [
    "# 26. Implement a program to calculate the discounted price based on different purchase amounts using elifstatements.\n",
    "\n",
    "# Ans:\n",
    "price = int(input())\n",
    "\n",
    "if price > 500:\n",
    "    disc_p = price - (price / 4)\n",
    "    print(disc_p)\n",
    "elif price == 500:\n",
    "    disc_p = price - (price / 5)\n",
    "    print(disc_p)\n",
    "else:\n",
    "    disc_p = price - (price/10)\n",
    "    print(disc_p)"
   ]
  },
  {
   "cell_type": "code",
   "execution_count": 28,
   "id": "9acfb6da",
   "metadata": {},
   "outputs": [
    {
     "name": "stdout",
     "output_type": "stream",
     "text": [
      "250\n",
      "375.0\n"
     ]
    }
   ],
   "source": [
    "# 27. Develop a program to calculate the electricity bill based on different consumption slabs using elif statements.\n",
    "\n",
    "# Ans:\n",
    "cons = int(input())\n",
    "\n",
    "if cons >= 2000:\n",
    "    bill = 4.5 * cons\n",
    "    print(bill)\n",
    "elif cons >= 1000:\n",
    "    bill = 2.5 * cons\n",
    "    print(bill)\n",
    "else:\n",
    "    bill = 1.5 * cons\n",
    "    print(bill)"
   ]
  },
  {
   "cell_type": "code",
   "execution_count": null,
   "id": "77d83bfa",
   "metadata": {},
   "outputs": [],
   "source": [
    "# 28. Create a program to determine the type of quadrilateral based on its angles and sides using elif statements.\n",
    "\n",
    "# Ans:\n"
   ]
  },
  {
   "cell_type": "code",
   "execution_count": 31,
   "id": "876f42cc",
   "metadata": {},
   "outputs": [
    {
     "name": "stdout",
     "output_type": "stream",
     "text": [
      "mar\n",
      "monsoon\n"
     ]
    }
   ],
   "source": [
    "# 29. Write a Python script to determine the season based on a user-provided month using elif statements.\n",
    "\n",
    "# Ans:\n",
    "s = str(input())\n",
    "winter = ['dec', 'jan', 'feb']\n",
    "summer = ['may', 'jun', 'jul']\n",
    "spring = ['aug', 'sep', 'oct']\n",
    "pre_winter = ['nov']\n",
    "monsoon = ['mar', 'apr']\n",
    "\n",
    "if s in winter:\n",
    "    print('winter')\n",
    "elif s in summer:\n",
    "    print('summer')\n",
    "elif s in spring:\n",
    "    print('spring')\n",
    "elif s in pre_winter:\n",
    "    print('pre-winter')\n",
    "elif s in monsoon:\n",
    "    print('monsoon')\n",
    "else:\n",
    "    print('invalid input')"
   ]
  },
  {
   "cell_type": "code",
   "execution_count": null,
   "id": "67cbd95a",
   "metadata": {},
   "outputs": [],
   "source": [
    "# 30. Implement a program to determine the type of a year (leap or common) and month (30 or 31 days) usingelif statements.\n",
    "\n",
    "# Ans:"
   ]
  },
  {
   "cell_type": "markdown",
   "id": "61d0f688",
   "metadata": {},
   "source": [
    "# Basic Level:"
   ]
  },
  {
   "cell_type": "code",
   "execution_count": null,
   "id": "aec7a5fe",
   "metadata": {},
   "outputs": [],
   "source": [
    "# 1. Write a Python program that checks if a given number is positive, negative, or zero.\n",
    "\n",
    "# Ans:\n",
    "n = int(input())\n",
    "    \n",
    "if n < 0:\n",
    "    print(n,\":\", 'Negative')\n",
    "elif n == 0:\n",
    "    print(n,\":\" ,'Zero')\n",
    "else:\n",
    "    print(n,\":\",'Positive')"
   ]
  },
  {
   "cell_type": "code",
   "execution_count": null,
   "id": "127d82b4",
   "metadata": {},
   "outputs": [],
   "source": [
    "# 2. Create a program that determines if a person is eligible to vote based on their age\n",
    "\n",
    "# Ans:\n",
    "age = int(input())\n",
    "\n",
    "if age >= 18:\n",
    "    print(\"eligible to vote\")\n",
    "else:\n",
    "    print(\"not eligible to vote\")"
   ]
  },
  {
   "cell_type": "code",
   "execution_count": null,
   "id": "0c6a3cc8",
   "metadata": {},
   "outputs": [],
   "source": [
    "# 3. Develop a program to find the maximum of two numbers using if-else statements.\n",
    "\n",
    "# Ans:\n",
    "a = int(input())\n",
    "b = int(input())\n",
    "\n",
    "if a > b:\n",
    "    print('Maximum is', \":\", a)\n",
    "elif a == b:\n",
    "    print(\"a is equal to b\")\n",
    "else:\n",
    "    print('Maximum is', \":\", b)"
   ]
  },
  {
   "cell_type": "code",
   "execution_count": null,
   "id": "8b6b0e3e",
   "metadata": {},
   "outputs": [],
   "source": [
    "# 4.Write a Python program to calculate the grade based on a student's score.\n",
    "\n",
    "# Ans:\n",
    "score = int(input())\n",
    "\n",
    "if score >= 70:\n",
    "    print('Grade :', 'A')\n",
    "else:\n",
    "    print('Grade :', 'B')"
   ]
  },
  {
   "cell_type": "code",
   "execution_count": 32,
   "id": "71da935a",
   "metadata": {},
   "outputs": [
    {
     "name": "stdout",
     "output_type": "stream",
     "text": [
      "r\n",
      "This is consonent\n"
     ]
    }
   ],
   "source": [
    "# 5. Create a program that checks if a year is a leap year or not.\n",
    "\n",
    "# Ans:\n",
    "year = int(input())\n",
    "\n",
    "if year % 400==0:\n",
    "    print('This is leap year')\n",
    "elif year % 100==0:\n",
    "    print('This is not a leap year')\n",
    "elif year % 4 == 0:\n",
    "    print('This is leap year') \n",
    "else:\n",
    "    print('This is not a leap year')"
   ]
  },
  {
   "cell_type": "code",
   "execution_count": null,
   "id": "1906e270",
   "metadata": {},
   "outputs": [],
   "source": [
    "# 6. Write a program to classify a triangle based on its sides' lengths.\n",
    "\n",
    "# Ans:\n",
    "s1 = int(input())\n",
    "s2 = int(input())\n",
    "s3 = int(input())\n",
    "\n",
    "if s1 == s2 == s3:\n",
    "    print('Triangle is equilateral')\n",
    "else:\n",
    "    if s1 == s2 or s1 == s3 or s2 == s3:\n",
    "        print('Triangle is isosceles')\n",
    "    else:\n",
    "        print('Triangle is scalene')"
   ]
  },
  {
   "cell_type": "code",
   "execution_count": 34,
   "id": "88c021a1",
   "metadata": {},
   "outputs": [
    {
     "name": "stdout",
     "output_type": "stream",
     "text": [
      "2\n",
      "2\n",
      "3\n",
      "Largest c\n"
     ]
    }
   ],
   "source": [
    "# 7. Build a program that determines the largest of three given numbers.\n",
    "\n",
    "# Ans:\n",
    "a = int(input())\n",
    "b = int(input())\n",
    "c = int(input())\n",
    "\n",
    "if a > b > c:\n",
    "    print('Largest a')\n",
    "elif a < b > c:\n",
    "    print('Largest b')\n",
    "else:\n",
    "    print('Largest c')"
   ]
  },
  {
   "cell_type": "code",
   "execution_count": null,
   "id": "4e4a3e64",
   "metadata": {},
   "outputs": [],
   "source": [
    "# 8. Develop a program that checks whether a character is a vowel or a consonant.\n",
    "\n",
    "# Ans:\n",
    "s = input()\n",
    "\n",
    "if s in ('a','e','i','o','u','A', 'E', 'I', 'O','U'):\n",
    "    print('This is vowel')\n",
    "else:\n",
    "    print('This is consonent')"
   ]
  },
  {
   "cell_type": "code",
   "execution_count": null,
   "id": "db9b4772",
   "metadata": {},
   "outputs": [],
   "source": [
    "# 9. Create a program to calculate the total cost of a shopping cart based on discounts.\n",
    "\n",
    "# Ans:\n"
   ]
  },
  {
   "cell_type": "code",
   "execution_count": null,
   "id": "557c531f",
   "metadata": {},
   "outputs": [],
   "source": [
    "# 10. Write a program that checks if a given number is even or odd.\n",
    "\n",
    "# Ans:\n",
    "i = int(input())\n",
    "\n",
    "if i%2 == 0:\n",
    "    print('Even Number')\n",
    "else:\n",
    "    print('Odd Number')"
   ]
  },
  {
   "cell_type": "markdown",
   "id": "87197d9b",
   "metadata": {},
   "source": [
    "# Intermediate Level"
   ]
  },
  {
   "cell_type": "code",
   "execution_count": 2,
   "id": "20de3fb1",
   "metadata": {},
   "outputs": [
    {
     "name": "stdout",
     "output_type": "stream",
     "text": [
      "The roots are\n",
      "(-3.414213562373095+0j)\n",
      "(-0.5857864376269049+0j)\n"
     ]
    }
   ],
   "source": [
    "# 11. Write a program that calculates the roots of a quadratic equation\n",
    "\n",
    "# Ans:\n",
    "import cmath\n",
    "\n",
    "a = 1\n",
    "b = 4\n",
    "c = 2\n",
    "\n",
    "dis = (b**2) - (4*a*c)\n",
    "\n",
    "ans1 = (-b-cmath.sqrt(dis))/(2 * a)\n",
    "ans2 = (-b + cmath.sqrt(dis))/(2 * a)\n",
    " \n",
    "# printing the results\n",
    "print('The roots are')\n",
    "print(ans1)\n",
    "print(ans2)"
   ]
  },
  {
   "cell_type": "code",
   "execution_count": 8,
   "id": "d8287981",
   "metadata": {},
   "outputs": [
    {
     "name": "stdout",
     "output_type": "stream",
     "text": [
      "2\n",
      "Tuesday\n"
     ]
    }
   ],
   "source": [
    "# 12. Create a program that determines the day of the week based on the day number (1-7).\n",
    "\n",
    "# Anns\n",
    "i = int(input())\n",
    "\n",
    "if i == 1:\n",
    "    print('Monday')\n",
    "elif i == 2:\n",
    "    print('Tuesday')\n",
    "elif i == 3:\n",
    "    print('Wednesday')\n",
    "elif i == 4:\n",
    "    print('Thursday')\n",
    "elif i == 5:\n",
    "    print('Friday')\n",
    "elif i == 6:\n",
    "    print('Saturday')\n",
    "elif i == 7:\n",
    "    print('Sunday')\n",
    "else:\n",
    "    print('Invalid input')"
   ]
  },
  {
   "cell_type": "code",
   "execution_count": 9,
   "id": "9be794f7",
   "metadata": {},
   "outputs": [],
   "source": [
    "# 13. Develop a program that calculates the factorial of a given number using recursion.\n",
    "\n",
    "# Ans:\n",
    "\n",
    "def fac_num(n):\n",
    "    if n == 0:\n",
    "        return 1\n",
    "    else:\n",
    "        return n* fac_num(n-1)"
   ]
  },
  {
   "cell_type": "code",
   "execution_count": 14,
   "id": "b68615f3",
   "metadata": {},
   "outputs": [
    {
     "name": "stdout",
     "output_type": "stream",
     "text": [
      "3\n",
      "2\n",
      "1\n",
      "a is largest\n"
     ]
    }
   ],
   "source": [
    "## 14. Write a program to find the largest among three numbers without using the `max()` function.\n",
    "\n",
    "# Ans:\n",
    "a = int(input())\n",
    "b = int(input())\n",
    "c = int(input())\n",
    "\n",
    "if a > b:\n",
    "    if b > c:\n",
    "        print('a is largest')\n",
    "    elif b == c:\n",
    "        print(\"a is largest\")\n",
    "elif b > c:\n",
    "    if c > a:\n",
    "        print('b is largest')\n",
    "    elif c == a:\n",
    "        print('b is largest')\n",
    "elif c > b:\n",
    "    if b > a:\n",
    "        print('c is largest')\n",
    "    elif a == b:\n",
    "        print('c is largest')\n",
    "    "
   ]
  },
  {
   "cell_type": "code",
   "execution_count": 18,
   "id": "6efd722c",
   "metadata": {},
   "outputs": [
    {
     "name": "stdout",
     "output_type": "stream",
     "text": [
      "welcome to state bank of india\n",
      "Enter the number :1234\n",
      "1-Withdraw\n",
      "2-Balance Enquiry\n",
      "3-Fast Cash\n",
      "Please choose transactions: 1\n",
      "Enter withdraw amount: 50000\n",
      "Insufficient cash\n"
     ]
    }
   ],
   "source": [
    "## 15. Create a program that simulates a basic ATM transaction menu.\n",
    "\n",
    "# Ans:\n",
    "print('welcome to state bank of india')\n",
    "\n",
    "p = int(input('Enter the number :'))\n",
    "bal = 50000\n",
    "min_bal = 5000\n",
    "if p == 1234:\n",
    "    print(\"1-Withdraw\")\n",
    "    print(\"2-Balance Enquiry\")\n",
    "    print(\"3-Fast Cash\")\n",
    "\n",
    "    c = int(input(\"Please choose transactions: \"))\n",
    "    if (c == 1):\n",
    "        w=int(input(\"Enter withdraw amount: \"))\n",
    "        if w < (bal - min_bal):\n",
    "            print(\"please take your amount\")\n",
    "        else:\n",
    "            print('Insufficient cash')\n",
    "    elif c== 2:\n",
    "        print('your available amount:', bal)"
   ]
  },
  {
   "cell_type": "code",
   "execution_count": 21,
   "id": "f5ac69cd",
   "metadata": {},
   "outputs": [
    {
     "name": "stdout",
     "output_type": "stream",
     "text": [
      "aditi\n",
      "its not palidrome\n"
     ]
    }
   ],
   "source": [
    "# 16. Build a program that checks if a given string is a palindrome or not.\n",
    "\n",
    "# Ans:\n",
    "s = input()\n",
    "if s[::] == s[::-1]:\n",
    "    print('its palidrome')\n",
    "else:\n",
    "    print('its not palidrome')"
   ]
  },
  {
   "cell_type": "code",
   "execution_count": 38,
   "id": "e46f5553",
   "metadata": {},
   "outputs": [
    {
     "name": "stdout",
     "output_type": "stream",
     "text": [
      "5\n"
     ]
    }
   ],
   "source": [
    "# 17. Write a program that calculates the average of a list of numbers, excluding the smallest and largest values.\n",
    "\n",
    "# Ans:\n",
    "l = [1,2,3,4]\n",
    "s =0\n",
    "for i in l:\n",
    "    s+=i\n",
    "    e = min(l)+max(l)\n",
    "print(s-e)"
   ]
  },
  {
   "cell_type": "code",
   "execution_count": 41,
   "id": "591bd699",
   "metadata": {},
   "outputs": [
    {
     "name": "stdout",
     "output_type": "stream",
     "text": [
      "3\n",
      "37.4\n"
     ]
    }
   ],
   "source": [
    "# 18. Develop a program that converts a given temperature from Celsius to Fahrenheit.\n",
    "\n",
    "# Ans:\n",
    "temp = int(input())\n",
    "\n",
    "if temp > 0:\n",
    "    fahrenheit_temp =((temp*9)/5)+32\n",
    "print(fahrenheit_temp)"
   ]
  },
  {
   "cell_type": "code",
   "execution_count": 45,
   "id": "39001fcf",
   "metadata": {},
   "outputs": [
    {
     "name": "stdout",
     "output_type": "stream",
     "text": [
      "2\n",
      "2\n",
      "+\n",
      "result: 4\n"
     ]
    }
   ],
   "source": [
    "# 19.Create a program that simulates a basic calculator for addition, subtraction, multiplication, and division.\n",
    "\n",
    "# Ans:\n",
    "n1 = int(input())\n",
    "n2 = int(input())\n",
    "func = input()\n",
    "if func == '+':\n",
    "    print('result:',n1 + n2)\n",
    "elif func == '-':\n",
    "    print('result:',n1 - n2)\n",
    "elif func == '*':\n",
    "    print('result:',n1 * n2)\n",
    "elif func == '/':\n",
    "    print('result:',n1 / n2)\n",
    "else:\n",
    "    print('invalid operand type')"
   ]
  },
  {
   "cell_type": "code",
   "execution_count": 47,
   "id": "14621df9",
   "metadata": {},
   "outputs": [
    {
     "ename": "NameError",
     "evalue": "name 'd' is not defined",
     "output_type": "error",
     "traceback": [
      "\u001b[1;31m---------------------------------------------------------------------------\u001b[0m",
      "\u001b[1;31mNameError\u001b[0m                                 Traceback (most recent call last)",
      "\u001b[1;32mC:\\Users\\ADITIG~1\\AppData\\Local\\Temp/ipykernel_24368/2592219852.py\u001b[0m in \u001b[0;36m<module>\u001b[1;34m\u001b[0m\n\u001b[0;32m     20\u001b[0m \u001b[1;33m\u001b[0m\u001b[0m\n\u001b[0;32m     21\u001b[0m \u001b[1;33m\u001b[0m\u001b[0m\n\u001b[1;32m---> 22\u001b[1;33m \u001b[0mroots\u001b[0m \u001b[1;33m=\u001b[0m \u001b[0msolve\u001b[0m\u001b[1;33m(\u001b[0m\u001b[0ma\u001b[0m\u001b[1;33m,\u001b[0m\u001b[0mb\u001b[0m\u001b[1;33m,\u001b[0m\u001b[0mc\u001b[0m\u001b[1;33m,\u001b[0m\u001b[0md\u001b[0m\u001b[1;33m)\u001b[0m\u001b[1;33m\u001b[0m\u001b[1;33m\u001b[0m\u001b[0m\n\u001b[0m\u001b[0;32m     23\u001b[0m \u001b[1;33m\u001b[0m\u001b[0m\n\u001b[0;32m     24\u001b[0m \u001b[1;32mfor\u001b[0m \u001b[0mx\u001b[0m \u001b[1;32min\u001b[0m \u001b[0mroots\u001b[0m\u001b[1;33m:\u001b[0m\u001b[1;33m\u001b[0m\u001b[1;33m\u001b[0m\u001b[0m\n",
      "\u001b[1;31mNameError\u001b[0m: name 'd' is not defined"
     ]
    }
   ],
   "source": [
    "# 20. Write a program that determines the roots of a cubic equation using the Cardano formula.\n",
    "\n",
    "# Ans:\n"
   ]
  },
  {
   "cell_type": "markdown",
   "id": "9b72f2ca",
   "metadata": {},
   "source": [
    "## Advanced Level:"
   ]
  },
  {
   "cell_type": "code",
   "execution_count": 50,
   "id": "82811d11",
   "metadata": {},
   "outputs": [
    {
     "name": "stdout",
     "output_type": "stream",
     "text": [
      "1020000\n",
      "131000.0\n"
     ]
    }
   ],
   "source": [
    "## 21.Create a program that calculates the income tax based on the user's income and tax brackets.\n",
    "\n",
    "# Ans:\n",
    "i = int(input())\n",
    "\n",
    "if i > 250000 and i <= 500000 :\n",
    "    it = (i -250000)*0.10\n",
    "    print(it)\n",
    "elif i > 500000 and i <= 1000000:\n",
    "    it =  (i-500000)* 0.20 + 25000\n",
    "    print(it)\n",
    "elif i > 1000000:\n",
    "    it = (i-1000000)* 0.30 + 25000 + 100000\n",
    "    print(it)"
   ]
  },
  {
   "cell_type": "code",
   "execution_count": null,
   "id": "143d93f6",
   "metadata": {},
   "outputs": [],
   "source": [
    "## 22. Write a program that simulates a rock-paper-scissors game against the computer\n",
    "\n",
    "# Ans:\n"
   ]
  },
  {
   "cell_type": "code",
   "execution_count": 57,
   "id": "dcd5225c",
   "metadata": {},
   "outputs": [
    {
     "name": "stdout",
     "output_type": "stream",
     "text": [
      "12\n",
      "1Gw/\n",
      "m</uwGK3XD1/\n"
     ]
    }
   ],
   "source": [
    "## 23. Develop a program that generates a random password based on user preferences (length, complexity).\n",
    "\n",
    "# Ans:\n",
    "import random\n",
    "import array\n",
    "\n",
    "length = int(input())\n",
    "    \n",
    "DIGITS = ['0', '1', '2', '3', '4', '5', '6', '7', '8', '9'] \n",
    "LOCASE_CHARACTERS = ['a', 'b', 'c', 'd', 'e', 'f', 'g', 'h',\n",
    "                     'i', 'j', 'k', 'm', 'n', 'o', 'p', 'q',\n",
    "                     'r', 's', 't', 'u', 'v', 'w', 'x', 'y',\n",
    "                     'z']\n",
    " \n",
    "UPCASE_CHARACTERS = ['A', 'B', 'C', 'D', 'E', 'F', 'G', 'H',\n",
    "                     'I', 'J', 'K', 'M', 'N', 'O', 'P', 'Q',\n",
    "                     'R', 'S', 'T', 'U', 'V', 'W', 'X', 'Y',\n",
    "                     'Z']\n",
    " \n",
    "SYMBOLS = ['@', '#', '$', '%', '=', ':', '?', '.', '/', '|', '~', '>',\n",
    "           '*', '(', ')', '<']\n",
    "COMBINED_LIST = DIGITS + UPCASE_CHARACTERS + LOCASE_CHARACTERS + SYMBOLS\n",
    "# randomly select at least one character from each character set above\n",
    "rand_digit = random.choice(DIGITS)\n",
    "rand_upper = random.choice(UPCASE_CHARACTERS)\n",
    "rand_lower = random.choice(LOCASE_CHARACTERS)\n",
    "rand_symbol = random.choice(SYMBOLS)\n",
    "\n",
    "# we want a 12-character password\n",
    "temp_pass = rand_digit + rand_upper + rand_lower + rand_symbol\n",
    "\n",
    "print(temp_pass)\n",
    "\n",
    "for x in range(length - 4):\n",
    "    temp_pass = temp_pass + random.choice(COMBINED_LIST)\n",
    "    \n",
    "    temp_pass_list = array.array('u', temp_pass)\n",
    "    random.shuffle(temp_pass_list)\n",
    "password = \"\"\n",
    "for x in temp_pass_list:\n",
    "        password = password + x\n",
    "         \n",
    "# print out password\n",
    "print(password)"
   ]
  },
  {
   "cell_type": "code",
   "execution_count": null,
   "id": "69be78cd",
   "metadata": {},
   "outputs": [],
   "source": [
    "# 24. Create a program that implements a simple text-based adventure game with branching scenarios.\n",
    "\n",
    "# Ans:\n",
    "\n",
    "rooms = {\n",
    "    'start': {\n",
    "        'description': 'You are in a dark room. There is a door to your north.',\n",
    "        'north': 'room1'\n",
    "    },\n",
    "    'room1': {\n",
    "        'description': 'You are in room 1. There is a door to your east and south.',\n",
    "        'east': 'room2',\n",
    "        'south': 'start'\n",
    "    },\n",
    "    'room2': {\n",
    "        'description': 'You are in room 2. There is a door to your west and south.',\n",
    "        'west': 'room1',\n",
    "        'south': 'room3'\n",
    "    },\n",
    "    'room3': {\n",
    "        'description': 'You are in room 3. You found the treasure! Congratulations!',\n",
    "        'end': True\n",
    "    }\n",
    "}\n",
    "\n",
    "def show_room(room):\n",
    "    print(room['description'])\n",
    "\n",
    "    if 'north' in room:\n",
    "        print('There is a door to your north.')\n",
    "    if 'east' in room:\n",
    "        print('There is a door to your east.')\n",
    "    if 'south' in room:\n",
    "        print('There is a door to your south.')\n",
    "    if 'west' in room:\n",
    "        print('There is a door to your west.')"
   ]
  },
  {
   "cell_type": "code",
   "execution_count": 58,
   "id": "7749fbc5",
   "metadata": {},
   "outputs": [
    {
     "name": "stdout",
     "output_type": "stream",
     "text": [
      "The solution are (-3+0j) and (-2+0j)\n"
     ]
    }
   ],
   "source": [
    "## 25. Build a program that solves a linear equation for x, considering different cases.\n",
    "\n",
    "# Ans:\n",
    "\n",
    "# Solve the quadratic equation ax**2 + bx + c = 0\n",
    "\n",
    "# import complex math module\n",
    "import cmath\n",
    "\n",
    "a = 1\n",
    "b = 5\n",
    "c = 6\n",
    "\n",
    "# calculate the discriminant\n",
    "d = (b**2) - (4*a*c)\n",
    "\n",
    "# find two solutions\n",
    "sol1 = (-b-cmath.sqrt(d))/(2*a)\n",
    "sol2 = (-b+cmath.sqrt(d))/(2*a)\n",
    "\n",
    "print('The solution are {0} and {1}'.format(sol1,sol2))"
   ]
  },
  {
   "cell_type": "code",
   "execution_count": null,
   "id": "c5b55547",
   "metadata": {},
   "outputs": [],
   "source": [
    "## 26. Write a program that simulates a basic quiz game with multiple-choice questions and scoring.\n",
    "\n",
    "#Ans:\n",
    "\n",
    "{\n",
    "  \"question\": [\n",
    "    \"Q1. What Indian city is the capital of two states?\",\n",
    "    \"Q2. Which city is the capital of India?\",\n",
    "    \"Q3. Smallest State of India?\",\n",
    "    \"Q4. Where is Taj Mahal Located?\"\n",
    "  ],\n",
    "  \"answer\": [\n",
    "    1,\n",
    "    2,\n",
    "    3,\n",
    "    2\n",
    "  ],\n",
    "  \"options\": [\n",
    "\n",
    "    [\"Chandigarh\",\n",
    "      \"Kolkata\",\n",
    "      \"Delhi\",\n",
    "      \"Bangalore\"\n",
    "    ],\n",
    "    [\"Jaipur\",\n",
    "      \"Delhi\",\n",
    "      \"Chennai\",\n",
    "      \"Mumbai\"\n",
    "    ],\n",
    "    [\"Rajasthan\",\n",
    "      \"Punjab\",\n",
    "      \"Goa\",\n",
    "      \"Bihar\"\n",
    "    ],\n",
    "    [\"Lucknow\",\n",
    "      \"Agra\",\n",
    "      \"Bhopal\",\n",
    "      \"Delhi\"\n",
    "    ]\n",
    "  ]\n",
    "}"
   ]
  },
  {
   "cell_type": "code",
   "execution_count": 8,
   "id": "bef3672d",
   "metadata": {},
   "outputs": [
    {
     "name": "stdout",
     "output_type": "stream",
     "text": [
      "24\n",
      "It is not a prime number\n"
     ]
    }
   ],
   "source": [
    "# 27. Develop a program that determines whether a given year is a prime number or not.\n",
    "\n",
    "# Ans:\n",
    "pn = int(input())\n",
    "\n",
    "for i in range(2,pn):\n",
    "    if pn%i==0:\n",
    "        print('It is not a prime number')\n",
    "        break\n",
    "else:\n",
    "    print('It is a prime number')"
   ]
  },
  {
   "cell_type": "code",
   "execution_count": 9,
   "id": "7243f043",
   "metadata": {},
   "outputs": [
    {
     "name": "stdout",
     "output_type": "stream",
     "text": [
      "Enter a: 2\n",
      "Enter b: 3\n",
      "Enter c: 4\n",
      "2.0 < 3.0 < 4.0\n"
     ]
    }
   ],
   "source": [
    "# 28. Create a program that sorts three numbers in ascending order using conditional statements.\n",
    "\n",
    "# Ans:\n",
    "a = float(input(\"Enter a: \"))\n",
    "b = float(input(\"Enter b: \"))\n",
    "c = float(input(\"Enter c: \"))\n",
    "\n",
    "if a < b:\n",
    "    if b < c:\n",
    "        print(a, \"<\", b, \"<\", c)\n",
    "    else:\n",
    "        if a < c:\n",
    "            print(a, \"<\", c, \"<\", b)\n",
    "        else:\n",
    "            print(c, \"<\", a, \"<\", b)\n",
    "else:\n",
    "    if c < b:\n",
    "        print (c, \"<\", b, \"<\", a)\n",
    "    else:\n",
    "        if c < a:\n",
    "            print (b, \"<\", c, \"<\", a)\n",
    "        else:\n",
    "            print (b, \"<\", a, \"<\", c)"
   ]
  },
  {
   "cell_type": "code",
   "execution_count": 13,
   "id": "660a73f0",
   "metadata": {},
   "outputs": [
    {
     "name": "stdout",
     "output_type": "stream",
     "text": [
      "real and different roots\n",
      "2.0\n",
      "-12.0\n"
     ]
    }
   ],
   "source": [
    "# 29. Build a program that determines the roots of a quartic equation using numerical methods.\n",
    "\n",
    "# Ans:\n",
    "\n",
    "# Python program to find roots of quadratic equation\n",
    "import math\n",
    " \n",
    " # function for finding roots\n",
    "def equationroots( a, b, c):\n",
    " \n",
    "    # calculating discriminant using formula\n",
    "    dis = b * b - 4 * a * c\n",
    "    sqrt_val = math.sqrt(abs(dis))\n",
    "     \n",
    "    # checking condition for discriminant\n",
    "    if dis > 0:\n",
    "        print(\"real and different roots\")\n",
    "        print((-b + sqrt_val)/(2 * a))\n",
    "        print((-b - sqrt_val)/(2 * a))\n",
    "     \n",
    "    elif dis == 0:\n",
    "        print(\"real and same roots\")\n",
    "        print(-b / (2 * a))\n",
    "     \n",
    "    # when discriminant is less than 0\n",
    "    else:\n",
    "        print(\"Complex Roots\")\n",
    "        print(- b / (2 * a), + i, sqrt_val)\n",
    "        print(- b / (2 * a), - i, sqrt_val)\n",
    " # Driver Program\n",
    "a = 1\n",
    "b = 10\n",
    "c = -24\n",
    "\n",
    "# If a is 0, then incorrect equation\n",
    "if a == 0:\n",
    "        print(\"Input correct quadratic equation\")\n",
    "else:\n",
    "    equationroots(a, b, c)"
   ]
  },
  {
   "cell_type": "code",
   "execution_count": 11,
   "id": "3a4d696a",
   "metadata": {},
   "outputs": [
    {
     "name": "stdout",
     "output_type": "stream",
     "text": [
      "Enter your height in meters: 1.58496\n",
      "Enter your weight in kg: 50\n",
      "Your BMI is:  19.9\n"
     ]
    }
   ],
   "source": [
    "# 30. Write a program that calculates the BMI (Body Mass Index) and provides health recommendations based on the user's input.\n",
    "\n",
    "# Ans:\n",
    "def bodymassindex(height, weight): \n",
    "    return round((weight / height**2),2)\n",
    "\n",
    "h = float(input(\"Enter your height in meters: \")) \n",
    "w = float(input(\"Enter your weight in kg: \"))\n",
    "\n",
    "bmi = bodymassindex(h, w) \n",
    "print(\"Your BMI is: \", bmi)"
   ]
  },
  {
   "cell_type": "markdown",
   "id": "3351f6e4",
   "metadata": {},
   "source": [
    "## Challenge Level"
   ]
  },
  {
   "cell_type": "code",
   "execution_count": 19,
   "id": "2e20bf54",
   "metadata": {},
   "outputs": [
    {
     "name": "stdout",
     "output_type": "stream",
     "text": [
      "djehjwdghgh09\n",
      "Invalid Password\n"
     ]
    }
   ],
   "source": [
    "# 31.Create a program that validates a password based on complexity rules (length, characters, etc.).\n",
    "\n",
    "# Ans:\n",
    "\n",
    "l, u, p, d = 0,0,0,0\n",
    "s = input()\n",
    "\n",
    "if len(s) >= 8:\n",
    "    for i in s:\n",
    "        if i.islower():\n",
    "            l+=1\n",
    "        if i.isupper():\n",
    "            u+=1\n",
    "        if i.isdigit():\n",
    "            d+=1\n",
    "        if (i=='@'or i=='$' or i=='_'):\n",
    "            p+=1\n",
    "            \n",
    "if (l>=1 and u>=1 and p>=1 and d>=1 and l+p+u+d==len(s)):\n",
    "    print(\"Valid Password\")\n",
    "else:\n",
    "    print(\"Invalid Password\")"
   ]
  },
  {
   "cell_type": "code",
   "execution_count": 22,
   "id": "53b641d8",
   "metadata": {},
   "outputs": [
    {
     "name": "stdout",
     "output_type": "stream",
     "text": [
      "The gcd of 60 and 48 is : 12\n"
     ]
    }
   ],
   "source": [
    "# 33. Write a program that calculates the greatest common divisor (GCD) of two numbers using the Euclidean algorithm.\n",
    "\n",
    "# Ans:\n",
    "def hcf(a, b):\n",
    "    if(b == 0):\n",
    "        return a\n",
    "    else:\n",
    "        return hcf(b, a % b)\n",
    "a = 60\n",
    "b = 48\n",
    " \n",
    "# prints 12\n",
    "print(\"The gcd of 60 and 48 is : \", end=\"\")\n",
    "print(hcf(60, 48))"
   ]
  },
  {
   "cell_type": "code",
   "execution_count": 28,
   "id": "28ecbfc5",
   "metadata": {},
   "outputs": [
    {
     "name": "stdout",
     "output_type": "stream",
     "text": [
      "[55, 65, 49, 5]\n",
      "[57, 68, 72, 12]\n",
      "[90, 107, 111, 21]\n"
     ]
    }
   ],
   "source": [
    "# 34. Build a program that performs matrix multiplication using nested loops and conditional statements.\n",
    "\n",
    "# Ans:\n",
    "A = [[1, 7, 3],\n",
    "    [3, 5, 6],\n",
    "    [6, 8, 9]]\n",
    "\n",
    "B = [[1, 1, 1, 2],\n",
    "    [6, 7, 3, 0],\n",
    "    [4, 5, 9, 1]]\n",
    "\n",
    "result = [[sum(a * b for a, b in zip(A_row, B_col))\n",
    "                        for B_col in zip(*B)]\n",
    "                                for A_row in A]\n",
    " \n",
    "for r in result:\n",
    "    print(r)"
   ]
  },
  {
   "cell_type": "code",
   "execution_count": null,
   "id": "0e28a488",
   "metadata": {},
   "outputs": [],
   "source": [
    "# 35. Create a program that simulates a basic text-based tic-tac-toe game against the computer.\n",
    "\n",
    "# Ans:\n"
   ]
  },
  {
   "cell_type": "code",
   "execution_count": 2,
   "id": "79dc1e8d",
   "metadata": {},
   "outputs": [
    {
     "name": "stdout",
     "output_type": "stream",
     "text": [
      "1 2 3 5 8 13 21 34 55 89 "
     ]
    }
   ],
   "source": [
    "# 36. Write a program that generates Fibonacci numbers up to a specified term using iterative methods\n",
    "\n",
    "# Ans:\n",
    "\n",
    "n = 10\n",
    "num1 = 0\n",
    "num2 = 1\n",
    "next_number = num2 \n",
    "count = 1\n",
    " \n",
    "while count <= n:\n",
    "    print(next_number, end = ' ')\n",
    "    num1 = num2\n",
    "    num2 = next_number\n",
    "    next_number = num1+num2\n",
    "    count+=1\n",
    "    \n",
    "    \n",
    "# while count <= n:\n",
    "#     print(next_number, end=\" \")\n",
    "#     count += 1\n",
    "#     num1, num2 = num2, next_number\n",
    "#     next_number = num1 + num2\n",
    "# print()\n"
   ]
  },
  {
   "cell_type": "code",
   "execution_count": 3,
   "id": "36d6e705",
   "metadata": {},
   "outputs": [
    {
     "name": "stdout",
     "output_type": "stream",
     "text": [
      "2023\n",
      "10\n",
      "    October 2023\n",
      "Mo Tu We Th Fr Sa Su\n",
      "                   1\n",
      " 2  3  4  5  6  7  8\n",
      " 9 10 11 12 13 14 15\n",
      "16 17 18 19 20 21 22\n",
      "23 24 25 26 27 28 29\n",
      "30 31\n",
      "\n"
     ]
    }
   ],
   "source": [
    "# 38. Create a program that generates a calendar for a given month and year using conditional statements.\n",
    "\n",
    "# Ans:\n",
    "\n",
    "import calendar\n",
    "\n",
    "yy = int(input(\"Enter the year: \"))\n",
    "mm = int(input(\"Enter the month: \"))\n",
    "\n",
    "print(calendar.month(yy,mm))"
   ]
  },
  {
   "cell_type": "code",
   "execution_count": null,
   "id": "99bbb185",
   "metadata": {},
   "outputs": [],
   "source": [
    "# 39. Build a program that simulates a basic text-based blackjack game against the computer\n",
    "\n",
    "# Ans:"
   ]
  },
  {
   "cell_type": "code",
   "execution_count": null,
   "id": "5f12d85f",
   "metadata": {},
   "outputs": [],
   "source": [
    "# 40. Write a program that generates the prime factors of a given number using trial division.\n",
    "\n",
    "# Ans:"
   ]
  }
 ],
 "metadata": {
  "kernelspec": {
   "display_name": "Python 3 (ipykernel)",
   "language": "python",
   "name": "python3"
  },
  "language_info": {
   "codemirror_mode": {
    "name": "ipython",
    "version": 3
   },
   "file_extension": ".py",
   "mimetype": "text/x-python",
   "name": "python",
   "nbconvert_exporter": "python",
   "pygments_lexer": "ipython3",
   "version": "3.9.7"
  }
 },
 "nbformat": 4,
 "nbformat_minor": 5
}
