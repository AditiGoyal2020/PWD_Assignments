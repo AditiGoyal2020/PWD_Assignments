{
 "cells": [
  {
   "cell_type": "markdown",
   "id": "04d897bf",
   "metadata": {},
   "source": [
    "## String Based Assignment Problem"
   ]
  },
  {
   "cell_type": "code",
   "execution_count": 1,
   "id": "644d9908",
   "metadata": {},
   "outputs": [
    {
     "name": "stdout",
     "output_type": "stream",
     "text": [
      "aditi is doing good\n",
      "doog gniod si itida\n"
     ]
    }
   ],
   "source": [
    "# 1. Write a program to reverse a string.\n",
    "\n",
    "#Ans:\n",
    "s = str(input())\n",
    "cs = s.casefold()\n",
    "reversed_str = cs[::-1]\n",
    "print(reversed_str)"
   ]
  },
  {
   "cell_type": "code",
   "execution_count": 3,
   "id": "13decd4d",
   "metadata": {},
   "outputs": [
    {
     "name": "stdout",
     "output_type": "stream",
     "text": [
      "radar\n",
      "The string is palidrome\n"
     ]
    }
   ],
   "source": [
    "# 2. Check if a string is a palindrome.\n",
    "\n",
    "#Ans:\n",
    "s = str(input())\n",
    "s = s.casefold()\n",
    "reversed_str = reversed(s)\n",
    "\n",
    "if list(s) == list(reversed_str):\n",
    "    print('The string is palidrome')\n",
    "else:\n",
    "    print('The string is not palidrome')"
   ]
  },
  {
   "cell_type": "code",
   "execution_count": 4,
   "id": "9dcd7836",
   "metadata": {},
   "outputs": [
    {
     "name": "stdout",
     "output_type": "stream",
     "text": [
      "aditi\n",
      "ADITI\n"
     ]
    }
   ],
   "source": [
    "# 3. Convert a string to uppercase.\n",
    "\n",
    "#Ans:\n",
    "\n",
    "s = str(input())\n",
    "upper_s = s.upper()\n",
    "print(upper_s)"
   ]
  },
  {
   "cell_type": "code",
   "execution_count": 5,
   "id": "acba534a",
   "metadata": {},
   "outputs": [
    {
     "name": "stdout",
     "output_type": "stream",
     "text": [
      "ADITI\n",
      "aditi\n"
     ]
    }
   ],
   "source": [
    "# 4. Convert a string to lowercase.\n",
    "\n",
    "#Ans:\n",
    "\n",
    "s = str(input())\n",
    "lower_s = s.lower()\n",
    "print(lower_s)"
   ]
  },
  {
   "cell_type": "code",
   "execution_count": 26,
   "id": "af2a6d28",
   "metadata": {},
   "outputs": [
    {
     "name": "stdout",
     "output_type": "stream",
     "text": [
      "aditi\n",
      "3\n"
     ]
    }
   ],
   "source": [
    "# 5. Count the number of vowels in a string.\n",
    "\n",
    "#Ans:\n",
    "\n",
    "s = str(input())\n",
    "count= 0\n",
    "\n",
    "for i in s:\n",
    "    if (i == 'a'or i == 'e' or i == 'i'or i =='o'or i =='u' or i =='A' or i== 'E' or i =='I' or i =='O' or i == 'U'):\n",
    "        count=count+1\n",
    "print(\"Number of vowels are:\")\n",
    "print(count)"
   ]
  },
  {
   "cell_type": "code",
   "execution_count": 2,
   "id": "28a8bc8b",
   "metadata": {},
   "outputs": [
    {
     "name": "stdout",
     "output_type": "stream",
     "text": [
      "aditi\n",
      "Number of consonants are:\n",
      "2\n"
     ]
    }
   ],
   "source": [
    "# 6. Count the number of consonants in a string.\n",
    "\n",
    "#Ans:\n",
    "\n",
    "s = str(input())\n",
    "count= 0\n",
    "\n",
    "for i in s:\n",
    "    if (i != 'a'and i != 'e' and i != 'i' and i !='o'and i !='u' and i !='A' and i != 'E' and i !='I' and i !='O' and i != 'U'):\n",
    "        count=count+1\n",
    "print(\"Number of consonants are:\")\n",
    "print(count)"
   ]
  },
  {
   "cell_type": "code",
   "execution_count": 3,
   "id": "ec32ca20",
   "metadata": {},
   "outputs": [
    {
     "name": "stdout",
     "output_type": "stream",
     "text": [
      "      aditi     \n"
     ]
    },
    {
     "data": {
      "text/plain": [
       "'aditi'"
      ]
     },
     "execution_count": 3,
     "metadata": {},
     "output_type": "execute_result"
    }
   ],
   "source": [
    "# 7. Remove all whitespaces from a string.\n",
    "\n",
    "# Ans:\n",
    "s = str(input())\n",
    "\n",
    "s.strip()"
   ]
  },
  {
   "cell_type": "code",
   "execution_count": 6,
   "id": "bb31f90f",
   "metadata": {},
   "outputs": [
    {
     "name": "stdout",
     "output_type": "stream",
     "text": [
      "aditi\n",
      "5\n"
     ]
    }
   ],
   "source": [
    "# 8. Find the length of a string without using the `len()` function.\n",
    "\n",
    "# Ans:\n",
    "\n",
    "s = str(input())\n",
    "count = 0\n",
    "for i in s:\n",
    "    count = count+1\n",
    "print('length of string is:')\n",
    "print(count)"
   ]
  },
  {
   "cell_type": "code",
   "execution_count": 16,
   "id": "0e802c06",
   "metadata": {},
   "outputs": [
    {
     "name": "stdout",
     "output_type": "stream",
     "text": [
      "how are you\n",
      "me\n",
      "Not success\n"
     ]
    }
   ],
   "source": [
    "# 9. Check if a string contains a specific word.\n",
    "\n",
    "# Ans:\n",
    "\n",
    "s = str(input())\n",
    "specific_word = str(input())\n",
    "\n",
    "if specific_word in s:\n",
    "    print('success')\n",
    "else:\n",
    "    print('Not success')\n"
   ]
  },
  {
   "cell_type": "code",
   "execution_count": 1,
   "id": "ef5a189e",
   "metadata": {},
   "outputs": [
    {
     "name": "stdout",
     "output_type": "stream",
     "text": [
      "how are you\n"
     ]
    },
    {
     "data": {
      "text/plain": [
       "'are are you'"
      ]
     },
     "execution_count": 1,
     "metadata": {},
     "output_type": "execute_result"
    }
   ],
   "source": [
    "# 10. Replace a word in a string with another word.\n",
    "\n",
    "#Ans:\n",
    "\n",
    "s = str(input())\n",
    "s.replace('how', 'are')"
   ]
  },
  {
   "cell_type": "code",
   "execution_count": 2,
   "id": "c8e6461a",
   "metadata": {},
   "outputs": [
    {
     "name": "stdout",
     "output_type": "stream",
     "text": [
      "how are are you\n"
     ]
    },
    {
     "data": {
      "text/plain": [
       "2"
      ]
     },
     "execution_count": 2,
     "metadata": {},
     "output_type": "execute_result"
    }
   ],
   "source": [
    "# 11. Count the occurrences of a word in a string.\n",
    "\n",
    "# Ans:\n",
    "s = str(input())\n",
    "s.count('are')"
   ]
  },
  {
   "cell_type": "code",
   "execution_count": 3,
   "id": "9823b9f4",
   "metadata": {},
   "outputs": [
    {
     "name": "stdout",
     "output_type": "stream",
     "text": [
      "how are you what are you hobbies\n"
     ]
    },
    {
     "data": {
      "text/plain": [
       "4"
      ]
     },
     "execution_count": 3,
     "metadata": {},
     "output_type": "execute_result"
    }
   ],
   "source": [
    "# 12. Find the first occurrence of a word in a string.\n",
    "\n",
    "# Ans:\n",
    "s = str(input())\n",
    "s.find('are')"
   ]
  },
  {
   "cell_type": "code",
   "execution_count": 4,
   "id": "cead2779",
   "metadata": {},
   "outputs": [
    {
     "name": "stdout",
     "output_type": "stream",
     "text": [
      "how are you what are your hobbies\n"
     ]
    },
    {
     "data": {
      "text/plain": [
       "17"
      ]
     },
     "execution_count": 4,
     "metadata": {},
     "output_type": "execute_result"
    }
   ],
   "source": [
    "# 13. Find the last occurrence of a word in a string.\n",
    "\n",
    "# Ans:\n",
    "s = str(input())\n",
    "s.rfind('are')"
   ]
  },
  {
   "cell_type": "code",
   "execution_count": 23,
   "id": "cffa46ac",
   "metadata": {},
   "outputs": [
    {
     "name": "stdout",
     "output_type": "stream",
     "text": [
      "aditi is good\n"
     ]
    },
    {
     "data": {
      "text/plain": [
       "['aditi', 'is', 'good']"
      ]
     },
     "execution_count": 23,
     "metadata": {},
     "output_type": "execute_result"
    }
   ],
   "source": [
    "# 14. Split a string into a list of words.\n",
    "\n",
    "# Ans:\n",
    "\n",
    "s = str(input())\n",
    "s.split()\n",
    "# for i in s:\n",
    "#     list_s.append(i)\n",
    "# print(list_s)"
   ]
  },
  {
   "cell_type": "code",
   "execution_count": 3,
   "id": "9a800f95",
   "metadata": {},
   "outputs": [
    {
     "data": {
      "text/plain": [
       "'nagsdhsnmsjdndfhd'"
      ]
     },
     "execution_count": 3,
     "metadata": {},
     "output_type": "execute_result"
    }
   ],
   "source": [
    "# 15. Join a list of words into a string.\n",
    "\n",
    "# Ans:\n",
    "\n",
    "list = ['nagsdhs', 'nmsjd', 'ndfhd']\n",
    "str = ''\n",
    "str.join(list)"
   ]
  },
  {
   "cell_type": "code",
   "execution_count": 2,
   "id": "89a793ea",
   "metadata": {},
   "outputs": [
    {
     "name": "stdout",
     "output_type": "stream",
     "text": [
      "aditi is working with mnc\n"
     ]
    },
    {
     "data": {
      "text/plain": [
       "'aditi_is_working_with_mnc'"
      ]
     },
     "execution_count": 2,
     "metadata": {},
     "output_type": "execute_result"
    }
   ],
   "source": [
    "# 16. Convert a string where words are separated by spaces to one where words are separated by underscores.\n",
    "\n",
    "#Ans:\n",
    "s = str(input())\n",
    "s.replace(' ', \"_\")"
   ]
  },
  {
   "cell_type": "code",
   "execution_count": 4,
   "id": "df603a86",
   "metadata": {},
   "outputs": [
    {
     "name": "stdout",
     "output_type": "stream",
     "text": [
      "ashish is a great person\n"
     ]
    },
    {
     "data": {
      "text/plain": [
       "False"
      ]
     },
     "execution_count": 4,
     "metadata": {},
     "output_type": "execute_result"
    }
   ],
   "source": [
    "# 17. Check if a string starts with a specific word or phrase.\n",
    "\n",
    "# Ans:\n",
    "s = str(input())\n",
    "s.startswith('aditi')"
   ]
  },
  {
   "cell_type": "code",
   "execution_count": 5,
   "id": "9a39767e",
   "metadata": {},
   "outputs": [
    {
     "name": "stdout",
     "output_type": "stream",
     "text": [
      "what are you doing aditi\n"
     ]
    },
    {
     "data": {
      "text/plain": [
       "True"
      ]
     },
     "execution_count": 5,
     "metadata": {},
     "output_type": "execute_result"
    }
   ],
   "source": [
    "# 18. Check if a string ends with a specific word or phrase.\n",
    "\n",
    "# Ans:\n",
    "s = str(input())\n",
    "s.endswith('aditi')"
   ]
  },
  {
   "cell_type": "code",
   "execution_count": 6,
   "id": "11806f1e",
   "metadata": {},
   "outputs": [
    {
     "name": "stdout",
     "output_type": "stream",
     "text": [
      "hello world\n"
     ]
    },
    {
     "data": {
      "text/plain": [
       "'Hello World'"
      ]
     },
     "execution_count": 6,
     "metadata": {},
     "output_type": "execute_result"
    }
   ],
   "source": [
    "# 19. Convert a string to title case (e.g., \"hello world\" to \"Hello World\").\n",
    "\n",
    "# Ans:\n",
    "s = str(input())\n",
    "s.title()"
   ]
  },
  {
   "cell_type": "code",
   "execution_count": 5,
   "id": "d47273b3",
   "metadata": {},
   "outputs": [
    {
     "name": "stdout",
     "output_type": "stream",
     "text": [
      "aditi is a data science learner\n",
      "Longest Word: science\n",
      "Index position of the longest word is:  4\n"
     ]
    }
   ],
   "source": [
    "# 20. Find the longest word in a string.\n",
    "\n",
    "#Ans:\n",
    "s = str(input())\n",
    "sp = s.split(' ')\n",
    "\n",
    "longest_word = max(sp, key= len)\n",
    "print('Longest Word:', longest_word)\n",
    "print('Index position of the longest word is: ', sp.index(longest_word))"
   ]
  },
  {
   "cell_type": "code",
   "execution_count": 7,
   "id": "93141bcc",
   "metadata": {},
   "outputs": [
    {
     "name": "stdout",
     "output_type": "stream",
     "text": [
      "aditi_is_learner\n",
      "Shortest Word: aditi_is_learner\n",
      "Index position of the longest word is:  0\n"
     ]
    }
   ],
   "source": [
    "# 21. Find the shortest word in a string.\n",
    "\n",
    "# Ans:\n",
    "s = str(input())\n",
    "sp = s.split(' ')\n",
    "\n",
    "Shortest_word = min(sp, key= len)\n",
    "print('Shortest Word:', Shortest_word)\n",
    "print('Index position of the longest word is: ', sp.index(Shortest_word))"
   ]
  },
  {
   "cell_type": "code",
   "execution_count": 2,
   "id": "7c805a3f",
   "metadata": {},
   "outputs": [
    {
     "name": "stdout",
     "output_type": "stream",
     "text": [
      "my name is aditi\n",
      "['aditi', 'is', 'name', 'my']\n",
      "['aditi', 'is', 'name', 'my']\n"
     ]
    },
    {
     "data": {
      "text/plain": [
       "str"
      ]
     },
     "execution_count": 2,
     "metadata": {},
     "output_type": "execute_result"
    }
   ],
   "source": [
    "#22. Reverse the order of words in a string.\n",
    "\n",
    "# Ans:\n",
    "s = str(input())\n",
    "sp = s.split(' ')\n",
    "\n",
    "new_str = sp[::-1]\n",
    "\n",
    "print(new_str)\n",
    "\n",
    "str_new = str(new_str)\n",
    "print(str_new)\n",
    "type(str_new)"
   ]
  },
  {
   "cell_type": "code",
   "execution_count": 4,
   "id": "3aa6edf1",
   "metadata": {},
   "outputs": [
    {
     "name": "stdout",
     "output_type": "stream",
     "text": [
      "aditi429\n"
     ]
    },
    {
     "data": {
      "text/plain": [
       "True"
      ]
     },
     "execution_count": 4,
     "metadata": {},
     "output_type": "execute_result"
    }
   ],
   "source": [
    "# 23. Check if a string is alphanumeric.\n",
    "\n",
    "# Ans:\n",
    "s = str(input())\n",
    "s.isalnum()\n"
   ]
  },
  {
   "cell_type": "code",
   "execution_count": 4,
   "id": "0104591c",
   "metadata": {},
   "outputs": [
    {
     "data": {
      "text/plain": [
       "['42', '32', '30']"
      ]
     },
     "execution_count": 4,
     "metadata": {},
     "output_type": "execute_result"
    }
   ],
   "source": [
    "# 24. Extract all digits from a string.\n",
    "\n",
    "# Ans:\n",
    "import re\n",
    "re.findall(r'\\d+', \"hello 42 I'm a 32 string 30\")"
   ]
  },
  {
   "cell_type": "code",
   "execution_count": 7,
   "id": "04a7588b",
   "metadata": {},
   "outputs": [
    {
     "data": {
      "text/plain": [
       "['hello', 'I', 'm', 'a', 'string']"
      ]
     },
     "execution_count": 7,
     "metadata": {},
     "output_type": "execute_result"
    }
   ],
   "source": [
    "# 25. Extract all alphabets from a string.\n",
    "\n",
    "# Ans:\n",
    "import re\n",
    "re.findall(r\"[a-zA-Z]+\", \"hello 42 I'm a 32 string 30\")"
   ]
  },
  {
   "cell_type": "code",
   "execution_count": 14,
   "id": "43a1b64d",
   "metadata": {},
   "outputs": [
    {
     "name": "stdout",
     "output_type": "stream",
     "text": [
      "aditi IS Doing Great\n",
      "4\n"
     ]
    }
   ],
   "source": [
    "# 26. Count the number of uppercase letters in a string.\n",
    "\n",
    "#Ans:\n",
    "s = str(input())\n",
    "import re\n",
    "new_list = re.findall(r\"[A-Z]\",s)\n",
    "count = 0\n",
    "\n",
    "for i in new_list:\n",
    "    count+=1\n",
    "print(count)"
   ]
  },
  {
   "cell_type": "code",
   "execution_count": 15,
   "id": "c7295322",
   "metadata": {},
   "outputs": [
    {
     "name": "stdout",
     "output_type": "stream",
     "text": [
      "aditi is Doing great\n",
      "16\n"
     ]
    }
   ],
   "source": [
    "# 27. Count the number of lowercase letters in a string.\n",
    "\n",
    "# Ans:\n",
    "\n",
    "s = str(input())\n",
    "import re\n",
    "new_list = re.findall(r\"[a-z]\",s)\n",
    "count = 0\n",
    "\n",
    "for i in new_list:\n",
    "    count+=1\n",
    "print(count)"
   ]
  },
  {
   "cell_type": "code",
   "execution_count": 17,
   "id": "f1aa9885",
   "metadata": {},
   "outputs": [
    {
     "name": "stdout",
     "output_type": "stream",
     "text": [
      "ADITI\n"
     ]
    },
    {
     "data": {
      "text/plain": [
       "'aditi'"
      ]
     },
     "execution_count": 17,
     "metadata": {},
     "output_type": "execute_result"
    }
   ],
   "source": [
    "# 28. Swap the case of each character in a string.\n",
    "\n",
    "#Ans:\n",
    "s = str(input())\n",
    "s.swapcase()"
   ]
  },
  {
   "cell_type": "code",
   "execution_count": 19,
   "id": "e6c97038",
   "metadata": {},
   "outputs": [
    {
     "name": "stdout",
     "output_type": "stream",
     "text": [
      "x is a good person\n"
     ]
    },
    {
     "data": {
      "text/plain": [
       "' is a good person'"
      ]
     },
     "execution_count": 19,
     "metadata": {},
     "output_type": "execute_result"
    }
   ],
   "source": [
    "# 29. Remove a specific word from a string.\n",
    "\n",
    "# Ans:\n",
    "s = str(input())\n",
    "s.strip('x')"
   ]
  },
  {
   "cell_type": "code",
   "execution_count": 21,
   "id": "e8bd73b8",
   "metadata": {},
   "outputs": [
    {
     "data": {
      "text/plain": [
       "('', 'goyaladiti429@gmail.com')"
      ]
     },
     "execution_count": 21,
     "metadata": {},
     "output_type": "execute_result"
    }
   ],
   "source": [
    "# 30. Check if a string is a valid email address.\n",
    "\n",
    "# Ans:\n",
    "from email.utils import parseaddr\n",
    "    \n",
    "parseaddr('goyaladiti429@gmail.com')"
   ]
  },
  {
   "cell_type": "code",
   "execution_count": 2,
   "id": "181eb0a2",
   "metadata": {},
   "outputs": [
    {
     "name": "stdout",
     "output_type": "stream",
     "text": [
      "goyaladiti429@gmailcom\n"
     ]
    },
    {
     "data": {
      "text/plain": [
       "'goyaladiti429'"
      ]
     },
     "execution_count": 2,
     "metadata": {},
     "output_type": "execute_result"
    }
   ],
   "source": [
    "# 31. Extract the username from an email address string.\n",
    "\n",
    "#Ans:\n",
    "s = str(input())\n",
    "sn = s.split('@')\n",
    "sn[0]\n"
   ]
  },
  {
   "cell_type": "code",
   "execution_count": 3,
   "id": "d3d2d7c3",
   "metadata": {},
   "outputs": [
    {
     "name": "stdout",
     "output_type": "stream",
     "text": [
      "goyaladiti429@gmailcom\n"
     ]
    },
    {
     "data": {
      "text/plain": [
       "'gmailcom'"
      ]
     },
     "execution_count": 3,
     "metadata": {},
     "output_type": "execute_result"
    }
   ],
   "source": [
    "# 32. Extract the domain name from an email address string.\n",
    "\n",
    "# Ans:\n",
    "s = str(input())\n",
    "sn = s.split('@')\n",
    "sn[1]"
   ]
  },
  {
   "cell_type": "code",
   "execution_count": 8,
   "id": "bb3f5e2c",
   "metadata": {},
   "outputs": [
    {
     "name": "stdout",
     "output_type": "stream",
     "text": [
      "That is a           test for removing\n",
      "That is a test for removing\n"
     ]
    }
   ],
   "source": [
    "# 33. Replace multiple spaces in a string with a single space.\n",
    "\n",
    "#Ans:\n",
    "import re\n",
    "s = str(input())\n",
    "document = re.sub(r'\\s+', \" \", s, flags= re.I)\n",
    "print(document)"
   ]
  },
  {
   "cell_type": "code",
   "execution_count": 4,
   "id": "27bbfa27",
   "metadata": {},
   "outputs": [
    {
     "name": "stdout",
     "output_type": "stream",
     "text": [
      "Urls:  ['https://auth.geeksforgeeks.org/user/Chinmoy%20Lenka/articles', 'https://www.geeksforgeeks.org/']\n"
     ]
    }
   ],
   "source": [
    "# 34. Check if a string is a valid URL.\n",
    "\n",
    "# Ans:\n",
    "import re\n",
    "\n",
    "def Find(string):\n",
    "    regex = r\"(?i)\\b((?:https?://|www\\d{0,3}[.]|[a-z0-9.\\-]+[.][a-z]{2,4}/)(?:[^\\s()<>]+|\\(([^\\s()<>]+|(\\([^\\s()<>]+\\)))*\\))+(?:\\(([^\\s()<>]+|(\\([^\\s()<>]+\\)))*\\)|[^\\s`!()\\[\\]{};:'\\\".,<>?«»“”‘’]))\"\n",
    "    url = re.findall(regex, string)\n",
    "    return [x[0] for x in url]\n",
    " \n",
    "\n",
    "string = 'My Profile: https://auth.geeksforgeeks.org/user/Chinmoy%20Lenka/articles in the portal of https://www.geeksforgeeks.org/'\n",
    "print(\"Urls: \", Find(string))"
   ]
  },
  {
   "cell_type": "code",
   "execution_count": 15,
   "id": "eab0d38f",
   "metadata": {},
   "outputs": [
    {
     "name": "stdout",
     "output_type": "stream",
     "text": [
      "geeksforgeeks\n",
      "Count of all characters in GeeksforGeeks is :\n",
      " {'g': 2, 'e': 4, 'k': 2, 's': 2, 'f': 1, 'o': 1, 'r': 1}\n"
     ]
    }
   ],
   "source": [
    "# 36. Find the frequency of each character in a string.\n",
    "\n",
    "#Ans:\n",
    "\n",
    "s = str(input())\n",
    "all_freq = {}\n",
    " \n",
    "for i in s:\n",
    "    if i in all_freq:\n",
    "        all_freq[i] += 1\n",
    "    else:\n",
    "        all_freq[i] = 1\n",
    " \n",
    "print(\"Count of all characters in GeeksforGeeks is :\\n \"\n",
    "      + str(all_freq))        "
   ]
  },
  {
   "cell_type": "code",
   "execution_count": 7,
   "id": "1356a0ee",
   "metadata": {},
   "outputs": [
    {
     "name": "stdout",
     "output_type": "stream",
     "text": [
      "aditi doing great\n"
     ]
    }
   ],
   "source": [
    "# 37. Remove all punctuation from a string.\n",
    "\n",
    "#Ans:\n",
    "import re\n",
    "import string\n",
    "\n",
    "s = 'aditi doing great!!!...'\n",
    "punc = '''!()-[]{};:'\"\\,<>./?@#$%^&*_~'''\n",
    "\n",
    "for i in s:\n",
    "    if i in punc:\n",
    "        s = s.replace(i, \"\")\n",
    "        \n",
    "print(s)"
   ]
  },
  {
   "cell_type": "code",
   "execution_count": 19,
   "id": "4f27665f",
   "metadata": {},
   "outputs": [
    {
     "name": "stdout",
     "output_type": "stream",
     "text": [
      "73486478\n"
     ]
    },
    {
     "data": {
      "text/plain": [
       "True"
      ]
     },
     "execution_count": 19,
     "metadata": {},
     "output_type": "execute_result"
    }
   ],
   "source": [
    "# 38. Check if a string contains only digits.\n",
    "\n",
    "#Ans:\n",
    "\n",
    "s = str(input())\n",
    "s.isdigit()"
   ]
  },
  {
   "cell_type": "code",
   "execution_count": 21,
   "id": "20f2c080",
   "metadata": {},
   "outputs": [
    {
     "name": "stdout",
     "output_type": "stream",
     "text": [
      "dfshjhjdsh\n"
     ]
    },
    {
     "data": {
      "text/plain": [
       "True"
      ]
     },
     "execution_count": 21,
     "metadata": {},
     "output_type": "execute_result"
    }
   ],
   "source": [
    "# 39. Check if a string contains only alphabets.\n",
    "\n",
    "#Ans:\n",
    "\n",
    "s = str(input())\n",
    "s.isalpha()"
   ]
  },
  {
   "cell_type": "code",
   "execution_count": 25,
   "id": "6f65c6c6",
   "metadata": {},
   "outputs": [
    {
     "name": "stdout",
     "output_type": "stream",
     "text": [
      "aditi is geat\n",
      "['a', 'd', 'i', 't', 'i', ' ', 'i', 's', ' ', 'g', 'e', 'a', 't']\n"
     ]
    }
   ],
   "source": [
    "# 40. Convert a string to a list of characters.\n",
    "\n",
    "# Ans:\n",
    "\n",
    "s = str(input())\n",
    "list_s = []\n",
    "for i in s:\n",
    "    list_s.append(i)\n",
    "print(list_s)"
   ]
  },
  {
   "cell_type": "code",
   "execution_count": 34,
   "id": "1b7ff3ef",
   "metadata": {},
   "outputs": [
    {
     "name": "stdout",
     "output_type": "stream",
     "text": [
      "geeksforpeeks\n",
      "geeksforpeaks\n",
      "strings are not agagrams\n"
     ]
    }
   ],
   "source": [
    "# 41. Check if two strings are anagrams.\n",
    "\n",
    "# Ans:\n",
    "\n",
    "str_1 = str(input())\n",
    "str_2 = str(input())\n",
    "\n",
    "str_1 = str_1.lower()\n",
    "str_2 = str_2.lower()\n",
    "\n",
    "\n",
    "if(len(str_1) == len(str_2)):\n",
    "    sorted_str1 = sorted(str_1)\n",
    "    sorted_str2 = sorted(str_2)\n",
    "    if(sorted_str1 == sorted_str2):\n",
    "        print('strings are agagrams')   \n",
    "    else:\n",
    "        print('strings are not agagrams')\n",
    "else:\n",
    "    print('strings are not agagrams.')"
   ]
  },
  {
   "cell_type": "code",
   "execution_count": null,
   "id": "3f9f1aaa",
   "metadata": {},
   "outputs": [],
   "source": [
    "# 42. Encode a string using a Caesar cipher.\n",
    "\n",
    "#Ans:"
   ]
  },
  {
   "cell_type": "code",
   "execution_count": null,
   "id": "5ccf190c",
   "metadata": {},
   "outputs": [],
   "source": [
    "# 43. Decode a Caesar cipher encoded string.\n",
    "\n",
    "#Ans:"
   ]
  },
  {
   "cell_type": "code",
   "execution_count": 44,
   "id": "b144986f",
   "metadata": {},
   "outputs": [
    {
     "name": "stdout",
     "output_type": "stream",
     "text": [
      "Most frequent word is:  Aditi\n"
     ]
    }
   ],
   "source": [
    "# 44. Find the most frequent word in a string.\n",
    "\n",
    "# Ans:\n",
    "s = \"Aditi is doing great Aditi \"\n",
    "s = s.split()\n",
    "\n",
    "most_frequent = max(s, key = s.count)\n",
    "print(\"Most frequent word is: \", most_frequent)"
   ]
  },
  {
   "cell_type": "code",
   "execution_count": 5,
   "id": "e19da891",
   "metadata": {},
   "outputs": [
    {
     "name": "stdout",
     "output_type": "stream",
     "text": [
      "geeks for geeks\n",
      "['geeks', 'for']\n"
     ]
    }
   ],
   "source": [
    "#45.Find all unique words in a string.\n",
    "\n",
    "#Ans:\n",
    "s = str(input())\n",
    "list = s.split()\n",
    "unique = []\n",
    "\n",
    "for i in list:\n",
    "    if i not in unique:\n",
    "        unique.append(i)\n",
    "print(unique)"
   ]
  },
  {
   "cell_type": "code",
   "execution_count": 3,
   "id": "762d30f7",
   "metadata": {},
   "outputs": [
    {
     "name": "stdout",
     "output_type": "stream",
     "text": [
      "1\n"
     ]
    }
   ],
   "source": [
    "# 46. Count the number of syllables in a string.\n",
    "\n",
    "#Ans:\n",
    "def syllable_count(word):\n",
    "    count = 0\n",
    "    vowels = \"aeiouy\"\n",
    "    if word[0] in vowels:\n",
    "        count += 1\n",
    "    for index in range(1, len(word)):\n",
    "        if word[index] in vowels and word[index - 1] not in vowels:\n",
    "            count += 1\n",
    "            if word.endswith(\"e\"):\n",
    "                count -= 1\n",
    "    if count == 0:\n",
    "        count += 1\n",
    "    return count\n",
    "\n",
    "print(syllable_count(\"HAIRY\"))"
   ]
  },
  {
   "cell_type": "code",
   "execution_count": 12,
   "id": "1bf70915",
   "metadata": {},
   "outputs": [
    {
     "name": "stdout",
     "output_type": "stream",
     "text": [
      "aditi! are you sure? ()\n",
      "['!', '?', '(', ')']\n"
     ]
    }
   ],
   "source": [
    "# 47. Check if a string contains any special characters.\n",
    "\n",
    "# Ans:\n",
    "special_characters = \"!@#$%^&*()-+?_=,<>/\"\n",
    "s = str(input())\n",
    "special_character = []\n",
    "\n",
    "for i in s:\n",
    "    if i in special_characters:\n",
    "        special_character.append(i)\n",
    "print(special_character)"
   ]
  },
  {
   "cell_type": "code",
   "execution_count": 2,
   "id": "68c7c930",
   "metadata": {},
   "outputs": [
    {
     "name": "stdout",
     "output_type": "stream",
     "text": [
      "aditi is going somewhere\n",
      "somewhere\n",
      "aditi is going \n"
     ]
    }
   ],
   "source": [
    "# 48. Remove the nth word from a string.\n",
    "\n",
    "# Ans:\n",
    "s = str(input())\n",
    "n = str(input())\n",
    "\n",
    "\n",
    "print(s.strip(n))\n",
    "\n"
   ]
  },
  {
   "cell_type": "code",
   "execution_count": 9,
   "id": "884678bc",
   "metadata": {},
   "outputs": [
    {
     "data": {
      "text/plain": [
       "'my name is aditi goyal'"
      ]
     },
     "execution_count": 9,
     "metadata": {},
     "output_type": "execute_result"
    }
   ],
   "source": [
    "# 49. Insert a word at the nth position in a string.\n",
    "\n",
    "# Ans:\n",
    "\n",
    "s = 'my name is aditi'\n",
    "s [0:16] +\" \" +'goyal'"
   ]
  },
  {
   "cell_type": "code",
   "execution_count": 61,
   "id": "09255fb7",
   "metadata": {},
   "outputs": [
    {
     "ename": "TypeError",
     "evalue": "'list' object is not callable",
     "output_type": "error",
     "traceback": [
      "\u001b[1;31m---------------------------------------------------------------------------\u001b[0m",
      "\u001b[1;31mTypeError\u001b[0m                                 Traceback (most recent call last)",
      "\u001b[1;32mC:\\Users\\ADITIG~1\\AppData\\Local\\Temp/ipykernel_26108/3144415247.py\u001b[0m in \u001b[0;36m<module>\u001b[1;34m\u001b[0m\n\u001b[0;32m      9\u001b[0m \u001b[0mrows\u001b[0m \u001b[1;33m=\u001b[0m \u001b[0mcsv\u001b[0m\u001b[1;33m.\u001b[0m\u001b[0mreader\u001b[0m\u001b[1;33m(\u001b[0m\u001b[0mreadCSV\u001b[0m\u001b[1;33m)\u001b[0m\u001b[1;33m\u001b[0m\u001b[1;33m\u001b[0m\u001b[0m\n\u001b[0;32m     10\u001b[0m \u001b[1;33m\u001b[0m\u001b[0m\n\u001b[1;32m---> 11\u001b[1;33m \u001b[0mres\u001b[0m \u001b[1;33m=\u001b[0m \u001b[0mlist\u001b[0m\u001b[1;33m(\u001b[0m\u001b[0mzip\u001b[0m\u001b[1;33m(\u001b[0m\u001b[1;33m*\u001b[0m\u001b[0mrows\u001b[0m\u001b[1;33m)\u001b[0m\u001b[1;33m)\u001b[0m\u001b[1;33m\u001b[0m\u001b[1;33m\u001b[0m\u001b[0m\n\u001b[0m\u001b[0;32m     12\u001b[0m \u001b[1;33m\u001b[0m\u001b[0m\n\u001b[0;32m     13\u001b[0m \u001b[0mprint\u001b[0m\u001b[1;33m(\u001b[0m\u001b[0mres\u001b[0m\u001b[1;33m)\u001b[0m\u001b[1;33m\u001b[0m\u001b[1;33m\u001b[0m\u001b[0m\n",
      "\u001b[1;31mTypeError\u001b[0m: 'list' object is not callable"
     ]
    }
   ],
   "source": [
    "# 50. Convert a CSV string to a list of lists.\n",
    "\n",
    "# Ans:\n",
    "\n",
    "import csv\n",
    "\n",
    "readCSV = open('heart_disease.csv', 'r')\n",
    "\n",
    "rows = csv.reader(readCSV)\n",
    "\n",
    "res = list(zip(*rows))\n",
    "\n",
    "print(res)\n",
    "\n",
    "#     # Return a reader object which will\n",
    "#     # iterate over lines in the given csvfile\n",
    "# #     csv_reader = csv.reader(read_obj)\n",
    "  \n",
    "#     # convert string to list\n",
    "# list_of_csv = list(readCSV)\n",
    "  \n",
    "# print(list_of_csv)"
   ]
  },
  {
   "cell_type": "markdown",
   "id": "7ecbbf8c",
   "metadata": {},
   "source": [
    "## List Based Practice Problem"
   ]
  },
  {
   "cell_type": "code",
   "execution_count": 14,
   "id": "2045f4e5",
   "metadata": {},
   "outputs": [
    {
     "name": "stdout",
     "output_type": "stream",
     "text": [
      "[0, 1, 2, 3, 4, 5, 6, 7, 8, 9, 10]\n"
     ]
    }
   ],
   "source": [
    "# 1. Create a list with integers from 1 to 10.\n",
    "\n",
    "# Ans:\n",
    "list = []\n",
    "\n",
    "for i in range(0,11,1):\n",
    "    list.append(i)\n",
    "print(list)"
   ]
  },
  {
   "cell_type": "code",
   "execution_count": 17,
   "id": "668a4c08",
   "metadata": {},
   "outputs": [
    {
     "name": "stdout",
     "output_type": "stream",
     "text": [
      "4\n"
     ]
    }
   ],
   "source": [
    "# 2. Find the length of a list without using the `len()` function.\n",
    "\n",
    "# Ans:\n",
    "count = 0\n",
    "list = [2,78,9,10]\n",
    "for i in list:\n",
    "    count+=1\n",
    "print(count)"
   ]
  },
  {
   "cell_type": "code",
   "execution_count": 19,
   "id": "fd412c19",
   "metadata": {},
   "outputs": [
    {
     "name": "stdout",
     "output_type": "stream",
     "text": [
      "[2, 78, 9, 10, 67, 67]\n"
     ]
    }
   ],
   "source": [
    "# 3. Append an element to the end of a list.\n",
    "\n",
    "#Ans:\n",
    "list.append(67)\n",
    "print(list)"
   ]
  },
  {
   "cell_type": "code",
   "execution_count": 22,
   "id": "d5c8d059",
   "metadata": {},
   "outputs": [
    {
     "name": "stdout",
     "output_type": "stream",
     "text": [
      "[2, 78, 89, 9, 10, 67, 67, 2, 2]\n"
     ]
    }
   ],
   "source": [
    "# 4. Insert an element at a specific index in a list.\n",
    "\n",
    "# Ans:\n",
    "list.insert(2,89)\n",
    "print(list)"
   ]
  },
  {
   "cell_type": "code",
   "execution_count": 23,
   "id": "ebd7496c",
   "metadata": {},
   "outputs": [
    {
     "name": "stdout",
     "output_type": "stream",
     "text": [
      "[2, 78, 89, 9, 10, 67, 2, 2]\n"
     ]
    }
   ],
   "source": [
    "# 5. Remove an element from a list by its value.\n",
    "\n",
    "# Ans:\n",
    "list.remove(67)\n",
    "print(list)"
   ]
  },
  {
   "cell_type": "code",
   "execution_count": 25,
   "id": "9a2e3dc1",
   "metadata": {},
   "outputs": [
    {
     "name": "stdout",
     "output_type": "stream",
     "text": [
      "[2, 9, 10, 67, 2, 2]\n"
     ]
    }
   ],
   "source": [
    "# 6. Remove an element from a list by its index.\n",
    "\n",
    "# Ans:\n",
    "list.pop(1)\n",
    "print(list)"
   ]
  },
  {
   "cell_type": "code",
   "execution_count": 28,
   "id": "3c9a5b28",
   "metadata": {},
   "outputs": [
    {
     "name": "stdout",
     "output_type": "stream",
     "text": [
      "Target element is:67\n",
      "Status:  Yes\n"
     ]
    }
   ],
   "source": [
    "# 7. Check if an element exists in a list.\n",
    "# Ans:\n",
    "\n",
    "i = int(input(\"Target element is:\"))  \n",
    "if i in list:\n",
    "    print(\"Status: \",'Yes')\n",
    "else:\n",
    "    print('No')"
   ]
  },
  {
   "cell_type": "code",
   "execution_count": 29,
   "id": "3bfbc44c",
   "metadata": {},
   "outputs": [
    {
     "data": {
      "text/plain": [
       "3"
      ]
     },
     "execution_count": 29,
     "metadata": {},
     "output_type": "execute_result"
    }
   ],
   "source": [
    "# 8. Find the index of the first occurrence of an element in a list.\n",
    "\n",
    "#Ans:\n",
    "list.index(67)"
   ]
  },
  {
   "cell_type": "code",
   "execution_count": 32,
   "id": "dd1cb6ea",
   "metadata": {},
   "outputs": [
    {
     "name": "stdout",
     "output_type": "stream",
     "text": [
      "67\n",
      "Frequency of element is: 1\n"
     ]
    }
   ],
   "source": [
    "# 9. Count the occurrences of an element in a list.\n",
    "\n",
    "# Ans:\n",
    "element = int(input())\n",
    "print('Frequency of element is:' ,list.count(element))"
   ]
  },
  {
   "cell_type": "code",
   "execution_count": 33,
   "id": "6068c665",
   "metadata": {},
   "outputs": [
    {
     "data": {
      "text/plain": [
       "[2, 2, 67, 10, 9, 2]"
      ]
     },
     "execution_count": 33,
     "metadata": {},
     "output_type": "execute_result"
    }
   ],
   "source": [
    "# 10. Reverse the order of elements in a list.\n",
    "\n",
    "# Ans:\n",
    "list[::-1]"
   ]
  },
  {
   "cell_type": "code",
   "execution_count": 37,
   "id": "afe4e5f6",
   "metadata": {},
   "outputs": [
    {
     "name": "stdout",
     "output_type": "stream",
     "text": [
      "[2, 2, 2, 9, 10, 67]\n"
     ]
    }
   ],
   "source": [
    "# 11. Sort a list in ascending order.\n",
    "\n",
    "# Ans:\n",
    "list.sort()\n",
    "print(list)"
   ]
  },
  {
   "cell_type": "code",
   "execution_count": 39,
   "id": "f79842d0",
   "metadata": {},
   "outputs": [
    {
     "name": "stdout",
     "output_type": "stream",
     "text": [
      "[67, 10, 9, 2, 2, 2]\n"
     ]
    }
   ],
   "source": [
    "# 12. Sort a list in descending order.\n",
    "\n",
    "# Ans:\n",
    "list.sort(reverse= True)\n",
    "print(list)"
   ]
  },
  {
   "cell_type": "code",
   "execution_count": 48,
   "id": "37d09038",
   "metadata": {},
   "outputs": [
    {
     "name": "stdout",
     "output_type": "stream",
     "text": [
      "[0, 2, 4, 6, 8, 10, 12, 14, 16, 18]\n"
     ]
    }
   ],
   "source": [
    "# 13. Create a list of even numbers from 1 to 20.\n",
    "\n",
    "# Ans:\n",
    "l = []\n",
    "for i in range(0,20):\n",
    "    if  i%2==0:\n",
    "        l.append(i)\n",
    "print(l)"
   ]
  },
  {
   "cell_type": "code",
   "execution_count": 51,
   "id": "45f009e0",
   "metadata": {},
   "outputs": [
    {
     "name": "stdout",
     "output_type": "stream",
     "text": [
      "[1, 3, 5, 7, 9, 11, 13, 15, 17, 19]\n"
     ]
    }
   ],
   "source": [
    "# 14. Create a list of odd numbers from 1 to 20.\n",
    "\n",
    "# Ans:\n",
    "ls = []\n",
    "for i in range(0,20):\n",
    "    if i%2!=0:\n",
    "        ls.append(i)\n",
    "print(ls)"
   ]
  },
  {
   "cell_type": "code",
   "execution_count": 58,
   "id": "2bd54941",
   "metadata": {},
   "outputs": [
    {
     "name": "stdout",
     "output_type": "stream",
     "text": [
      "Sum of all elements is: 100\n"
     ]
    }
   ],
   "source": [
    "# 15. Find the sum of all elements in a list.\n",
    "\n",
    "# Ans:\n",
    "total = 0\n",
    "for i in range(0, len(ls)):\n",
    "    total = total+ ls[i]\n",
    "print('Sum of all elements is:', total)"
   ]
  },
  {
   "cell_type": "code",
   "execution_count": 59,
   "id": "41e56b3e",
   "metadata": {},
   "outputs": [
    {
     "name": "stdout",
     "output_type": "stream",
     "text": [
      "19\n"
     ]
    }
   ],
   "source": [
    "# 16. Find the maximum value in a list.\n",
    "\n",
    "# Ans:\n",
    "print(\"Maximum value in the list: \", max(ls))"
   ]
  },
  {
   "cell_type": "code",
   "execution_count": 61,
   "id": "49daaf98",
   "metadata": {},
   "outputs": [
    {
     "name": "stdout",
     "output_type": "stream",
     "text": [
      "Minimum value in the list:  1\n"
     ]
    }
   ],
   "source": [
    "# 17. Find the minimum value in a list.\n",
    "\n",
    "# Ans:\n",
    "print(\"Minimum value in the list: \", min(ls))"
   ]
  },
  {
   "cell_type": "code",
   "execution_count": 62,
   "id": "05abc432",
   "metadata": {},
   "outputs": [
    {
     "name": "stdout",
     "output_type": "stream",
     "text": [
      "[0, 1, 4, 9, 16, 25, 36, 49, 64, 81, 100]\n"
     ]
    }
   ],
   "source": [
    "# 18. Create a list of squares of numbers from 1 to 10.\n",
    "\n",
    "# Ans:\n",
    "nl = []\n",
    "for i in range(0,11):\n",
    "    nl.append(i*i)\n",
    "    i = i + 1\n",
    "print(nl)"
   ]
  },
  {
   "cell_type": "code",
   "execution_count": 69,
   "id": "cfc31e06",
   "metadata": {},
   "outputs": [
    {
     "name": "stdout",
     "output_type": "stream",
     "text": [
      "[23, 22, 12, 20, 12, 23, 11, 18, 5, 24, 10]\n"
     ]
    }
   ],
   "source": [
    "# 19. Create a list of random numbers.\n",
    "\n",
    "# Ans:\n",
    "import random\n",
    "\n",
    "ln = []\n",
    "for i in range(11):\n",
    "    ln.append(random.randint(3,25))\n",
    "print(ln)"
   ]
  },
  {
   "cell_type": "code",
   "execution_count": 72,
   "id": "85e499ca",
   "metadata": {},
   "outputs": [
    {
     "name": "stdout",
     "output_type": "stream",
     "text": [
      "[22, 33, 14, 55, 66, 90, 32, 40]\n"
     ]
    }
   ],
   "source": [
    "# 20. Remove duplicates from a list.\n",
    "\n",
    "# Ans:\n",
    "new_lst = [22, 33, 14, 55, 66, 90, 32, 40, 40]\n",
    "lst = []\n",
    "for i in new_lst:\n",
    "    if i not in lst:\n",
    "        lst.append(i)\n",
    "print(lst)"
   ]
  },
  {
   "cell_type": "code",
   "execution_count": 2,
   "id": "0b84942e",
   "metadata": {},
   "outputs": [
    {
     "name": "stdout",
     "output_type": "stream",
     "text": [
      "[90, 45]\n"
     ]
    }
   ],
   "source": [
    "# 21. Find the common elements between two lists.\n",
    "\n",
    "# Ans:\n",
    "nlst = [2,34,56,78,90,45]\n",
    "slst = [18,89,45,90,32,45]\n",
    "lt = []\n",
    "\n",
    "for i in nlst:\n",
    "    if i in slst:\n",
    "        lt.append(i)\n",
    "print(lt)"
   ]
  },
  {
   "cell_type": "code",
   "execution_count": 3,
   "id": "0a13a4d7",
   "metadata": {},
   "outputs": [
    {
     "name": "stdout",
     "output_type": "stream",
     "text": [
      "[2, 34, 56, 78, 18, 89, 32]\n"
     ]
    }
   ],
   "source": [
    "# 22. Find the difference between two lists.\n",
    "\n",
    "# Ans:\n",
    "ltc = []\n",
    "\n",
    "for i in nlst:\n",
    "    if i not in slst:\n",
    "        ltc.append(i)\n",
    "\n",
    "ltn = []\n",
    "for i in slst:\n",
    "    if i not in nlst:\n",
    "        ltn.append(i)\n",
    "\n",
    "\n",
    "final_lst = ltc + ltn \n",
    "print(final_lst)\n",
    "# for i in final_lst:\n",
    "#     if i not in lt:\n",
    "#         fl.append(i)\n",
    "# print(\"Final list is: \",fl)"
   ]
  },
  {
   "cell_type": "code",
   "execution_count": 4,
   "id": "2af1e616",
   "metadata": {},
   "outputs": [
    {
     "name": "stdout",
     "output_type": "stream",
     "text": [
      "Merged list is: [2, 3, 4, 6, 4, 5, 6, 7]\n"
     ]
    }
   ],
   "source": [
    "# 23. Merge two lists.\n",
    "\n",
    "# Ans:\n",
    "ls_n = [2,3,4,6]\n",
    "ls_t = [4,5,6,7]\n",
    "print('Merged list is:', ls_n + ls_t)"
   ]
  },
  {
   "cell_type": "code",
   "execution_count": 6,
   "id": "c80e0d1e",
   "metadata": {},
   "outputs": [
    {
     "name": "stdout",
     "output_type": "stream",
     "text": [
      "[4, 68, 112, 156, 36, 178, 64]\n"
     ]
    }
   ],
   "source": [
    "# 24. Multiply all elements in a list by 2.\n",
    "\n",
    "# Ans:\n",
    "ly = []\n",
    "for i in final_lst:\n",
    "    ly.append(i*2)\n",
    "    i = i+1\n",
    "print(ly)"
   ]
  },
  {
   "cell_type": "code",
   "execution_count": 10,
   "id": "e5a49a26",
   "metadata": {},
   "outputs": [
    {
     "name": "stdout",
     "output_type": "stream",
     "text": [
      "2\n",
      "34\n",
      "56\n",
      "78\n",
      "18\n",
      "32\n"
     ]
    }
   ],
   "source": [
    "# 25. Filter out all even numbers from a list.\n",
    "\n",
    "# Ans:\n",
    "\n",
    "for i in final_lst:\n",
    "    if i % 2==0:\n",
    "        print(i)"
   ]
  },
  {
   "cell_type": "code",
   "execution_count": 2,
   "id": "108c84cd",
   "metadata": {},
   "outputs": [
    {
     "name": "stdout",
     "output_type": "stream",
     "text": [
      "[45, 91]\n"
     ]
    }
   ],
   "source": [
    "# 26. Convert a list of strings to a list of integers.\n",
    "\n",
    "# Ans:\n",
    "\n",
    "lit = ['45', '91']\n",
    "mn = []\n",
    "for i in lit:\n",
    "    mn.append(int(i))\n",
    "print(mn)"
   ]
  },
  {
   "cell_type": "code",
   "execution_count": 3,
   "id": "2f1289c1",
   "metadata": {},
   "outputs": [
    {
     "name": "stdout",
     "output_type": "stream",
     "text": [
      "['908', '56', '890', '52', '43']\n"
     ]
    }
   ],
   "source": [
    "# 27. Convert a list of integers to a list of strings.\n",
    "\n",
    "# Ans:\n",
    "lty = [908, 56, 890, 52, 43]\n",
    "nm =[]\n",
    "for i in lty:\n",
    "    nm.append(str(i))\n",
    "print(nm)"
   ]
  },
  {
   "cell_type": "code",
   "execution_count": 6,
   "id": "384400df",
   "metadata": {},
   "outputs": [
    {
     "name": "stdout",
     "output_type": "stream",
     "text": [
      "[1, 2, 3, 4, 5, 6, 7]\n"
     ]
    }
   ],
   "source": [
    "# 28. Flatten a nested list.\n",
    "\n",
    "#Ans:\n",
    "my_list = [[1], [2, 3], [4, 5, 6, 7]]\n",
    "flat_list = []\n",
    "\n",
    "for sublist in my_list:\n",
    "    for i in sublist:\n",
    "        flat_list.append(i)\n",
    "print(flat_list)"
   ]
  },
  {
   "cell_type": "code",
   "execution_count": 16,
   "id": "91945105",
   "metadata": {},
   "outputs": [
    {
     "name": "stdout",
     "output_type": "stream",
     "text": [
      "10\n",
      "Fibonacci sequence:\n",
      "0\n",
      "1\n",
      "1\n",
      "2\n",
      "3\n",
      "5\n",
      "8\n",
      "13\n",
      "21\n",
      "34\n"
     ]
    }
   ],
   "source": [
    "# 29. Create a list of the first 10 Fibonacci numbers.\n",
    "\n",
    "# Ans:\n",
    "n = int(input())\n",
    "n1, n2 =0,1\n",
    "count =1\n",
    "if n <=0:\n",
    "    print(\"enter the positive number\")\n",
    "elif n == 1:\n",
    "    print(\"Not a valid input:\", n1)\n",
    "else:\n",
    "    print(\"Fibonacci sequence:\")\n",
    "    while count <= n:\n",
    "        print(n1)\n",
    "        nth = n1 + n2\n",
    "        n1 = n2\n",
    "        n2 = nth\n",
    "        count += 1"
   ]
  },
  {
   "cell_type": "code",
   "execution_count": 20,
   "id": "ceda8a2e",
   "metadata": {},
   "outputs": [
    {
     "name": "stdout",
     "output_type": "stream",
     "text": [
      "list is sorted\n"
     ]
    }
   ],
   "source": [
    "# 30. Check if a list is sorted.\n",
    "\n",
    "# Ans:\n",
    "list = [1,2,3,56]\n",
    "\n",
    "if list == sorted(list):\n",
    "    print(\"list is sorted\")\n",
    "else:\n",
    "    print(\"list is not sorted\")"
   ]
  },
  {
   "cell_type": "code",
   "execution_count": 47,
   "id": "fade3f91",
   "metadata": {},
   "outputs": [
    {
     "name": "stdout",
     "output_type": "stream",
     "text": [
      "3\n",
      "[6, 78, 1, 3, 4]\n"
     ]
    }
   ],
   "source": [
    "#31. Rotate a list to the left by `n` positions.\n",
    "\n",
    "#Ans:\n",
    "n =  int(input())\n",
    "list = [1,3,4,6,78]\n",
    "final_lst = list[n:]+list[:n]\n",
    "print(final_lst)"
   ]
  },
  {
   "cell_type": "code",
   "execution_count": 48,
   "id": "763c36bd",
   "metadata": {},
   "outputs": [
    {
     "name": "stdout",
     "output_type": "stream",
     "text": [
      "-3\n",
      "[4, 6, 78, 1, 3]\n"
     ]
    }
   ],
   "source": [
    "# 32. Rotate a list to the right by `n` positions.\n",
    "\n",
    "# Ans:\n",
    "n =  int(input())\n",
    "final_l = list[n:]+list[:n]\n",
    "print(final_l)"
   ]
  },
  {
   "cell_type": "code",
   "execution_count": 7,
   "id": "fc6244cb",
   "metadata": {},
   "outputs": [
    {
     "name": "stdout",
     "output_type": "stream",
     "text": [
      "50\n",
      "[2, 3, 5, 7, 11, 13, 17, 19, 23, 29, 31, 37, 41, 43, 47]\n"
     ]
    }
   ],
   "source": [
    "# 33. Create a list of prime numbers up to 50.\n",
    "\n",
    "# Ans:\n",
    "l = []\n",
    "n = int(input())\n",
    "\n",
    "for i in range(0,n+1):\n",
    "    for j in range(2, n+1):\n",
    "        if i % j == 0:\n",
    "            break\n",
    "    if i == j:\n",
    "        l.append(i)\n",
    "\n",
    "print(l)"
   ]
  },
  {
   "cell_type": "code",
   "execution_count": 68,
   "id": "d11181af",
   "metadata": {},
   "outputs": [
    {
     "name": "stdout",
     "output_type": "stream",
     "text": [
      "['for', 'like', 'geeky', 'nerdy', 'love']\n"
     ]
    }
   ],
   "source": [
    "# 34. Split a list into chunks of size `n`.\n",
    "\n",
    "# Ans:\n",
    "\n",
    "my_list = ['for', 'like',\n",
    "           'geeky','nerdy', 'love',\n",
    "               'questions','words', 'life']\n",
    "def divide_chunks(l,n):\n",
    "    for i in range(0, len(l), n):\n",
    "        return l[i:i+n]\n",
    "n = 5\n",
    "  \n",
    "x = divide_chunks(my_list, n)\n",
    "print (x)"
   ]
  },
  {
   "cell_type": "code",
   "execution_count": 69,
   "id": "2a55f2ec",
   "metadata": {},
   "outputs": [
    {
     "name": "stdout",
     "output_type": "stream",
     "text": [
      "second largest: 4\n"
     ]
    }
   ],
   "source": [
    "# 35. Find the second largest number in a list.\n",
    "\n",
    "# Ans:\n",
    "\n",
    "l = [1,2,3,4,5]\n",
    "l.sort(reverse=True)\n",
    "print('second largest:', l[1])"
   ]
  },
  {
   "cell_type": "code",
   "execution_count": 16,
   "id": "aaaa6654",
   "metadata": {},
   "outputs": [
    {
     "name": "stdout",
     "output_type": "stream",
     "text": [
      "[2.0, 2.8284271247461903]\n"
     ]
    }
   ],
   "source": [
    "# 36. Replace every element in a list with its square.\n",
    "\n",
    "# Ans:\n",
    "import math\n",
    "l = [4,8]\n",
    "l_s = []\n",
    "for i in l:\n",
    "    l_s.append(math.sqrt(i))\n",
    "\n",
    "print(l_s)"
   ]
  },
  {
   "cell_type": "code",
   "execution_count": 17,
   "id": "4bcc942f",
   "metadata": {},
   "outputs": [
    {
     "data": {
      "text/plain": [
       "{4: 0, 8: 1}"
      ]
     },
     "execution_count": 17,
     "metadata": {},
     "output_type": "execute_result"
    }
   ],
   "source": [
    "# 37. Convert a list to a dictionary where list elements become keys and their indices become values.\n",
    "\n",
    "# Ans:\n",
    "dict(map(reversed, enumerate(l)))"
   ]
  },
  {
   "cell_type": "code",
   "execution_count": 20,
   "id": "151369eb",
   "metadata": {},
   "outputs": [
    {
     "name": "stdout",
     "output_type": "stream",
     "text": [
      "[10, 4, 7, 89, 78]\n"
     ]
    }
   ],
   "source": [
    "# 38. Shuffle the elements of a list randomly.\n",
    "\n",
    "# Ans:\n",
    "import random\n",
    "l = [7,89,10,4,78]\n",
    "random.shuffle(l)\n",
    "print(l)"
   ]
  },
  {
   "cell_type": "code",
   "execution_count": 21,
   "id": "94f32445",
   "metadata": {},
   "outputs": [
    {
     "name": "stdout",
     "output_type": "stream",
     "text": [
      "[1, 1, 2, 6, 24, 120, 720, 5040, 40320, 362880]\n"
     ]
    }
   ],
   "source": [
    "# 39. Create a list of the first 10 factorial numbers.\n",
    "\n",
    "# Ans:\n",
    "li = []\n",
    "for i in range(10):\n",
    "    li.append(math.factorial(i))\n",
    "\n",
    "print(li)    "
   ]
  },
  {
   "cell_type": "code",
   "execution_count": 27,
   "id": "189a4e08",
   "metadata": {},
   "outputs": [
    {
     "name": "stdout",
     "output_type": "stream",
     "text": [
      "False\n"
     ]
    }
   ],
   "source": [
    "# 40. Check if two lists have at least one element in common.\n",
    "\n",
    "# Ans:\n",
    "l1 = [1,2,3,4,5]\n",
    "l2 = [10,20, 30,40,50]\n",
    "\n",
    "out = any(i in l1 for i in l2)\n",
    "\n",
    "if out:\n",
    "    print('True')\n",
    "else:\n",
    "    print('False')"
   ]
  },
  {
   "cell_type": "code",
   "execution_count": 6,
   "id": "08d19ca4",
   "metadata": {},
   "outputs": [
    {
     "name": "stdout",
     "output_type": "stream",
     "text": [
      "[]\n"
     ]
    }
   ],
   "source": [
    "# 41. Remove all elements from a list.\n",
    "\n",
    "# Ans:\n",
    "l1 = [1,2,45,879]\n",
    "l1.clear()    \n",
    "print(l1)"
   ]
  },
  {
   "cell_type": "code",
   "execution_count": 14,
   "id": "a70a6777",
   "metadata": {},
   "outputs": [
    {
     "name": "stdout",
     "output_type": "stream",
     "text": [
      "[4, 5, 89, 0, 0]\n"
     ]
    }
   ],
   "source": [
    "# 42. Replace negative numbers in a list with 0.\n",
    "\n",
    "# Ans:\n",
    "\n",
    "l3 = [4, 5, 89, -4, -5]\n",
    "\n",
    "\n",
    "l2 = [0 if i < 0 else i for i in l3]\n",
    "# for i in l3:\n",
    "#     if i < 0:\n",
    "#         i = 0\n",
    "#     else:\n",
    "#         i = i\n",
    "\n",
    "print(l2)"
   ]
  },
  {
   "cell_type": "code",
   "execution_count": 20,
   "id": "a68d9a3f",
   "metadata": {
    "scrolled": true
   },
   "outputs": [
    {
     "data": {
      "text/plain": [
       "['aditi', 'goyal', 'is', 'doing', 'good']"
      ]
     },
     "execution_count": 20,
     "metadata": {},
     "output_type": "execute_result"
    }
   ],
   "source": [
    "# 43. Convert a string into a list of words.\n",
    "\n",
    "#Ans:\n",
    "string = 'aditi goyal is doing good'\n",
    "l2 = []\n",
    "for i in string:\n",
    "    res = string.split()\n",
    "list(res)"
   ]
  },
  {
   "cell_type": "code",
   "execution_count": 29,
   "id": "7b872c5e",
   "metadata": {},
   "outputs": [
    {
     "data": {
      "text/plain": [
       "'aditi goyal is doing good'"
      ]
     },
     "execution_count": 29,
     "metadata": {},
     "output_type": "execute_result"
    }
   ],
   "source": [
    "# 44. Convert a list of words into a string.\n",
    "\n",
    "# Ans:\n",
    "l = ['aditi', 'goyal', 'is', 'doing', 'good'] \n",
    "delimiter = ','\n",
    "new_str = [str(i) for i in l]\n",
    "new_str = delimiter.join(new_str)\n",
    "new_str.replace(',', \" \")"
   ]
  },
  {
   "cell_type": "code",
   "execution_count": 32,
   "id": "2fd07584",
   "metadata": {},
   "outputs": [
    {
     "name": "stdout",
     "output_type": "stream",
     "text": [
      "5\n",
      "[0.0, 1.0, 4.0, 9.0, 16.0]\n"
     ]
    }
   ],
   "source": [
    "# 45. Create a list of the first `n` powers of 2.\n",
    "\n",
    "# Ans:\n",
    "n = int(input())\n",
    "l5 = []\n",
    "import math\n",
    "for i in range(0,n):\n",
    "    l5.append(math.pow(i, 2))\n",
    "\n",
    "print(l5)"
   ]
  },
  {
   "cell_type": "code",
   "execution_count": 37,
   "id": "11315779",
   "metadata": {},
   "outputs": [
    {
     "name": "stdout",
     "output_type": "stream",
     "text": [
      "aditi\n"
     ]
    }
   ],
   "source": [
    "# 46. Find the longest string in a list of strings.\n",
    "\n",
    "# Ans:\n",
    "l = ['aditi', 'goyal', 'is', 'doing', 'good']\n",
    "print(max(l, key = len))"
   ]
  },
  {
   "cell_type": "code",
   "execution_count": 39,
   "id": "8567d482",
   "metadata": {},
   "outputs": [
    {
     "name": "stdout",
     "output_type": "stream",
     "text": [
      "is\n"
     ]
    }
   ],
   "source": [
    "# 47. Find the shortest string in a list of strings.\n",
    "\n",
    "# Ans:\n",
    "print(min(l,key = len))"
   ]
  },
  {
   "cell_type": "code",
   "execution_count": 70,
   "id": "475ddb33",
   "metadata": {},
   "outputs": [
    {
     "name": "stdout",
     "output_type": "stream",
     "text": [
      "[1, 3, 6, 10, 15, 21, 28, 36, 45, 55]\n"
     ]
    }
   ],
   "source": [
    "# 48. Create a list of the first `n` triangular numbers.\n",
    "\n",
    "# Ans:\n",
    "limit = 10\n",
    "triangle_nums = []\n",
    "num = 0\n",
    "\n",
    "for i in range(1, limit + 1):\n",
    "    num += i\n",
    "    triangle_nums.append(num)\n",
    "print(triangle_nums)"
   ]
  },
  {
   "cell_type": "code",
   "execution_count": 1,
   "id": "7bd19edb",
   "metadata": {},
   "outputs": [
    {
     "name": "stdout",
     "output_type": "stream",
     "text": [
      "Yes sublist is the list of testlist\n"
     ]
    }
   ],
   "source": [
    "# 49. Check if a list contains another list as a subsequence.\n",
    "\n",
    "# Ans:\n",
    "test_list = [9, 4, 5, 8, 10]\n",
    "sub_list = [10, 5, 4]\n",
    "\n",
    "if(all(x in test_list for x in sub_list)):\n",
    "    flag =1\n",
    "    \n",
    "if (flag):\n",
    "    print(\"Yes sublist is the list of testlist\")\n",
    "else:\n",
    "    print(\"Yes sublist is not the list of testlist\")\n"
   ]
  },
  {
   "cell_type": "code",
   "execution_count": 2,
   "id": "dc3f7380",
   "metadata": {},
   "outputs": [
    {
     "name": "stdout",
     "output_type": "stream",
     "text": [
      "['ineuron', 'geeks']\n"
     ]
    }
   ],
   "source": [
    "# 50. Swap two elements in a list by their indices.\n",
    "\n",
    "# Ans:\n",
    "list = ['geeks', 'ineuron']\n",
    "list[0], list[1] = list[1], list[0]\n",
    "print(list)"
   ]
  },
  {
   "cell_type": "markdown",
   "id": "5c3e051f",
   "metadata": {},
   "source": [
    "## Tuple Based Practice Problem "
   ]
  },
  {
   "cell_type": "code",
   "execution_count": 3,
   "id": "5d4afb7e",
   "metadata": {},
   "outputs": [],
   "source": [
    "# 1. Create a tuple with integers from 1 to 5.\n",
    "\n",
    "# Ans:\n",
    "x = (1,2,3,4,5)"
   ]
  },
  {
   "cell_type": "code",
   "execution_count": 9,
   "id": "916409d1",
   "metadata": {},
   "outputs": [
    {
     "data": {
      "text/plain": [
       "3"
      ]
     },
     "execution_count": 9,
     "metadata": {},
     "output_type": "execute_result"
    }
   ],
   "source": [
    "# 2. Access the third element of a tuple.\n",
    "\n",
    "# Ans:\n",
    "x[2] "
   ]
  },
  {
   "cell_type": "code",
   "execution_count": 7,
   "id": "d74493f5",
   "metadata": {},
   "outputs": [
    {
     "name": "stdout",
     "output_type": "stream",
     "text": [
      "5\n"
     ]
    }
   ],
   "source": [
    "# 3. Find the length of a tuple without using the `len()` function\n",
    "\n",
    "# Ans:\n",
    "count = 0\n",
    "\n",
    "for i in x:\n",
    "    count+=1\n",
    "print(count)"
   ]
  },
  {
   "cell_type": "code",
   "execution_count": 10,
   "id": "fcbc3c8c",
   "metadata": {},
   "outputs": [
    {
     "name": "stdout",
     "output_type": "stream",
     "text": [
      "enter the element: 10\n",
      "Occurance of element in tuple:  3\n"
     ]
    }
   ],
   "source": [
    "# 4. Count the occurrences of an element in a tuple.\n",
    "\n",
    "# Ans:\n",
    "y = (9,10,10,8,4,10)\n",
    "element = int(input('enter the element: '))\n",
    "count = 0\n",
    "\n",
    "print(\"Occurance of element in tuple: \", y.count(10))"
   ]
  },
  {
   "cell_type": "code",
   "execution_count": 11,
   "id": "3738ae63",
   "metadata": {},
   "outputs": [
    {
     "data": {
      "text/plain": [
       "1"
      ]
     },
     "execution_count": 11,
     "metadata": {},
     "output_type": "execute_result"
    }
   ],
   "source": [
    "# 5. Find the index of the first occurrence of an element in a tuple.\n",
    "\n",
    "# Ans:\n",
    "y.index(10)"
   ]
  },
  {
   "cell_type": "code",
   "execution_count": 25,
   "id": "cf03d50b",
   "metadata": {},
   "outputs": [
    {
     "name": "stdout",
     "output_type": "stream",
     "text": [
      "20\n",
      "No element does not exist in tuple\n"
     ]
    }
   ],
   "source": [
    "# 6. Check if an element exists in a tuple.\n",
    "\n",
    "# Ans:\n",
    "y = (9,10,10,8,4,10)\n",
    "\n",
    "element = int(input())\n",
    "\n",
    "if y.count(element)> 0:\n",
    "    print(\"yes element exist in tuple\")\n",
    "else:\n",
    "    print(\"No element does not exist in tuple\")"
   ]
  },
  {
   "cell_type": "code",
   "execution_count": 26,
   "id": "3a508471",
   "metadata": {},
   "outputs": [
    {
     "data": {
      "text/plain": [
       "[9, 10, 10, 8, 4, 10]"
      ]
     },
     "execution_count": 26,
     "metadata": {},
     "output_type": "execute_result"
    }
   ],
   "source": [
    "# 7. Convert a tuple to a list.\n",
    "\n",
    "# Ans:\n",
    "list(y)"
   ]
  },
  {
   "cell_type": "code",
   "execution_count": 27,
   "id": "528d12eb",
   "metadata": {},
   "outputs": [
    {
     "data": {
      "text/plain": [
       "(4, 'ggeks', 'stack')"
      ]
     },
     "execution_count": 27,
     "metadata": {},
     "output_type": "execute_result"
    }
   ],
   "source": [
    "# 8. Convert a list to a tuple.\n",
    "\n",
    "# Ans:\n",
    "list = [4, 'ggeks', \"stack\"]\n",
    "tuple(list)"
   ]
  },
  {
   "cell_type": "code",
   "execution_count": 28,
   "id": "539a80e6",
   "metadata": {},
   "outputs": [
    {
     "name": "stdout",
     "output_type": "stream",
     "text": [
      "9 10 10 8 4 10 "
     ]
    }
   ],
   "source": [
    "# 9. Unpack the elements of a tuple into variables.\n",
    "\n",
    "# Ans:\n",
    "for i in y:\n",
    "    print(i, end = \" \")"
   ]
  },
  {
   "cell_type": "code",
   "execution_count": 29,
   "id": "7eccaafc",
   "metadata": {},
   "outputs": [
    {
     "data": {
      "text/plain": [
       "(0, 2, 4, 6, 8, 10)"
      ]
     },
     "execution_count": 29,
     "metadata": {},
     "output_type": "execute_result"
    }
   ],
   "source": [
    "# 10. Create a tuple of even numbers from 1 to 10.\n",
    "\n",
    "# Ans:\n",
    "list = []\n",
    "for i in range(11):\n",
    "    if i%2==0:\n",
    "        list.append(i)\n",
    "\n",
    "tuple(list)"
   ]
  },
  {
   "cell_type": "code",
   "execution_count": 32,
   "id": "497fcb41",
   "metadata": {},
   "outputs": [
    {
     "data": {
      "text/plain": [
       "(1, 3, 5, 7, 9)"
      ]
     },
     "execution_count": 32,
     "metadata": {},
     "output_type": "execute_result"
    }
   ],
   "source": [
    "# 11. Create a tuple of odd numbers from 1 to 10.\n",
    "\n",
    "# Ans:\n",
    "l = []\n",
    "\n",
    "for i in range(11):\n",
    "    if i%2 !=0:\n",
    "        l.append(i)\n",
    "tuple(l)"
   ]
  },
  {
   "cell_type": "code",
   "execution_count": 33,
   "id": "a411ee21",
   "metadata": {},
   "outputs": [
    {
     "data": {
      "text/plain": [
       "(1, 2, 3, 4, 5, 6)"
      ]
     },
     "execution_count": 33,
     "metadata": {},
     "output_type": "execute_result"
    }
   ],
   "source": [
    "# 12. Concatenate two tuples.\n",
    "\n",
    "# Ans:\n",
    "t1 = (1,2,3)\n",
    "t2 = (4,5,6)\n",
    "t1+t2"
   ]
  },
  {
   "cell_type": "code",
   "execution_count": 35,
   "id": "552964c1",
   "metadata": {},
   "outputs": [
    {
     "data": {
      "text/plain": [
       "(6, 89, 10, 6, 89, 10, 6, 89, 10)"
      ]
     },
     "execution_count": 35,
     "metadata": {},
     "output_type": "execute_result"
    }
   ],
   "source": [
    "# 13. Repeat a tuple three times.\n",
    "\n",
    "# Ans:\n",
    "t3 =(6,89,10)\n",
    "t3*3"
   ]
  },
  {
   "cell_type": "code",
   "execution_count": 37,
   "id": "1f54c79d",
   "metadata": {},
   "outputs": [
    {
     "name": "stdout",
     "output_type": "stream",
     "text": [
      "tuple is empty\n"
     ]
    }
   ],
   "source": [
    "# 14. Check if a tuple is empty.\n",
    "\n",
    "# Ans:\n",
    "t4 = ()\n",
    "if len(t4) ==0:\n",
    "    print(\"tuple is empty\")\n",
    "else:\n",
    "    print(\"tuple is not empty\")"
   ]
  },
  {
   "cell_type": "code",
   "execution_count": 38,
   "id": "cc0e7ee5",
   "metadata": {},
   "outputs": [],
   "source": [
    "# 15. Create a nested tuple.\n",
    "\n",
    "# Ans:\n",
    "t5 = (1,2,4,(10,11,12))"
   ]
  },
  {
   "cell_type": "code",
   "execution_count": 39,
   "id": "7ac24e06",
   "metadata": {},
   "outputs": [
    {
     "data": {
      "text/plain": [
       "10"
      ]
     },
     "execution_count": 39,
     "metadata": {},
     "output_type": "execute_result"
    }
   ],
   "source": [
    "# 16. Access the first element of a nested tuple.\n",
    "\n",
    "# Ans:\n",
    "t5[3][0]"
   ]
  },
  {
   "cell_type": "code",
   "execution_count": 40,
   "id": "904c37d7",
   "metadata": {},
   "outputs": [],
   "source": [
    "# 17. Create a tuple with a single element.\n",
    "\n",
    "# Ans:\n",
    "t6 = (10)"
   ]
  },
  {
   "cell_type": "code",
   "execution_count": 49,
   "id": "ff996b80",
   "metadata": {},
   "outputs": [
    {
     "name": "stdout",
     "output_type": "stream",
     "text": [
      "tuple is equal\n"
     ]
    }
   ],
   "source": [
    "# 18. Compare two tuples.\n",
    "\n",
    "# Ans:\n",
    "t6 = (12,13,14)\n",
    "t7 = (13,12,14)\n",
    "flag = 0\n",
    "if(all(i in t6 for i in t7)):\n",
    "    flag =1\n",
    "\n",
    "if (flag):\n",
    "    print(\"tuple is equal\")\n",
    "else:\n",
    "    print(\"tuple is not equal\")"
   ]
  },
  {
   "cell_type": "code",
   "execution_count": 53,
   "id": "143ada0a",
   "metadata": {},
   "outputs": [],
   "source": [
    "# 19. Delete a tuple.\n",
    "\n",
    "# Ans:\n",
    "t8 = (10,20)\n",
    "del(t8)"
   ]
  },
  {
   "cell_type": "code",
   "execution_count": 55,
   "id": "e72d3964",
   "metadata": {},
   "outputs": [
    {
     "data": {
      "text/plain": [
       "(10, 30, 50)"
      ]
     },
     "execution_count": 55,
     "metadata": {},
     "output_type": "execute_result"
    }
   ],
   "source": [
    "# 20. Slice a tuple.\n",
    "\n",
    "# Ans:\n",
    "t9 = (10,20,30,40,50)\n",
    "t9[0:6:2]"
   ]
  },
  {
   "cell_type": "code",
   "execution_count": 56,
   "id": "83fd5e06",
   "metadata": {},
   "outputs": [
    {
     "data": {
      "text/plain": [
       "50"
      ]
     },
     "execution_count": 56,
     "metadata": {},
     "output_type": "execute_result"
    }
   ],
   "source": [
    "# 21. Find the maximum value in a tuple.\n",
    "\n",
    "# Ans:\n",
    "max(t9)"
   ]
  },
  {
   "cell_type": "code",
   "execution_count": 57,
   "id": "f4b2f157",
   "metadata": {},
   "outputs": [
    {
     "data": {
      "text/plain": [
       "10"
      ]
     },
     "execution_count": 57,
     "metadata": {},
     "output_type": "execute_result"
    }
   ],
   "source": [
    "# 22. Find the minimum value in a tuple.\n",
    "\n",
    "# Ans:\n",
    "min(t9)"
   ]
  },
  {
   "cell_type": "code",
   "execution_count": 58,
   "id": "dac79c8d",
   "metadata": {},
   "outputs": [
    {
     "data": {
      "text/plain": [
       "('a',\n",
       " 'd',\n",
       " 'i',\n",
       " 't',\n",
       " 'i',\n",
       " ' ',\n",
       " 'i',\n",
       " 's',\n",
       " ' ',\n",
       " 'd',\n",
       " 'o',\n",
       " 'i',\n",
       " 'n',\n",
       " 'g',\n",
       " ' ',\n",
       " 'g',\n",
       " 'o',\n",
       " 'o',\n",
       " 'd')"
      ]
     },
     "execution_count": 58,
     "metadata": {},
     "output_type": "execute_result"
    }
   ],
   "source": [
    "# 23. Convert a string to a tuple of characters.\n",
    "\n",
    "# Ans:\n",
    "string = \"aditi is doing good\"\n",
    "tuple(string)"
   ]
  },
  {
   "cell_type": "code",
   "execution_count": 60,
   "id": "4f4882c1",
   "metadata": {},
   "outputs": [
    {
     "data": {
      "text/plain": [
       "\"('a', 'd', 'i', 't', 'i', ' ', 'i', 's', ' ', 'd', 'o', 'i', 'n', 'g', ' ', 'g', 'o', 'o', 'd')\""
      ]
     },
     "execution_count": 60,
     "metadata": {},
     "output_type": "execute_result"
    }
   ],
   "source": [
    "# 24. Convert a tuple of characters to a string.\n",
    "\n",
    "# Ans:\n",
    "t10 = ('a','d','i','t','i',' ','i','s',' ','d', 'o','i','n','g',' ','g','o','o','d')\n",
    "str(t10)"
   ]
  },
  {
   "cell_type": "code",
   "execution_count": 84,
   "id": "38c9c1e1",
   "metadata": {},
   "outputs": [
    {
     "name": "stdout",
     "output_type": "stream",
     "text": [
      "aditi is doing good\n"
     ]
    }
   ],
   "source": [
    "st = ''.join(t10)\n",
    "print(st)"
   ]
  },
  {
   "cell_type": "code",
   "execution_count": 89,
   "id": "a2b38647",
   "metadata": {},
   "outputs": [],
   "source": [
    "# 25. Create a tuple from multiple data types.\n",
    "\n",
    "# Ans:\n",
    "t11 = (1, 'pwd', 1.78, 5j+4, True)"
   ]
  },
  {
   "cell_type": "code",
   "execution_count": 7,
   "id": "1d13bce0",
   "metadata": {},
   "outputs": [
    {
     "name": "stdout",
     "output_type": "stream",
     "text": [
      "Tuples are identical\n"
     ]
    }
   ],
   "source": [
    "# 26. Check if two tuples are identical.\n",
    "\n",
    "# Ans:\n",
    "t12 = (2,3)\n",
    "t13 = (2,3)\n",
    "\n",
    "if(all(i in t12 for i in t13)):\n",
    "    flag =1\n",
    "if (flag):\n",
    "    print(\"Tuples are identical\")\n",
    "else:\n",
    "    print(\"Tuples are not identical\")"
   ]
  },
  {
   "cell_type": "code",
   "execution_count": 8,
   "id": "bce88079",
   "metadata": {},
   "outputs": [
    {
     "data": {
      "text/plain": [
       "[2, 13, 34, 56, 90]"
      ]
     },
     "execution_count": 8,
     "metadata": {},
     "output_type": "execute_result"
    }
   ],
   "source": [
    "# 27. Sort the elements of a tuple.\n",
    "\n",
    "#Ans:\n",
    "t14 = (2,34,13,56,90)\n",
    "sorted(t14)"
   ]
  },
  {
   "cell_type": "code",
   "execution_count": 20,
   "id": "db49c102",
   "metadata": {},
   "outputs": [
    {
     "name": "stdout",
     "output_type": "stream",
     "text": [
      "('2', '34', '13', '56', '90')\n"
     ]
    }
   ],
   "source": [
    "# 28. Convert a tuple of integers to a tuple of strings\n",
    "\n",
    "# Ans:\n",
    "list = []\n",
    "for i in t14:\n",
    "    list.append(str(i))\n",
    "t15 = tuple(list)\n",
    "print(t15)"
   ]
  },
  {
   "cell_type": "code",
   "execution_count": 21,
   "id": "679baded",
   "metadata": {},
   "outputs": [
    {
     "name": "stdout",
     "output_type": "stream",
     "text": [
      "(2, 34, 13, 56, 90)\n"
     ]
    }
   ],
   "source": [
    "# 29. Convert a tuple of strings to a tuple of integers.\n",
    "\n",
    "# Ans:\n",
    "list = []\n",
    "for i in t15:\n",
    "    list.append(int(i))\n",
    "t16 = tuple(list)\n",
    "print(t16)"
   ]
  },
  {
   "cell_type": "code",
   "execution_count": 23,
   "id": "28dfc97e",
   "metadata": {},
   "outputs": [
    {
     "name": "stdout",
     "output_type": "stream",
     "text": [
      "(9, 10, 12, 13, 14, 2, 3, 4, 5, 6, 7)\n"
     ]
    }
   ],
   "source": [
    "# 30. Merge two tuples.\n",
    "\n",
    "# Ans:\n",
    "t16 = (9, 10, 12, 13, 14)\n",
    "t17 = (2, 3, 4, 5, 6, 7)\n",
    "t18 = t16+ t17\n",
    "print(t18)"
   ]
  },
  {
   "cell_type": "code",
   "execution_count": 33,
   "id": "7d0fe5e3",
   "metadata": {},
   "outputs": [
    {
     "name": "stdout",
     "output_type": "stream",
     "text": [
      "(1, 2, 3, 4, 5, 10, 11, 12)\n"
     ]
    }
   ],
   "source": [
    "# 31. Flatten a nested tuple.\n",
    "\n",
    "# Ans:\n",
    "t19 = (1, 2, 3, 4, 5, (10, 11, 12))\n",
    "l = []\n",
    "l1 = []\n",
    "for i in t19[0:5]:\n",
    "    l.append(i)\n",
    "\n",
    "for i in t19[5]:\n",
    "    l1.append(i)\n",
    "l = l + l1\n",
    "print(tuple(l))"
   ]
  },
  {
   "cell_type": "code",
   "execution_count": 3,
   "id": "2ca90f20",
   "metadata": {},
   "outputs": [
    {
     "name": "stdout",
     "output_type": "stream",
     "text": [
      "50\n",
      "(2, 3, 5, 7, 11, 13, 17, 19, 23, 29, 31, 37, 41, 43, 47)\n"
     ]
    }
   ],
   "source": [
    "# 32. Create a tuple of the first 5 prime numbers.\n",
    "\n",
    "# Ans:\n",
    "\n",
    "l = []\n",
    "n = int(input())\n",
    "\n",
    "for i in range(0,n+1):\n",
    "    for j in range(2, n+1):\n",
    "        if i % j == 0:\n",
    "            break\n",
    "    if i == j:\n",
    "        l.append(i)\n",
    "\n",
    "print(tuple(l))"
   ]
  },
  {
   "cell_type": "code",
   "execution_count": null,
   "id": "604521ba",
   "metadata": {},
   "outputs": [],
   "source": [
    "# 33. Check if a tuple is a palindrome.\n",
    "\n",
    "# Ans:"
   ]
  },
  {
   "cell_type": "code",
   "execution_count": 36,
   "id": "9a01a2e4",
   "metadata": {},
   "outputs": [
    {
     "data": {
      "text/plain": [
       "(0.0, 1.0, 1.4142135623730951, 1.7320508075688772, 2.0)"
      ]
     },
     "execution_count": 36,
     "metadata": {},
     "output_type": "execute_result"
    }
   ],
   "source": [
    "# 34. Create a tuple of squares of numbers from 1 to 5.\n",
    "\n",
    "# Ans:\n",
    "import math\n",
    "list = []\n",
    "for i in range(0,5):\n",
    "    list.append(math.sqrt(i))\n",
    "tuple(list)"
   ]
  },
  {
   "cell_type": "code",
   "execution_count": 40,
   "id": "64691b3a",
   "metadata": {},
   "outputs": [
    {
     "data": {
      "text/plain": [
       "(10, 34, 56, 12)"
      ]
     },
     "execution_count": 40,
     "metadata": {},
     "output_type": "execute_result"
    }
   ],
   "source": [
    "# 35. Filter out all even numbers from a tuple.\n",
    "\n",
    "# Ans:\n",
    "t21 = (10, 34, 56, 89, 12, 75)\n",
    "l = []\n",
    "for i in t21:\n",
    "    if i % 2 == 0:\n",
    "        l.append(i)\n",
    "tuple(l)"
   ]
  },
  {
   "cell_type": "code",
   "execution_count": 54,
   "id": "13e89572",
   "metadata": {},
   "outputs": [
    {
     "data": {
      "text/plain": [
       "(20, 68, 112, 178, 24, 150)"
      ]
     },
     "execution_count": 54,
     "metadata": {},
     "output_type": "execute_result"
    }
   ],
   "source": [
    "# 36. Multiply all elements in a tuple by 2.\n",
    "\n",
    "# Ans:\n",
    "ls = []\n",
    "\n",
    "for i in t21:\n",
    "    ls.append(i*2)\n",
    "\n",
    "tuple(ls)"
   ]
  },
  {
   "cell_type": "code",
   "execution_count": 65,
   "id": "fd9aec88",
   "metadata": {},
   "outputs": [
    {
     "name": "stdout",
     "output_type": "stream",
     "text": [
      "(0.7893018537672163, 0.46210515877291125, 0.24666623809445765, 0.8826509512548769, 0.28601073707527014, 0.014120109290845062, 0.1832095424627297, 0.8230099086723119, 0.8553749013113577, 0.4991788020148108) "
     ]
    }
   ],
   "source": [
    "# 37. Create a tuple of random numbers.\n",
    "\n",
    "# Ans:\n",
    "import random\n",
    "num_l = []\n",
    "\n",
    "for i in range(10):\n",
    "    num_l.append(random.random())\n",
    "\n",
    "print(tuple(num_l), end= ' ')\n"
   ]
  },
  {
   "cell_type": "code",
   "execution_count": 2,
   "id": "2a0aafe5",
   "metadata": {},
   "outputs": [
    {
     "name": "stdout",
     "output_type": "stream",
     "text": [
      "t23 is not sorted\n"
     ]
    }
   ],
   "source": [
    "# 38. Check if a tuple is sorted.\n",
    "\n",
    "# Ans:\n",
    "t23 = (10, 20, 5)\n",
    "\n",
    "if t23 == tuple(sorted(t23)):\n",
    "    print(\"t23 is sorted\")\n",
    "else:\n",
    "    print(\"t23 is not sorted\")\n"
   ]
  },
  {
   "cell_type": "code",
   "execution_count": 3,
   "id": "24e6ac96",
   "metadata": {},
   "outputs": [
    {
     "name": "stdout",
     "output_type": "stream",
     "text": [
      "enter the nth position: 2\n",
      "(5, 10, 20)\n"
     ]
    }
   ],
   "source": [
    "# 39. Rotate a tuple to the left by `n` positions.\n",
    "\n",
    "# Ans:\n",
    "n = int(input(\"enter the nth position: \"))\n",
    "\n",
    "t24 = t23[n:]+t23[:n]\n",
    "print(t24)"
   ]
  },
  {
   "cell_type": "code",
   "execution_count": 10,
   "id": "274d8631",
   "metadata": {},
   "outputs": [
    {
     "name": "stdout",
     "output_type": "stream",
     "text": [
      "(10, 20, 5)\n"
     ]
    },
    {
     "data": {
      "text/plain": [
       "(5, 10, 20)"
      ]
     },
     "execution_count": 10,
     "metadata": {},
     "output_type": "execute_result"
    }
   ],
   "source": [
    "# 40. Rotate a tuple to the right by `n` positions.\n",
    "\n",
    "# Ans:\n",
    "import numpy\n",
    "print(t23)\n",
    "tuple(numpy.roll(t23, 1))"
   ]
  },
  {
   "cell_type": "code",
   "execution_count": 16,
   "id": "851235cf",
   "metadata": {},
   "outputs": [
    {
     "name": "stdout",
     "output_type": "stream",
     "text": [
      "5\n",
      "Fabonacci sequence:\n",
      "0\n",
      "1\n",
      "1\n",
      "2\n",
      "3\n"
     ]
    }
   ],
   "source": [
    "# 41. Create a tuple of the first 5 Fibonacci numbers.\n",
    "\n",
    "# Ans:\n",
    "n = int(input())\n",
    "num1 = 0\n",
    "num2 = 1\n",
    "count = 1\n",
    "\n",
    "if n <= 0:\n",
    "    print(\"enter the positive integer\")\n",
    "elif n == 1:\n",
    "    print(\"Not a valid input\")\n",
    "else:\n",
    "    print(\"Fabonacci sequence:\")\n",
    "    while count <= n:\n",
    "        print(num1)\n",
    "        next_num = num1+ num2\n",
    "        num1 = num2\n",
    "        num2 = next_num\n",
    "        count+=1"
   ]
  },
  {
   "cell_type": "code",
   "execution_count": 18,
   "id": "843e65f7",
   "metadata": {},
   "outputs": [
    {
     "name": "stdout",
     "output_type": "stream",
     "text": [
      "enter the input: 568\n",
      "('5', '6', '8')\n"
     ]
    }
   ],
   "source": [
    "# 42. Create a tuple from user input.\n",
    "\n",
    "# Ans:\n",
    "a = input(\"enter the input: \")\n",
    "print(tuple(a))\n"
   ]
  },
  {
   "cell_type": "code",
   "execution_count": 29,
   "id": "85427cad",
   "metadata": {},
   "outputs": [],
   "source": [
    "# 43. Swap two elements in a tuple.\n",
    "\n",
    "# Ans:\n",
    "t25 = (9, 10)\n",
    "test_list = []\n",
    "test_list.append(t25[1])\n",
    "test_list.append(t25[0])\n",
    "t26 = tuple(test_list)"
   ]
  },
  {
   "cell_type": "code",
   "execution_count": 32,
   "id": "eae6fdf3",
   "metadata": {},
   "outputs": [
    {
     "data": {
      "text/plain": [
       "(11, 10, 89, 34, 2)"
      ]
     },
     "execution_count": 32,
     "metadata": {},
     "output_type": "execute_result"
    }
   ],
   "source": [
    "# 44. Reverse the elements of a tuple.\n",
    "\n",
    "# Ans:\n",
    "t27 = (2, 34, 89, 10,11)\n",
    "t27[::-1]"
   ]
  },
  {
   "cell_type": "code",
   "execution_count": null,
   "id": "ffd50858",
   "metadata": {},
   "outputs": [],
   "source": [
    "# 45. Create a tuple of the first `n` powers of 2.\n",
    "\n",
    "# Ans:\n"
   ]
  },
  {
   "cell_type": "code",
   "execution_count": 34,
   "id": "fb1adf7f",
   "metadata": {},
   "outputs": [
    {
     "name": "stdout",
     "output_type": "stream",
     "text": [
      "ggeks\n"
     ]
    }
   ],
   "source": [
    "# 46. Find the longest string in a tuple of strings.\n",
    "\n",
    "# Ans:\n",
    "t28 = ('ggeks', 'for', 'geeks')\n",
    "longest = max(t28, key = len)\n",
    "print(longest)"
   ]
  },
  {
   "cell_type": "code",
   "execution_count": 36,
   "id": "74ae2f26",
   "metadata": {},
   "outputs": [
    {
     "name": "stdout",
     "output_type": "stream",
     "text": [
      "for\n"
     ]
    }
   ],
   "source": [
    "# 47. Find the shortest string in a tuple of strings.\n",
    "\n",
    "#Ans:\n",
    "shortest = min(t28, key= len)\n",
    "print(shortest)"
   ]
  },
  {
   "cell_type": "code",
   "execution_count": null,
   "id": "9187bf19",
   "metadata": {},
   "outputs": [],
   "source": [
    "# 48. Create a tuple of the first `n` triangular numbers\n",
    "\n",
    "# Ans:\n"
   ]
  },
  {
   "cell_type": "code",
   "execution_count": null,
   "id": "53a85cf8",
   "metadata": {},
   "outputs": [],
   "source": [
    "# 49. Check if a tuple contains another tuple as a subsequence.\n",
    "\n",
    "# Ans:"
   ]
  },
  {
   "cell_type": "code",
   "execution_count": null,
   "id": "bcc1bb7c",
   "metadata": {},
   "outputs": [],
   "source": [
    "# 50. Create a tuple of alternating 1s and 0s of length `n`.\n",
    "\n",
    "# Ans:"
   ]
  },
  {
   "cell_type": "markdown",
   "id": "ca194eb8",
   "metadata": {},
   "source": [
    "## Set Based Practice Problem :"
   ]
  },
  {
   "cell_type": "code",
   "execution_count": 50,
   "id": "73d2bc02",
   "metadata": {},
   "outputs": [],
   "source": [
    "# 1. Create a set with integers from 1 to 5.\n",
    "\n",
    "# Ans:\n",
    "s = set(range(1,6))"
   ]
  },
  {
   "cell_type": "code",
   "execution_count": 51,
   "id": "cb89ad76",
   "metadata": {},
   "outputs": [
    {
     "name": "stdout",
     "output_type": "stream",
     "text": [
      "{1, 2, 3, 4, 5, 7}\n"
     ]
    }
   ],
   "source": [
    "# 2. Add an element to a set.\n",
    "\n",
    "# Ans:\n",
    "s.add(7)\n",
    "print(s)"
   ]
  },
  {
   "cell_type": "code",
   "execution_count": 52,
   "id": "8af4c724",
   "metadata": {},
   "outputs": [
    {
     "name": "stdout",
     "output_type": "stream",
     "text": [
      "{1, 2, 3, 5, 7}\n"
     ]
    }
   ],
   "source": [
    "# 3. Remove an element from a set.\n",
    "\n",
    "# Ans:\n",
    "s.remove(4)\n",
    "print(s)"
   ]
  },
  {
   "cell_type": "code",
   "execution_count": 68,
   "id": "93d755fc",
   "metadata": {},
   "outputs": [
    {
     "name": "stdout",
     "output_type": "stream",
     "text": [
      "{1, 2, 3, 5, 7}\n",
      "enter the validation element: 35\n",
      "False\n"
     ]
    }
   ],
   "source": [
    "# 4. Check if an element exists in a set.\n",
    "\n",
    "# Ans:\n",
    "print(s)\n",
    "element = int(input(\"enter the validation element: \"))\n",
    "print(element in s)"
   ]
  },
  {
   "cell_type": "code",
   "execution_count": 70,
   "id": "c9b9c1e0",
   "metadata": {},
   "outputs": [
    {
     "name": "stdout",
     "output_type": "stream",
     "text": [
      "5\n"
     ]
    }
   ],
   "source": [
    "# 5. Find the length of a set without using the `len()` function.\n",
    "\n",
    "#Ans:\n",
    "count= 0\n",
    "for i in s:\n",
    "    count+=1\n",
    "print(count)"
   ]
  },
  {
   "cell_type": "code",
   "execution_count": 72,
   "id": "0831e8c2",
   "metadata": {},
   "outputs": [
    {
     "name": "stdout",
     "output_type": "stream",
     "text": [
      "set()\n"
     ]
    }
   ],
   "source": [
    "# 6. Clear all elements from a set.\n",
    "\n",
    "# Ans:\n",
    "s1 = {7,9,0}\n",
    "s1.clear()\n",
    "print(s1)"
   ]
  },
  {
   "cell_type": "code",
   "execution_count": 2,
   "id": "c943dd45",
   "metadata": {},
   "outputs": [
    {
     "data": {
      "text/plain": [
       "{0, 2, 4, 6, 8, 10}"
      ]
     },
     "execution_count": 2,
     "metadata": {},
     "output_type": "execute_result"
    }
   ],
   "source": [
    "# 7. Create a set of even numbers from 1 to 10.\n",
    "\n",
    "# Ans:\n",
    "l1 = []\n",
    "for i in range(11):\n",
    "    if i%2==0:\n",
    "        l1.append(i)\n",
    "        \n",
    "set(l1)"
   ]
  },
  {
   "cell_type": "code",
   "execution_count": 4,
   "id": "02008812",
   "metadata": {},
   "outputs": [
    {
     "data": {
      "text/plain": [
       "{1, 3, 5, 7, 9}"
      ]
     },
     "execution_count": 4,
     "metadata": {},
     "output_type": "execute_result"
    }
   ],
   "source": [
    "# 8. Create a set of odd numbers from 1 to 10.\n",
    "\n",
    "# Ans:\n",
    "l1 = []\n",
    "for i in range(11):\n",
    "    if i%2!=0:\n",
    "        l1.append(i)\n",
    "set(l1)"
   ]
  },
  {
   "cell_type": "code",
   "execution_count": 6,
   "id": "0dbe5272",
   "metadata": {},
   "outputs": [
    {
     "name": "stdout",
     "output_type": "stream",
     "text": [
      "{1, 2, 3, 4, 5, 6}\n"
     ]
    }
   ],
   "source": [
    "# 9. Find the union of two sets.\n",
    "\n",
    "# Ans:\n",
    "\n",
    "a = {1,2,3}\n",
    "b = {4,5,6}\n",
    "\n",
    "set_ = a.union(b)\n",
    "print(set_)"
   ]
  },
  {
   "cell_type": "code",
   "execution_count": 7,
   "id": "ada3952b",
   "metadata": {},
   "outputs": [
    {
     "data": {
      "text/plain": [
       "{3, 4}"
      ]
     },
     "execution_count": 7,
     "metadata": {},
     "output_type": "execute_result"
    }
   ],
   "source": [
    "# 10. Find the intersection of two sets.\n",
    "\n",
    "# Ans:\n",
    "a = {1,2,3,4}\n",
    "b = {3,4,5,6}\n",
    "\n",
    "a.intersection(b)"
   ]
  },
  {
   "cell_type": "code",
   "execution_count": 12,
   "id": "57a5f251",
   "metadata": {},
   "outputs": [
    {
     "name": "stdout",
     "output_type": "stream",
     "text": [
      "{1, 2, 5, 6}\n"
     ]
    }
   ],
   "source": [
    "# 11. Find the difference between two sets.\n",
    "\n",
    "# Ans:\n",
    "c = a.difference(b)\n",
    "d = b.difference(a)\n",
    "print(c.union(d))"
   ]
  },
  {
   "cell_type": "code",
   "execution_count": 15,
   "id": "a6bc842b",
   "metadata": {},
   "outputs": [
    {
     "data": {
      "text/plain": [
       "True"
      ]
     },
     "execution_count": 15,
     "metadata": {},
     "output_type": "execute_result"
    }
   ],
   "source": [
    "# 12. Check if a set is a subset of another set.\n",
    "\n",
    "# Ans:\n",
    "x = {1,2,3,4,5,6}\n",
    "y = {4,5,6}\n",
    "y.issubset(x)"
   ]
  },
  {
   "cell_type": "code",
   "execution_count": 16,
   "id": "874e017c",
   "metadata": {},
   "outputs": [
    {
     "data": {
      "text/plain": [
       "True"
      ]
     },
     "execution_count": 16,
     "metadata": {},
     "output_type": "execute_result"
    }
   ],
   "source": [
    "# 13. Check if a set is a superset of another set.\n",
    "\n",
    "# Ans:\n",
    "x.issuperset(y)"
   ]
  },
  {
   "cell_type": "code",
   "execution_count": 19,
   "id": "c4b48a2b",
   "metadata": {},
   "outputs": [],
   "source": [
    "# 14. Create a set from a list.\n",
    "\n",
    "# Ans:\n",
    "li = [1,2,3,4,5]\n",
    "ln = set(li)"
   ]
  },
  {
   "cell_type": "code",
   "execution_count": 20,
   "id": "4863419c",
   "metadata": {},
   "outputs": [
    {
     "name": "stdout",
     "output_type": "stream",
     "text": [
      "[1, 2, 3, 4, 5]\n"
     ]
    }
   ],
   "source": [
    "# 15. Convert a set to a list.\n",
    "\n",
    "# Ans:\n",
    "new_s = list(ln)\n",
    "print(new_s)"
   ]
  },
  {
   "cell_type": "code",
   "execution_count": 25,
   "id": "87f432e1",
   "metadata": {},
   "outputs": [
    {
     "name": "stdout",
     "output_type": "stream",
     "text": [
      "{1, 3, 67, 5, 90}\n"
     ]
    },
    {
     "name": "stderr",
     "output_type": "stream",
     "text": [
      "C:\\Users\\ADITIG~1\\AppData\\Local\\Temp/ipykernel_20760/810785735.py:6: DeprecationWarning: Sampling from a set deprecated\n",
      "since Python 3.9 and will be removed in a subsequent version.\n",
      "  x.remove(random.sample(x,1)[0])\n"
     ]
    }
   ],
   "source": [
    "# 16. Remove a random element from a set\n",
    "\n",
    "# Ans:\n",
    "import random\n",
    "x = {1,2,3,5,67,90}\n",
    "x.remove(random.sample(x,1)[0])\n",
    "print(x)"
   ]
  },
  {
   "cell_type": "code",
   "execution_count": 27,
   "id": "ac7bdf2f",
   "metadata": {},
   "outputs": [
    {
     "data": {
      "text/plain": [
       "{5, 67, 90}"
      ]
     },
     "execution_count": 27,
     "metadata": {},
     "output_type": "execute_result"
    }
   ],
   "source": [
    "# 17. Pop an element from a set.\n",
    "\n",
    "# Ans:\n",
    "x.pop()\n",
    "x"
   ]
  },
  {
   "cell_type": "code",
   "execution_count": 43,
   "id": "d55caf14",
   "metadata": {},
   "outputs": [
    {
     "name": "stdout",
     "output_type": "stream",
     "text": [
      "True\n"
     ]
    }
   ],
   "source": [
    "# 18. Check if two sets have no elements in common.\n",
    "\n",
    "# Ans:\n",
    "\n",
    "x = {1,2,3,4}\n",
    "y = {6,7,8,5}\n",
    "t = x.intersection(y)\n",
    "count = 0\n",
    "\n",
    "for i in t:\n",
    "    count+=1\n",
    "    \n",
    "if count> 0:\n",
    "    print('False')\n",
    "else:\n",
    "    print('True')"
   ]
  },
  {
   "cell_type": "code",
   "execution_count": 46,
   "id": "8087ab14",
   "metadata": {},
   "outputs": [
    {
     "data": {
      "text/plain": [
       "{1, 2, 5, 6}"
      ]
     },
     "execution_count": 46,
     "metadata": {},
     "output_type": "execute_result"
    }
   ],
   "source": [
    "# 19. Find the symmetric difference between two sets.\n",
    "\n",
    "# Ans:\n",
    "a = {1,2,3,4}\n",
    "b = {3,4,5,6}\n",
    "\n",
    "c = a.difference(b)\n",
    "d = b.difference(a)\n",
    "c.union(d)"
   ]
  },
  {
   "cell_type": "code",
   "execution_count": 49,
   "id": "f8424320",
   "metadata": {},
   "outputs": [
    {
     "data": {
      "text/plain": [
       "{1, 2, 3, 4, 5, 6}"
      ]
     },
     "execution_count": 49,
     "metadata": {},
     "output_type": "execute_result"
    }
   ],
   "source": [
    "# 20. Update a set with elements from another set.\n",
    "\n",
    "# Ans:\n",
    "a.update(b)\n",
    "a"
   ]
  },
  {
   "cell_type": "code",
   "execution_count": null,
   "id": "5af4ebee",
   "metadata": {},
   "outputs": [],
   "source": [
    "# 21. Create a set of the first 5 prime numbers.\n",
    "\n",
    "# Ans:\n"
   ]
  },
  {
   "cell_type": "code",
   "execution_count": 51,
   "id": "a91cdf1f",
   "metadata": {},
   "outputs": [
    {
     "name": "stdout",
     "output_type": "stream",
     "text": [
      "Two sets are identical\n"
     ]
    }
   ],
   "source": [
    "# 22. Check if two sets are identical.\n",
    "\n",
    "# Ans:\n",
    "\n",
    "x = {1,2,3}\n",
    "y = {1,2,3}\n",
    "\n",
    "if x== y:\n",
    "    print(\"Two sets are identical\")\n",
    "else:\n",
    "    print(\"Two sets are not identical\")"
   ]
  },
  {
   "cell_type": "code",
   "execution_count": 54,
   "id": "9f92045c",
   "metadata": {},
   "outputs": [
    {
     "name": "stdout",
     "output_type": "stream",
     "text": [
      "frozenset({'banana', 'orange', 'apple'})\n"
     ]
    }
   ],
   "source": [
    "# 23. Create a frozen set.\n",
    "\n",
    "# Ans:\n",
    "fruits = frozenset({\"apple\", \"banana\", \"orange\"})\n",
    "print(fruits)\n"
   ]
  },
  {
   "cell_type": "code",
   "execution_count": 57,
   "id": "441ad8d3",
   "metadata": {},
   "outputs": [
    {
     "data": {
      "text/plain": [
       "True"
      ]
     },
     "execution_count": 57,
     "metadata": {},
     "output_type": "execute_result"
    }
   ],
   "source": [
    "# 24. Check if a set is disjoint with another set.\n",
    "\n",
    "# Ans:\n",
    "x = {1,2,3,4}\n",
    "y = {5,6,7}\n",
    "x.isdisjoint(y)"
   ]
  },
  {
   "cell_type": "code",
   "execution_count": 70,
   "id": "3e7485bb",
   "metadata": {},
   "outputs": [
    {
     "data": {
      "text/plain": [
       "{1, 4, 9, 16, 25}"
      ]
     },
     "execution_count": 70,
     "metadata": {},
     "output_type": "execute_result"
    }
   ],
   "source": [
    "# 25. Create a set of squares of numbers from 1 to 5.\n",
    "\n",
    "# Ans:\n",
    "li_t = []\n",
    "import math\n",
    "for i in range(1,6):\n",
    "    li_t.append(i*i)\n",
    "set(li_t)"
   ]
  },
  {
   "cell_type": "code",
   "execution_count": 1,
   "id": "d1ad39b1",
   "metadata": {},
   "outputs": [
    {
     "name": "stdout",
     "output_type": "stream",
     "text": [
      "{2, 4, 10, 20, 56}\n"
     ]
    }
   ],
   "source": [
    "# 26. Filter out all even numbers from a set.\n",
    "\n",
    "# Ans:\n",
    "es = {2,4,56,89,10,45,89,20}\n",
    "# l= []\n",
    "# for i in es:\n",
    "#     if i % 2== 0:\n",
    "#         l.append(i)\n",
    "# set(l)\n",
    "\n",
    "even = filter(lambda x : x%2==0, es)\n",
    "print(set(even))"
   ]
  },
  {
   "cell_type": "code",
   "execution_count": 2,
   "id": "07eef5b0",
   "metadata": {},
   "outputs": [
    {
     "name": "stdout",
     "output_type": "stream",
     "text": [
      "{2, 4, 20, 56, 89, 10, 45}\n"
     ]
    },
    {
     "data": {
      "text/plain": [
       "{4, 8, 20, 40, 90, 112, 178}"
      ]
     },
     "execution_count": 2,
     "metadata": {},
     "output_type": "execute_result"
    }
   ],
   "source": [
    "# 27. Multiply all elements in a set by 2.\n",
    "# Ans:\n",
    "print(es)\n",
    "mul = set(map(lambda x: x*2, es))\n",
    "mul"
   ]
  },
  {
   "cell_type": "code",
   "execution_count": 5,
   "id": "7a9d52b5",
   "metadata": {},
   "outputs": [
    {
     "data": {
      "text/plain": [
       "{54, 59, 72, 81, 99}"
      ]
     },
     "execution_count": 5,
     "metadata": {},
     "output_type": "execute_result"
    }
   ],
   "source": [
    "# 28. Create a set of random numbers.\n",
    "\n",
    "# Ans:\n",
    "import random\n",
    "\n",
    "set(random.sample(range(0,100), 5))"
   ]
  },
  {
   "cell_type": "code",
   "execution_count": 13,
   "id": "12b7ff4e",
   "metadata": {},
   "outputs": [
    {
     "name": "stdout",
     "output_type": "stream",
     "text": [
      "set is empty\n"
     ]
    }
   ],
   "source": [
    "# 29. Check if a set is empty\n",
    "\n",
    "# Ans:\n",
    "m = {}\n",
    "z = {}\n",
    "if z == m:\n",
    "    print('set is empty')\n",
    "else:\n",
    "    print('set is not empty')"
   ]
  },
  {
   "cell_type": "code",
   "execution_count": 20,
   "id": "711f25a5",
   "metadata": {},
   "outputs": [
    {
     "data": {
      "text/plain": [
       "{(frozenset({1, 2, 4}), frozenset({4, 5, 6}))}"
      ]
     },
     "execution_count": 20,
     "metadata": {},
     "output_type": "execute_result"
    }
   ],
   "source": [
    "# 30. Create a nested set\n",
    "\n",
    "# Ans:\n",
    "s1 = {1,2,4}\n",
    "s2 = {4,5,6}\n",
    "set_y = {}\n",
    "set_y= {(frozenset(s1),frozenset(s2))}\n",
    "set_y"
   ]
  },
  {
   "cell_type": "code",
   "execution_count": 22,
   "id": "9f5d46d5",
   "metadata": {},
   "outputs": [
    {
     "data": {
      "text/plain": [
       "{1, 2}"
      ]
     },
     "execution_count": 22,
     "metadata": {},
     "output_type": "execute_result"
    }
   ],
   "source": [
    "# 31. Remove an element from a set using the discard method\n",
    "\n",
    "# Ans:\n",
    "s1.discard(4)\n",
    "s1"
   ]
  },
  {
   "cell_type": "code",
   "execution_count": 28,
   "id": "893e752c",
   "metadata": {},
   "outputs": [
    {
     "name": "stdout",
     "output_type": "stream",
     "text": [
      "sets are identical\n"
     ]
    }
   ],
   "source": [
    "# 32. Compare two sets.\n",
    "\n",
    "# Ans:\n",
    "s1 = {1,2,4}\n",
    "s2 = {1,2,4}\n",
    "\n",
    "if len(s1) == len(s2):\n",
    "    if s1 == s2:\n",
    "        print('sets are identical')\n",
    "    else:\n",
    "        print('sets are not identical')\n",
    "else:\n",
    "     print('sets are not identical')"
   ]
  },
  {
   "cell_type": "code",
   "execution_count": 30,
   "id": "ae886a55",
   "metadata": {},
   "outputs": [
    {
     "data": {
      "text/plain": [
       "{' ', 'a', 'd', 'e', 'g', 'i', 'n', 'o', 'r', 's', 't'}"
      ]
     },
     "execution_count": 30,
     "metadata": {},
     "output_type": "execute_result"
    }
   ],
   "source": [
    "# 33. Create a set from a string.\n",
    "\n",
    "# Ans:\n",
    "stru = 'aditi is doing great'\n",
    "\n",
    "set(stru)"
   ]
  },
  {
   "cell_type": "code",
   "execution_count": 33,
   "id": "f65cfb24",
   "metadata": {},
   "outputs": [
    {
     "data": {
      "text/plain": [
       "{1, 2}"
      ]
     },
     "execution_count": 33,
     "metadata": {},
     "output_type": "execute_result"
    }
   ],
   "source": [
    "# 34. Convert a set of strings to a set of integers\n",
    "\n",
    "# Ans:\n",
    "set1= { '1', '2' }\n",
    "new_set = set(map(int,set1))\n",
    "new_set"
   ]
  },
  {
   "cell_type": "code",
   "execution_count": 34,
   "id": "9ba58d15",
   "metadata": {},
   "outputs": [
    {
     "data": {
      "text/plain": [
       "{'1', '2'}"
      ]
     },
     "execution_count": 34,
     "metadata": {},
     "output_type": "execute_result"
    }
   ],
   "source": [
    "# 35. Convert a set of integers to a set of strings.\n",
    "\n",
    "# Ans:\n",
    "set_str = set(map(str, new_set))\n",
    "set_str"
   ]
  },
  {
   "cell_type": "code",
   "execution_count": 37,
   "id": "3a1b0895",
   "metadata": {},
   "outputs": [
    {
     "data": {
      "text/plain": [
       "{1, 2, 3, 45}"
      ]
     },
     "execution_count": 37,
     "metadata": {},
     "output_type": "execute_result"
    }
   ],
   "source": [
    "# 36. Create a set from a tuple.\n",
    "\n",
    "# Ans:\n",
    "t = (1,2,3,45)\n",
    "n_s = set(t)\n",
    "n_s"
   ]
  },
  {
   "cell_type": "code",
   "execution_count": 38,
   "id": "28f2fae4",
   "metadata": {},
   "outputs": [
    {
     "data": {
      "text/plain": [
       "(1, 2, 3, 45)"
      ]
     },
     "execution_count": 38,
     "metadata": {},
     "output_type": "execute_result"
    }
   ],
   "source": [
    "# 37. Convert a set to a tuple.\n",
    "\n",
    "# Ans:\n",
    "tuple(n_s)"
   ]
  },
  {
   "cell_type": "code",
   "execution_count": 41,
   "id": "41b1a8da",
   "metadata": {},
   "outputs": [
    {
     "data": {
      "text/plain": [
       "45"
      ]
     },
     "execution_count": 41,
     "metadata": {},
     "output_type": "execute_result"
    }
   ],
   "source": [
    "# 38. Find the maximum value in a set.\n",
    "\n",
    "# Ans:\n",
    "max(n_s)"
   ]
  },
  {
   "cell_type": "code",
   "execution_count": 42,
   "id": "43dcd166",
   "metadata": {},
   "outputs": [
    {
     "data": {
      "text/plain": [
       "1"
      ]
     },
     "execution_count": 42,
     "metadata": {},
     "output_type": "execute_result"
    }
   ],
   "source": [
    "# 39. Find the minimum value in a set.\n",
    "\n",
    "# Ans:\n",
    "min(n_s)"
   ]
  },
  {
   "cell_type": "code",
   "execution_count": 50,
   "id": "d8713f27",
   "metadata": {},
   "outputs": [
    {
     "name": "stdout",
     "output_type": "stream",
     "text": [
      "89\n"
     ]
    },
    {
     "data": {
      "text/plain": [
       "{'8', '9'}"
      ]
     },
     "execution_count": 50,
     "metadata": {},
     "output_type": "execute_result"
    }
   ],
   "source": [
    "# 40. Create a set from user input.\n",
    "\n",
    "# Ans:\n",
    "\n",
    "inp = input()\n",
    "set(inp)"
   ]
  },
  {
   "cell_type": "code",
   "execution_count": 88,
   "id": "b602457d",
   "metadata": {},
   "outputs": [
    {
     "name": "stdout",
     "output_type": "stream",
     "text": [
      "set()\n"
     ]
    }
   ],
   "source": [
    "# 41. Check if the intersection of two sets is empty.\n",
    "\n",
    "# Ans:\n",
    "s1 = {1,2}\n",
    "s2 = {8}\n",
    "ns = {}\n",
    "\n",
    "\n",
    "# result = s1.intersection(s2) \n",
    "# print(result)"
   ]
  },
  {
   "cell_type": "code",
   "execution_count": 92,
   "id": "9344552b",
   "metadata": {},
   "outputs": [
    {
     "name": "stdout",
     "output_type": "stream",
     "text": [
      "5\n",
      "Fibonacci numbers: \n",
      "0\n",
      "1\n",
      "1\n",
      "2\n",
      "3\n",
      "5\n"
     ]
    }
   ],
   "source": [
    "# 42. Create a set of the first 5 Fibonacci numbers.\n",
    "\n",
    "# Ans:\n",
    "num1 = 0\n",
    "num2 =1\n",
    "count= 0\n",
    "n = int(input())\n",
    "\n",
    "if n<=0:\n",
    "    print('Enter the positive number')\n",
    "elif n== 1:\n",
    "    print(\"Enter thr valid input\")\n",
    "else:\n",
    "    print(\"Fibonacci numbers: \")\n",
    "    while count<=n:\n",
    "        print(num1)\n",
    "        next_num = num1 + num2\n",
    "        num1 = num2\n",
    "        num2 = next_num\n",
    "        count +=1"
   ]
  },
  {
   "cell_type": "code",
   "execution_count": 93,
   "id": "d6a2b157",
   "metadata": {},
   "outputs": [
    {
     "data": {
      "text/plain": [
       "{2, 3, 4, 5, 6, 7, 8, 10}"
      ]
     },
     "execution_count": 93,
     "metadata": {},
     "output_type": "execute_result"
    }
   ],
   "source": [
    "# 43. Remove duplicates from a list using sets.\n",
    "\n",
    "# Ans:\n",
    "\n",
    "list_t = [2,3,2,4,5,6,6,7,8,10,10]\n",
    "set(list_t)"
   ]
  },
  {
   "cell_type": "code",
   "execution_count": 102,
   "id": "bf3e7724",
   "metadata": {},
   "outputs": [
    {
     "data": {
      "text/plain": [
       "{1, 2, 4, 5}"
      ]
     },
     "execution_count": 102,
     "metadata": {},
     "output_type": "execute_result"
    }
   ],
   "source": [
    "# 44. Check if two sets have the same elements, regardless of their count.\n",
    "\n",
    "# Ans:\n",
    "se = {1,2,2,4,5,6}\n",
    "es = {1,2,3,4,5}\n",
    "\n",
    "# print(se.intersection(es))\n",
    "se.intersection(es)"
   ]
  },
  {
   "cell_type": "code",
   "execution_count": 5,
   "id": "af53a2d2",
   "metadata": {},
   "outputs": [
    {
     "ename": "IndentationError",
     "evalue": "expected an indented block (Temp/ipykernel_15612/2016053122.py, line 5)",
     "output_type": "error",
     "traceback": [
      "\u001b[1;36m  File \u001b[1;32m\"C:\\Users\\ADITIG~1\\AppData\\Local\\Temp/ipykernel_15612/2016053122.py\"\u001b[1;36m, line \u001b[1;32m5\u001b[0m\n\u001b[1;33m    myList = []\u001b[0m\n\u001b[1;37m    ^\u001b[0m\n\u001b[1;31mIndentationError\u001b[0m\u001b[1;31m:\u001b[0m expected an indented block\n"
     ]
    }
   ],
   "source": [
    "# 45. Create a set of the first `n` powers of 2.\n",
    "\n",
    "# Ans:\n",
    "def problem(n):\n",
    "myList = []    \n",
    "for j in range(0, n):\n",
    "    number = 2 ** j\n",
    "    myList.append(number)\n",
    "return myList\n",
    "\n"
   ]
  },
  {
   "cell_type": "code",
   "execution_count": 103,
   "id": "8d10fcfd",
   "metadata": {},
   "outputs": [
    {
     "data": {
      "text/plain": [
       "{2, 4, 5}"
      ]
     },
     "execution_count": 103,
     "metadata": {},
     "output_type": "execute_result"
    }
   ],
   "source": [
    "# 46. Find the common elements between a set and a list.\n",
    "\n",
    "# Ans:\n",
    "se = {1,2,4,5,6}\n",
    "ist = [2,3,4,5,7,8,9]\n",
    "se.intersection(ist)"
   ]
  },
  {
   "cell_type": "code",
   "execution_count": null,
   "id": "736c4508",
   "metadata": {},
   "outputs": [],
   "source": [
    "# 47. Create a set of the first `n` triangular numbers.\n",
    "\n",
    "# Ans:\n"
   ]
  },
  {
   "cell_type": "code",
   "execution_count": 104,
   "id": "073d7179",
   "metadata": {},
   "outputs": [
    {
     "data": {
      "text/plain": [
       "True"
      ]
     },
     "execution_count": 104,
     "metadata": {},
     "output_type": "execute_result"
    }
   ],
   "source": [
    "# 48. Check if a set contains another set as a subset.\n",
    "\n",
    "# Ans:\n",
    "s1 = {1,2,3,4,5,6}\n",
    "s2 = {4,5,6}\n",
    "\n",
    "s2.issubset(s1)"
   ]
  },
  {
   "cell_type": "code",
   "execution_count": 8,
   "id": "c3d5efd6",
   "metadata": {},
   "outputs": [
    {
     "name": "stdout",
     "output_type": "stream",
     "text": [
      "5\n"
     ]
    },
    {
     "data": {
      "text/plain": [
       "[0, 1]"
      ]
     },
     "execution_count": 8,
     "metadata": {},
     "output_type": "execute_result"
    }
   ],
   "source": [
    "# 49. Create a set of alternating 1s and 0s of length `n`\n",
    "\n",
    "# Ans:\n",
    "# st = {}\n",
    "# li = [0,1]\n",
    "# n = int(input())\n",
    "# count = 0\n",
    "# lis = []\n",
    "\n",
    "# if count <= n:\n",
    "#     lis.append(0)\n",
    "#     lis.append(1)\n",
    "#     count+=1\n",
    "\n",
    "#     lis"
   ]
  },
  {
   "cell_type": "code",
   "execution_count": 10,
   "id": "52c3816a",
   "metadata": {},
   "outputs": [
    {
     "data": {
      "text/plain": [
       "{1, 2, 3, 4, 5, 6, 7, 8, 9}"
      ]
     },
     "execution_count": 10,
     "metadata": {},
     "output_type": "execute_result"
    }
   ],
   "source": [
    "# 50. Merge multiple sets into one.\n",
    "\n",
    "# Ans:\n",
    "\n",
    "s1 = {1,2,3}\n",
    "s2 = {4,5,6}\n",
    "s3 = {7,8,9}\n",
    "\n",
    "s1.union(s2, s3)"
   ]
  },
  {
   "cell_type": "code",
   "execution_count": null,
   "id": "3087174b",
   "metadata": {},
   "outputs": [],
   "source": []
  }
 ],
 "metadata": {
  "kernelspec": {
   "display_name": "Python 3 (ipykernel)",
   "language": "python",
   "name": "python3"
  },
  "language_info": {
   "codemirror_mode": {
    "name": "ipython",
    "version": 3
   },
   "file_extension": ".py",
   "mimetype": "text/x-python",
   "name": "python",
   "nbconvert_exporter": "python",
   "pygments_lexer": "ipython3",
   "version": "3.9.7"
  }
 },
 "nbformat": 4,
 "nbformat_minor": 5
}
