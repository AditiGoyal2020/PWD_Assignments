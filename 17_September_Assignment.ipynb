{
 "cells": [
  {
   "cell_type": "markdown",
   "id": "2c19dc2d",
   "metadata": {},
   "source": [
    "## For Loop :-"
   ]
  },
  {
   "cell_type": "code",
   "execution_count": 2,
   "id": "fd060114",
   "metadata": {},
   "outputs": [
    {
     "name": "stdout",
     "output_type": "stream",
     "text": [
      "1\n",
      "2\n",
      "3\n",
      "4\n",
      "5\n",
      "6\n",
      "7\n",
      "8\n",
      "9\n",
      "10\n"
     ]
    }
   ],
   "source": [
    "# 1. Write a Python program to print numbers from 1 to 10 using a for loop.\n",
    "\n",
    "# Ans:\n",
    "for i in range(1,11):\n",
    "    print(i)"
   ]
  },
  {
   "cell_type": "markdown",
   "id": "90f0fe0e",
   "metadata": {},
   "source": [
    "Explain the difference between a for loop and a while loop in Python.\n",
    "\n",
    "Ans:\n",
    "For loop is used to iterate over a sequence of items.\n",
    "\n",
    "While loop is used to repeatedly execute a block of statements while a condition is true. "
   ]
  },
  {
   "cell_type": "code",
   "execution_count": 5,
   "id": "185083f9",
   "metadata": {},
   "outputs": [
    {
     "name": "stdout",
     "output_type": "stream",
     "text": [
      "sum of range is: 5050\n"
     ]
    }
   ],
   "source": [
    "# 3. Write a Python program to calculate the sum of all numbers from 1 to 100 using a for loop.\n",
    "\n",
    "# Ans:\n",
    "s =0\n",
    "for i in range(1,101):\n",
    "    s+=i\n",
    "print(\"sum of range is:\", s)"
   ]
  },
  {
   "cell_type": "code",
   "execution_count": 6,
   "id": "dd81f90a",
   "metadata": {},
   "outputs": [
    {
     "name": "stdout",
     "output_type": "stream",
     "text": [
      "1\n",
      "2\n",
      "3\n",
      "4\n",
      "5\n",
      "6\n",
      "7\n"
     ]
    }
   ],
   "source": [
    "# 4. How do you iterate through a list using a for loop in Python?\n",
    "\n",
    "# Ans:\n",
    "l = [1,2,3,4,5,6,7]\n",
    "\n",
    "for i in l:\n",
    "    print(i)"
   ]
  },
  {
   "cell_type": "code",
   "execution_count": 7,
   "id": "9a1b2e0f",
   "metadata": {},
   "outputs": [
    {
     "name": "stdout",
     "output_type": "stream",
     "text": [
      "5040\n"
     ]
    }
   ],
   "source": [
    "# 5. Write a Python program to find the product of all elements in a list using a for loop.\n",
    "\n",
    "# Ans:\n",
    "s = 1\n",
    "for i in l:\n",
    "    s = s*i\n",
    "print(s)"
   ]
  },
  {
   "cell_type": "code",
   "execution_count": 9,
   "id": "05449fcc",
   "metadata": {
    "scrolled": true
   },
   "outputs": [
    {
     "name": "stdout",
     "output_type": "stream",
     "text": [
      "2\n",
      "4\n",
      "6\n",
      "8\n",
      "10\n",
      "12\n",
      "14\n",
      "16\n",
      "18\n",
      "20\n"
     ]
    }
   ],
   "source": [
    "# 6. Create a Python program that prints all even numbers from 1 to 20 using a for loop.\n",
    "\n",
    "# Ans:\n",
    "for i in range(1,21):\n",
    "    if i%2==0:\n",
    "        print(i)"
   ]
  },
  {
   "cell_type": "code",
   "execution_count": 15,
   "id": "b9607724",
   "metadata": {},
   "outputs": [
    {
     "name": "stdout",
     "output_type": "stream",
     "text": [
      "5\n",
      "The factorial of the given number is : 120\n"
     ]
    }
   ],
   "source": [
    "# 7. Write a Python program that calculates the factorial of a number using a for loop.\n",
    "\n",
    "# Ans:\n",
    "n = int(input())\n",
    "fact = 1\n",
    "for i in range(1,n+1):\n",
    "    fact = fact*i\n",
    "print(\"The factorial of the given number is :\", fact)"
   ]
  },
  {
   "cell_type": "code",
   "execution_count": 17,
   "id": "3b79664f",
   "metadata": {},
   "outputs": [
    {
     "name": "stdout",
     "output_type": "stream",
     "text": [
      "a\n",
      "d\n",
      "i\n",
      "t\n",
      "i\n",
      " \n",
      "g\n",
      "o\n",
      "y\n",
      "a\n",
      "l\n"
     ]
    }
   ],
   "source": [
    "# 8. How can you iterate through the characters of a string using a for loop in Python?\n",
    "\n",
    "# Ans:\n",
    "\n",
    "s = \"aditi goyal\"\n",
    "\n",
    "for i in s:\n",
    "    print(i)"
   ]
  },
  {
   "cell_type": "code",
   "execution_count": 30,
   "id": "f2c3c526",
   "metadata": {},
   "outputs": [
    {
     "name": "stdout",
     "output_type": "stream",
     "text": [
      "largest number is:  10\n"
     ]
    }
   ],
   "source": [
    "# 9. Write a Python program to find the largest number in a list using a for loop.\n",
    "\n",
    "# Ans:\n",
    "l = [2,3,1,4,6,3,8,10,4,1,5]\n",
    "largest_int = l[0]\n",
    "\n",
    "for i in l:\n",
    "    if i > largest_int:\n",
    "        largest_int = i\n",
    "\n",
    "print('largest number is: ', largest_int)"
   ]
  },
  {
   "cell_type": "code",
   "execution_count": 5,
   "id": "b37b7fb9",
   "metadata": {},
   "outputs": [
    {
     "name": "stdout",
     "output_type": "stream",
     "text": [
      "20\n",
      "1\n",
      "2\n",
      "3\n",
      "5\n",
      "8\n",
      "13\n",
      "21\n",
      "34\n",
      "55\n",
      "89\n",
      "144\n",
      "233\n",
      "377\n",
      "610\n",
      "987\n",
      "1597\n",
      "2584\n",
      "4181\n",
      "6765\n"
     ]
    }
   ],
   "source": [
    "# 10. Create a Python program that prints the Fibonacci sequence up to a specified limit using a for loop.\n",
    "\n",
    "# Ans:\n",
    "n = int(input(\"Number of fab series: \"))\n",
    "num1 = 0\n",
    "num2 = 1\n",
    "count = 0\n",
    "for i in range(2, (n+1)):\n",
    "    if i <= 1:\n",
    "        value = i\n",
    "    else:\n",
    "        value = num1 +num2\n",
    "        num1 = num2\n",
    "        num2 = value\n",
    "    print(value)"
   ]
  },
  {
   "cell_type": "code",
   "execution_count": 17,
   "id": "bfa7f449",
   "metadata": {},
   "outputs": [
    {
     "name": "stdout",
     "output_type": "stream",
     "text": [
      "aditi\n",
      "Number of vowels are:  3\n"
     ]
    }
   ],
   "source": [
    "# 11. Write a Python program to count the number of vowels in a given string using a for loop.\n",
    "\n",
    "# Ans:\n",
    "l = ['a','e', 'i', 'o', 'u', 'A', 'E', 'I','O', 'U']\n",
    "count = 0\n",
    "s = input()\n",
    "for i in s:\n",
    "    if i in l:\n",
    "        count+=1\n",
    "print(\"Number of vowels are: \", count)"
   ]
  },
  {
   "cell_type": "code",
   "execution_count": 2,
   "id": "be698d8d",
   "metadata": {},
   "outputs": [
    {
     "name": "stdout",
     "output_type": "stream",
     "text": [
      "Enter the number for which table is required: 10\n",
      "10 * 1 = 10\n",
      "10 * 2 = 20\n",
      "10 * 3 = 30\n",
      "10 * 4 = 40\n",
      "10 * 5 = 50\n",
      "10 * 6 = 60\n",
      "10 * 7 = 70\n",
      "10 * 8 = 80\n",
      "10 * 9 = 90\n",
      "10 * 10 = 100\n"
     ]
    }
   ],
   "source": [
    "# 12. Create a Python program that generates a multiplication table for a given number using a for loop.\n",
    "\n",
    "# Ans:\n",
    "n = int(input(\"Enter the number for which table is required: \"))\n",
    "for i in range(1,11):\n",
    "    print(n ,\"*\",i, \"=\", n*i )\n",
    "    i +=1"
   ]
  },
  {
   "cell_type": "code",
   "execution_count": 9,
   "id": "81b8733e",
   "metadata": {},
   "outputs": [
    {
     "name": "stdout",
     "output_type": "stream",
     "text": [
      "['n', 'p', 'a']\n"
     ]
    }
   ],
   "source": [
    "# 13.Write a Python program to reverse a list using a for loop.\n",
    "\n",
    "# Ans:\n",
    "l = ['a', 'p','n']\n",
    "l1 = []\n",
    "for i in l[::-1]:\n",
    "    l1.append(i)\n",
    "print(l1)"
   ]
  },
  {
   "cell_type": "code",
   "execution_count": 10,
   "id": "46c600c7",
   "metadata": {},
   "outputs": [
    {
     "name": "stdout",
     "output_type": "stream",
     "text": [
      "2\n",
      "6\n"
     ]
    }
   ],
   "source": [
    "# 14. Write a Python program to find the common elements between two lists using a for loop.\n",
    "\n",
    "# Ans:\n",
    "l1 = [1,2,4,5,6]\n",
    "l2 = [2,3,6,9,10]\n",
    "\n",
    "for i in l1:\n",
    "    if i in l2:\n",
    "        print(i)"
   ]
  },
  {
   "cell_type": "code",
   "execution_count": 19,
   "id": "a3a28627",
   "metadata": {},
   "outputs": [
    {
     "name": "stdout",
     "output_type": "stream",
     "text": [
      "dict_keys(['name', 'age']) \n",
      " dict_values(['aditi', 34])\n"
     ]
    }
   ],
   "source": [
    "# 15.Explain how to use a for loop to iterate through the keys and values of a dictionary in Python.\n",
    "\n",
    "# Ans:\n",
    "dic = {'name': \"aditi\", 'age': 34}\n",
    "\n",
    "for i in dic:\n",
    "    key = dic.keys()\n",
    "    val = dic.values()\n",
    "print(key,\"\\n\", val )"
   ]
  },
  {
   "cell_type": "code",
   "execution_count": 23,
   "id": "a5524aea",
   "metadata": {},
   "outputs": [
    {
     "name": "stdout",
     "output_type": "stream",
     "text": [
      "36\n",
      "60\n",
      "gcd of 36 and 60 is 12\n"
     ]
    }
   ],
   "source": [
    "# 16. Write a Python program to find the GCD (Greatest Common Divisor) of two numbers using a for loop.\n",
    "\n",
    "# Ans:\n",
    "num1 = int(input())\n",
    "num2 = int(input())\n",
    "for i in range(1, min(num1, num2)):\n",
    "    if num1%i ==0 and num2%i ==0:\n",
    "        gcd = i\n",
    "print('gcd of', num1, \"and\", num2, \"is\", gcd)"
   ]
  },
  {
   "cell_type": "code",
   "execution_count": 27,
   "id": "cc9af5f7",
   "metadata": {},
   "outputs": [
    {
     "name": "stdout",
     "output_type": "stream",
     "text": [
      "aditi\n",
      "This string is not palidrome \n"
     ]
    }
   ],
   "source": [
    "# 17. Create a Python program that checks if a string is a palindrome using a for loop.\n",
    "\n",
    "# Ans:\n",
    "s = input()\n",
    "if s[::] == s[::-1]:\n",
    "    print(\"This string is palidrome\")\n",
    "else:\n",
    "    print(\"This string is not palidrome \")"
   ]
  },
  {
   "cell_type": "code",
   "execution_count": 28,
   "id": "af7605de",
   "metadata": {},
   "outputs": [
    {
     "name": "stdout",
     "output_type": "stream",
     "text": [
      "[1, 2, 3]\n"
     ]
    }
   ],
   "source": [
    "# 18. Write a Python program to remove duplicates from a list using a for loop.\n",
    "\n",
    "#Ans:\n",
    "l = [1,1,2,3]\n",
    "l1 = []\n",
    "for i in l:\n",
    "    if i not in l1:\n",
    "        l1.append(i)\n",
    "print(l1)"
   ]
  },
  {
   "cell_type": "code",
   "execution_count": 31,
   "id": "1abedafa",
   "metadata": {},
   "outputs": [
    {
     "name": "stdout",
     "output_type": "stream",
     "text": [
      "Number of words in the sentence are:  4\n"
     ]
    }
   ],
   "source": [
    "# 19. Create a Python program that counts the number of words in a sentence using a for loop.\n",
    "\n",
    "# Ans:\n",
    "count = 0\n",
    "s = \"my name is aditi\"\n",
    "s = s.split()\n",
    "for i in s:\n",
    "    count+=1\n",
    "print(\"Number of words in the sentence are: \", count)"
   ]
  },
  {
   "cell_type": "code",
   "execution_count": 32,
   "id": "dccce911",
   "metadata": {},
   "outputs": [
    {
     "name": "stdout",
     "output_type": "stream",
     "text": [
      "625\n"
     ]
    }
   ],
   "source": [
    "# 20. Write a Python program to find the sum of all odd numbers from 1 to 50 using a for loop.\n",
    "\n",
    "# Ans:\n",
    "s= 0\n",
    "for i in range(1,51):\n",
    "    if i%2!=0:\n",
    "        s+=i     \n",
    "print(s)"
   ]
  },
  {
   "cell_type": "code",
   "execution_count": 33,
   "id": "76a9065a",
   "metadata": {},
   "outputs": [
    {
     "name": "stdout",
     "output_type": "stream",
     "text": [
      "Enter year to be checked:2000\n",
      "The year is a leap year!\n"
     ]
    }
   ],
   "source": [
    "# 21. Write a Python program that checks if a given year is a leap year using a for loop.\n",
    "\n",
    "# Ans:\n",
    "year=int(input(\"Enter year to be checked:\")) \n",
    "if(year%4==0 and year%100!= 0 or year%400==0): \n",
    "    print(\"The year is a leap year!\") \n",
    "else: \n",
    "    print(\"The year isn't a leap year!\")"
   ]
  },
  {
   "cell_type": "code",
   "execution_count": 34,
   "id": "b8c1faf9",
   "metadata": {},
   "outputs": [
    {
     "name": "stdout",
     "output_type": "stream",
     "text": [
      "Enter a Number: \n",
      "20\n",
      "\n",
      "Square Root = 4.47213595499958\n"
     ]
    }
   ],
   "source": [
    "# 22. Create a Python program that calculates the square root of a number using a for loop.\n",
    "\n",
    "# Ans:\n",
    "print(\"Enter a Number: \")\n",
    "num = int(input())\n",
    "\n",
    "squareroot = num ** 0.5\n",
    "\n",
    "print(\"\\nSquare Root =\", squareroot)"
   ]
  },
  {
   "cell_type": "code",
   "execution_count": 35,
   "id": "0443c380",
   "metadata": {},
   "outputs": [
    {
     "name": "stdout",
     "output_type": "stream",
     "text": [
      "LCM of 36 and 60 is 180\n"
     ]
    }
   ],
   "source": [
    "# 23. Write a Python program to find the LCM (Least Common Multiple) of two numbers using a for loop.\n",
    "\n",
    "# Ans:\n",
    "\n",
    "for i in range(max(num1, num2), 1+(num1*num2)):\n",
    "    if i % num1==i% num2 ==0:\n",
    "        lcm=i\n",
    "        break\n",
    "print(\"LCM of\", num1, \"and\", num2, \"is\", lcm)"
   ]
  },
  {
   "cell_type": "markdown",
   "id": "479c38f0",
   "metadata": {},
   "source": [
    "## If else :"
   ]
  },
  {
   "cell_type": "code",
   "execution_count": 37,
   "id": "b4d60b97",
   "metadata": {},
   "outputs": [
    {
     "name": "stdout",
     "output_type": "stream",
     "text": [
      "34\n",
      "number is positive\n"
     ]
    }
   ],
   "source": [
    "# 1. Write a Python program to check if a number is positive, negative, or zero using an if-else statement.\n",
    "\n",
    "# Ans:\n",
    "n = int(input())\n",
    "\n",
    "if n < 0:\n",
    "    print('number is negative')\n",
    "elif n == 0:\n",
    "    print('number is zero')\n",
    "else:\n",
    "    print('number is positive')"
   ]
  },
  {
   "cell_type": "code",
   "execution_count": 38,
   "id": "32cfbb38",
   "metadata": {},
   "outputs": [
    {
     "name": "stdout",
     "output_type": "stream",
     "text": [
      "number is even\n"
     ]
    }
   ],
   "source": [
    "# 2. Create a Python program that checks if a given number is even or odd using an if-else statement.\n",
    "\n",
    "# Ans:\n",
    "if n%2==0:\n",
    "    print('number is even')\n",
    "else:\n",
    "    print('number is odd')"
   ]
  },
  {
   "cell_type": "code",
   "execution_count": 39,
   "id": "cc912366",
   "metadata": {},
   "outputs": [
    {
     "name": "stdout",
     "output_type": "stream",
     "text": [
      "its too small number\n"
     ]
    }
   ],
   "source": [
    "# 3. How can you use nested if-else statements in Python, and provide an example?\n",
    "\n",
    "# Ans:\n",
    "if n > 10:\n",
    "    if n > 5:\n",
    "        print('its too small number')\n",
    "    else:\n",
    "        print('its a medium number')\n",
    "else:\n",
    "    print('its a reasonable range number')"
   ]
  },
  {
   "cell_type": "code",
   "execution_count": 42,
   "id": "c208a33d",
   "metadata": {},
   "outputs": [
    {
     "name": "stdout",
     "output_type": "stream",
     "text": [
      "The largest number is:  2\n"
     ]
    }
   ],
   "source": [
    "# 4. Write a Python program to determine the largest of three numbers using if-else.\n",
    "\n",
    "# Ans:\n",
    "a = 1\n",
    "b = 2\n",
    "c = 2\n",
    "\n",
    "if a >=  b and b >= c:\n",
    "    largest = a\n",
    "elif b >= a and b >= c:\n",
    "    largest = b\n",
    "else:\n",
    "    largest = c\n",
    "print('The largest number is: ', largest)"
   ]
  },
  {
   "cell_type": "code",
   "execution_count": 46,
   "id": "00186fa8",
   "metadata": {},
   "outputs": [
    {
     "name": "stdout",
     "output_type": "stream",
     "text": [
      "-3\n",
      "The absolute number is:  3\n"
     ]
    }
   ],
   "source": [
    "# 5. Write a Python program that calculates the absolute value of a number using if-else.\n",
    "\n",
    "# Ans:\n",
    "n = int(input())\n",
    "\n",
    "if n != abs(n):\n",
    "    print(\"The absolute number is: \", abs(n))\n",
    "else:\n",
    "    print(\"The absolute number is: \", n)"
   ]
  },
  {
   "cell_type": "code",
   "execution_count": 49,
   "id": "a1f72da0",
   "metadata": {},
   "outputs": [
    {
     "name": "stdout",
     "output_type": "stream",
     "text": [
      "e\n",
      "e it is vowel\n"
     ]
    }
   ],
   "source": [
    "# 6.Create a Python program that checks if a given character is a vowel or consonant using if-else.\n",
    "\n",
    "# Ans:\n",
    "c = input()\n",
    "\n",
    "if c in ('a','e', 'i', 'o', 'u', 'A', 'E', 'I','O', 'U'):\n",
    "    print(c, \"it is vowel\")\n",
    "else:\n",
    "    print(c, \"it is not vowel\")"
   ]
  },
  {
   "cell_type": "code",
   "execution_count": 51,
   "id": "3421fc6c",
   "metadata": {},
   "outputs": [
    {
     "name": "stdout",
     "output_type": "stream",
     "text": [
      "18\n",
      "eligible for voting\n"
     ]
    }
   ],
   "source": [
    "# 7. Write a Python program to determine if a user is eligible to vote based on their age using if-else.\n",
    "\n",
    "# Ans:\n",
    "age = int(input())\n",
    "if age < 18:\n",
    "    print('not eligible for voting')\n",
    "else:\n",
    "    print('eligible for voting')"
   ]
  },
  {
   "cell_type": "code",
   "execution_count": 52,
   "id": "2778dd07",
   "metadata": {},
   "outputs": [
    {
     "name": "stdout",
     "output_type": "stream",
     "text": [
      "34000\n",
      "32300.0\n"
     ]
    }
   ],
   "source": [
    "# 8. Create a Python program that calculates the discount amount based on the purchase amount using if-else.\n",
    "\n",
    "# Ans:\n",
    "\n",
    "price = int(input())\n",
    "\n",
    "if price <= 50000:\n",
    "    print(price- (price*0.05))\n",
    "elif price <= 100000:\n",
    "    print(price- (price*0.10))\n",
    "else:\n",
    "    print(price- (price*0.15))"
   ]
  },
  {
   "cell_type": "code",
   "execution_count": 53,
   "id": "e64cb582",
   "metadata": {},
   "outputs": [
    {
     "name": "stdout",
     "output_type": "stream",
     "text": [
      "number is not in specified range\n"
     ]
    }
   ],
   "source": [
    "# 9. Write a Python program to check if a number is within a specified range using if-else.\n",
    "\n",
    "# Ans:\n",
    "range_1 = (2,20,2)\n",
    "\n",
    "if n in range_1:\n",
    "    print('number is specified range')\n",
    "else:\n",
    "    print('number is not in specified range')"
   ]
  },
  {
   "cell_type": "code",
   "execution_count": 68,
   "id": "58fb4178",
   "metadata": {},
   "outputs": [
    {
     "name": "stdout",
     "output_type": "stream",
     "text": [
      "78\n",
      "Grade: A\n"
     ]
    }
   ],
   "source": [
    "# 10.Create a Python program that determines the grade of a student based on their score using if-else.\n",
    "\n",
    "# Ans:\n",
    "score = int(input())\n",
    "if score <= 50:\n",
    "    print('Grade:', 'C')\n",
    "elif score <= 70:\n",
    "    print('Grade:','B')\n",
    "else:\n",
    "    print('Grade:','A')"
   ]
  },
  {
   "cell_type": "code",
   "execution_count": 57,
   "id": "15db9d91",
   "metadata": {},
   "outputs": [
    {
     "name": "stdout",
     "output_type": "stream",
     "text": [
      "3\n"
     ]
    }
   ],
   "source": [
    "# 11. Write a Python program to check if a string is empty or not using if-else.\n",
    "\n",
    "\n",
    "# Ans:\n",
    "s = \"aditi\"\n",
    "\n",
    "if len(s) ==0:\n",
    "    print('String is empty')\n",
    "else:\n",
    "    print('string is not empty')"
   ]
  },
  {
   "cell_type": "code",
   "execution_count": 69,
   "id": "35b00ff0",
   "metadata": {},
   "outputs": [
    {
     "name": "stdout",
     "output_type": "stream",
     "text": [
      "67\n",
      "78\n",
      "78\n",
      "Triangle is isosceles\n"
     ]
    }
   ],
   "source": [
    "# 12. Create a Python program that identifies the type of a triangle (e.g., equilateral, isosceles, or scalene) based on input values using if-else.\n",
    "# Ans:\n",
    "x = int(input())\n",
    "y = int(input())\n",
    "z = int(input())\n",
    "\n",
    "if x== y== z:\n",
    "    print('Triangle is equilateral')\n",
    "elif x==y or y==z or z==x:\n",
    "    print('Triangle is isosceles')\n",
    "else:\n",
    "    print('Triangle is scalene')"
   ]
  },
  {
   "cell_type": "code",
   "execution_count": 70,
   "id": "bc848d51",
   "metadata": {},
   "outputs": [
    {
     "name": "stdout",
     "output_type": "stream",
     "text": [
      "Enter a number from 1 to 7: 5\n",
      "5 is Thursday\n"
     ]
    }
   ],
   "source": [
    "# 13. Write a Python program to determine the day of the week based on a user-provided number using if-else.\n",
    "\n",
    "\n",
    "# Ans:\n",
    "day = int(input(\"Enter a number from 1 to 7: \")) \n",
    "if day == 1: \n",
    "    print(day, \"is Sunday\") \n",
    "elif day == 2: \n",
    "    print(day, \"is Monday\") \n",
    "elif day == 3: \n",
    "    print(day, \"is Tuesday\") \n",
    "elif day == 4: \n",
    "    print(day, \"is Wednesday\") \n",
    "elif day == 5: \n",
    "    print(day, \"is Thursday\") \n",
    "elif day == 6: \n",
    "    print(day, \"is Friday\") \n",
    "elif day == 7:\n",
    "    print(day, \"is Saturday\")"
   ]
  },
  {
   "cell_type": "code",
   "execution_count": null,
   "id": "b7da05d6",
   "metadata": {},
   "outputs": [],
   "source": [
    "# 14. Create a Python program that checks if a given year is a leap year using both if-else and a function.\n",
    "\n",
    "# Ans:\n",
    "year=int(input(\"Enter year to be checked:\")) \n",
    "\n",
    "if(year%4==0 and year%100!= 0 or year%400==0): \n",
    "    print(\"The year is a leap year!\") \n",
    "else: \n",
    "    print(\"The year isn't a leap year!\")"
   ]
  },
  {
   "cell_type": "markdown",
   "id": "e2649ab1",
   "metadata": {},
   "source": [
    "15. How do you use the \"assert\" statement in Python to add debugging checks within if-else blocks?\n",
    "\n",
    "Ans:\n",
    "n Python, the assert keyword helps in achieving this task. This statement takes as input a boolean condition, which when returns true doesn't do anything and continues the normal flow of execution, but if it is computed to be false, then it raises an AssertionError along with the optional message provided."
   ]
  },
  {
   "cell_type": "code",
   "execution_count": null,
   "id": "663aef9b",
   "metadata": {},
   "outputs": [],
   "source": [
    "# 16. Create a Python program that determines the eligibility of a person for a senior citizen discount based on age using if-else.\n",
    "\n",
    "# Ans:\n",
    "if age > =60:\n",
    "    print('eligible for senior citizen discount')\n",
    "else:\n",
    "    print('not eligible for senior citizen discount')"
   ]
  },
  {
   "cell_type": "code",
   "execution_count": null,
   "id": "f7575a44",
   "metadata": {},
   "outputs": [],
   "source": [
    "# 17. Write a Python program to categorize a given character as uppercase, lowercase, or neither using if-else.\n",
    "\n",
    "# Ans:\n",
    "c = input()\n",
    "\n",
    "if c == c.upper():\n",
    "    print('Character is uppercase')\n",
    "elif c == c.lower():\n",
    "    print('Character is lowercase')\n",
    "else:\n",
    "    print('neither uppercase or lowercase')"
   ]
  },
  {
   "cell_type": "code",
   "execution_count": 72,
   "id": "65950436",
   "metadata": {},
   "outputs": [
    {
     "name": "stdout",
     "output_type": "stream",
     "text": [
      "Equation: ax^2 + bx + c \n",
      "Enter a: 2\n",
      "Enter b: 2\n",
      "Enter c: 4\n",
      "The roots are imaginary. \n"
     ]
    }
   ],
   "source": [
    "# 18. Write a Python program to determine the roots of a quadratic equation using if-else.\n",
    "\n",
    "# Ans:\n",
    "print(\"Equation: ax^2 + bx + c \")\n",
    "a=int(input(\"Enter a: \"))\n",
    "b=int(input(\"Enter b: \"))\n",
    "c=int(input(\"Enter c: \"))\n",
    "d=b**2-4*a*c\n",
    "d1=d**0.5\n",
    "if(d<0):\n",
    "    print(\"The roots are imaginary. \")\n",
    "else:\n",
    "    r1=(-b+d1)/2*a\n",
    "    r2=(-b-d1)/2*a\n",
    "    print(\"The first root: \",round(r1,2))\n",
    "    print(\"The second root: \",round(r2,2))"
   ]
  },
  {
   "cell_type": "code",
   "execution_count": null,
   "id": "57802107",
   "metadata": {},
   "outputs": [],
   "source": [
    "# 19. Create a Python program that checks if a given year is a century year or not using if-else.\n",
    "\n",
    "# Ans:\n",
    "year = int(input())\n",
    "if year % 100:\n",
    "    print(year, 'is a century year')\n",
    "else:\n",
    "    print(year, 'it is not a century year')"
   ]
  },
  {
   "cell_type": "code",
   "execution_count": 73,
   "id": "929ba992",
   "metadata": {},
   "outputs": [
    {
     "name": "stdout",
     "output_type": "stream",
     "text": [
      "This number is a perfect square\n"
     ]
    }
   ],
   "source": [
    "# 20. Write a Python program to determine if a given number is a perfect square using if-else.\n",
    "\n",
    "# Ans:\n",
    "import math\n",
    "num = 25\n",
    "sqrt_num = math.sqrt(num)\n",
    "if sqrt_num.is_integer():\n",
    "    print('This number is a perfect square')\n",
    "else:\n",
    "    print('This number is not a perfect square')"
   ]
  },
  {
   "cell_type": "markdown",
   "id": "01714594",
   "metadata": {},
   "source": [
    "21. Explain the purpose of the \"continue\" and \"break\" statements within if-else loops.\n",
    "\n",
    "Ans:\n",
    "The break statement is used to terminate the loop immediately. The continue statement is used to skip the current iteration of the loop."
   ]
  },
  {
   "cell_type": "code",
   "execution_count": 74,
   "id": "011e2f6f",
   "metadata": {},
   "outputs": [
    {
     "name": "stdout",
     "output_type": "stream",
     "text": [
      "5.2\n",
      "45\n",
      "BMI:  1.6642011834319526\n"
     ]
    }
   ],
   "source": [
    "# 22. Create a Python program that calculates the BMI (Body Mass Index) of a person based on their weight and height using if-else.\n",
    "\n",
    "# Ans:\n",
    "h = float(input())\n",
    "w =int(input())\n",
    "\n",
    "if h > 0 and w >0:\n",
    "    print('BMI: ', w/h**2)"
   ]
  },
  {
   "cell_type": "code",
   "execution_count": 86,
   "id": "b6e43210",
   "metadata": {},
   "outputs": [
    {
     "data": {
      "text/plain": [
       "[70, 60, 50, 78, 65, 61, 45, 49, 76]"
      ]
     },
     "execution_count": 86,
     "metadata": {},
     "output_type": "execute_result"
    }
   ],
   "source": [
    "# 23. How can you use the \"filter()\" function with if-else statements to filter elements from a list?\n",
    "\n",
    "# Ans:\n",
    "numbers = [70, 60, 80, 90, 50, 82, 90, 91, 84, 82, 94, 99, 78, 65, 61, 45, 89, 87, 49, 76, 81, 94]\n",
    "\n",
    "def score_check(numbers):\n",
    "    l=[]\n",
    "    for i in numbers:\n",
    "        if i < 80:\n",
    "            l.append(i)\n",
    "    return(l)    \n",
    "\n",
    "score_check(numbers)"
   ]
  },
  {
   "cell_type": "code",
   "execution_count": 89,
   "id": "cf0684b4",
   "metadata": {},
   "outputs": [
    {
     "name": "stdout",
     "output_type": "stream",
     "text": [
      "17 is a prime number.\n"
     ]
    }
   ],
   "source": [
    "# 24. Write a Python program to determine if a given number is prime or not using if-else.\n",
    "\n",
    "# Ans:\n",
    "\n",
    "def is_prime(n):\n",
    "    \"\"\"Check if a number is prime.\"\"\"\n",
    "    if n <= 1:\n",
    "        return False\n",
    "    elif n == 2:\n",
    "        return True\n",
    "    elif n % 2 == 0:\n",
    "        return False\n",
    "    else:\n",
    "        for i in range(3, int(n**0.5) + 1, 2):\n",
    "            if n % i == 0:\n",
    "                return False\n",
    "        return True\n",
    "\n",
    "number = 17\n",
    "if is_prime(number):\n",
    "    print(f\"{number} is a prime number.\")\n",
    "else:\n",
    "    print(f\"{number} is not a prime number.\")"
   ]
  },
  {
   "cell_type": "markdown",
   "id": "359abded",
   "metadata": {},
   "source": [
    "## Map :-"
   ]
  },
  {
   "cell_type": "markdown",
   "id": "6119a20a",
   "metadata": {},
   "source": [
    "1. Explain the purpose of the `map()` function in Python and provide an example of how it can be used to apply a function to each element of an iterable.\n",
    "\n",
    "Ans:\n",
    "Map in Python is a function that works as an iterator to return a result after applying a function to every item of an iterable (tuple, lists, etc.).\n",
    "It is used when you want to apply a single transformation function to all the iterable elements. The iterable and function are passed as arguments to the map in Python."
   ]
  },
  {
   "cell_type": "code",
   "execution_count": 2,
   "id": "f03e6731",
   "metadata": {},
   "outputs": [
    {
     "name": "stdout",
     "output_type": "stream",
     "text": [
      "Original List:  [4, 5, 2, 9]\n",
      "Square the elements of the said list using map():\n",
      "[16, 25, 4, 81]\n"
     ]
    }
   ],
   "source": [
    "## 2. Write a Python program that uses the `map()` function to square each element of a list of numbers.\n",
    "\n",
    "# Ans:\n",
    "def square_num(n):\n",
    "    return n * n\n",
    "nums = [4, 5, 2, 9]\n",
    "print(\"Original List: \",nums)\n",
    "result = map(square_num, nums)\n",
    "print(\"Square the elements of the said list using map():\")\n",
    "print(list(result))"
   ]
  },
  {
   "cell_type": "markdown",
   "id": "4ab792bf",
   "metadata": {},
   "source": [
    "3. How does the `map()` function differ from a list comprehension in Python, and when would you choose one over the other?\n",
    "\n",
    "Ans:\n",
    "In list comprehension we append the item from existing list to new list based on some condition.\n",
    "In case of map function we use the existing function on the current list.\n",
    "\n",
    "\n",
    "map may be microscopically faster in some cases (when you're not making a lambda for the purpose, but using the same function in map and a list comprehension). List comprehensions may be faster in other cases and most (not all) Pythonistas consider them more direct and clearer.\n",
    "\n",
    "\n",
    "\n"
   ]
  },
  {
   "cell_type": "code",
   "execution_count": 9,
   "id": "eb6ed98c",
   "metadata": {},
   "outputs": [
    {
     "data": {
      "text/plain": [
       "['ADITI', 'GOYAL']"
      ]
     },
     "execution_count": 9,
     "metadata": {},
     "output_type": "execute_result"
    }
   ],
   "source": [
    "# 4. Create a Python program that uses the `map()` function to convert a list of names to uppercase.\n",
    "\n",
    "# Ans:\n",
    "l = [\"aditi\", \"goyal\"]\n",
    "\n",
    "def uppercase_func(x):\n",
    "    return x.upper()        \n",
    "\n",
    "result = list(map(uppercase_func, l))\n",
    "result"
   ]
  },
  {
   "cell_type": "code",
   "execution_count": 12,
   "id": "6550155b",
   "metadata": {},
   "outputs": [
    {
     "data": {
      "text/plain": [
       "[5, 5]"
      ]
     },
     "execution_count": 12,
     "metadata": {},
     "output_type": "execute_result"
    }
   ],
   "source": [
    "# 5. Write a Python program that uses the `map()` function to calculate the length of each word in a list of strings\n",
    "\n",
    "# Ans:\n",
    "\n",
    "def length_str(s):\n",
    "    return len(s)\n",
    "\n",
    "result = list(map(length_str, l))\n",
    "result"
   ]
  },
  {
   "cell_type": "code",
   "execution_count": 17,
   "id": "d10ef6be",
   "metadata": {},
   "outputs": [
    {
     "data": {
      "text/plain": [
       "[10, 13, 16]"
      ]
     },
     "execution_count": 17,
     "metadata": {},
     "output_type": "execute_result"
    }
   ],
   "source": [
    "# 6. How can you use the `map()` function to apply a custom function to elements of multiple lists simultaneously in Python?\n",
    "\n",
    "# Ans:\n",
    "def custom_function(arg1, arg2, arg3):\n",
    "    return arg1 + arg2 + arg3\n",
    "\n",
    "l1 = [2,3,4]\n",
    "l2 = [3,4,5]\n",
    "l3 = [5,6,7]\n",
    "\n",
    "result = list(map(custom_function, l1, l2, l3))\n",
    "result"
   ]
  },
  {
   "cell_type": "code",
   "execution_count": 21,
   "id": "2865daa5",
   "metadata": {},
   "outputs": [
    {
     "data": {
      "text/plain": [
       "[104.0, 122.0, 140.0]"
      ]
     },
     "execution_count": 21,
     "metadata": {},
     "output_type": "execute_result"
    }
   ],
   "source": [
    "# 7. Create a Python program that uses `map()` to convert a list of temperatures from Celsius to Fahrenheit.\n",
    "\n",
    "# Ans:\n",
    "def covert_temp(t):\n",
    "    return (1.8 * t) + 32\n",
    "\n",
    "l1 = [40, 50, 60]\n",
    "\n",
    "result = list(map(covert_temp, l1))\n",
    "result"
   ]
  },
  {
   "cell_type": "code",
   "execution_count": 23,
   "id": "c48bf0ff",
   "metadata": {},
   "outputs": [
    {
     "data": {
      "text/plain": [
       "[34, 79, 90, 23]"
      ]
     },
     "execution_count": 23,
     "metadata": {},
     "output_type": "execute_result"
    }
   ],
   "source": [
    "# 8. Write a Python program that uses the `map()` function to round each element of a list of floating-point numbers to the nearest integer\n",
    "\n",
    "# Ans:\n",
    "\n",
    "def roundoff(f):\n",
    "    return round(f)\n",
    "\n",
    "l = [34.4, 78.9, 89.90, 23.34]\n",
    "\n",
    "result = list(map(roundoff,l))\n",
    "result"
   ]
  },
  {
   "cell_type": "markdown",
   "id": "3e774073",
   "metadata": {},
   "source": [
    "## Reduce :-"
   ]
  },
  {
   "cell_type": "code",
   "execution_count": 24,
   "id": "1f67f928",
   "metadata": {},
   "outputs": [],
   "source": [
    "from functools import reduce"
   ]
  },
  {
   "cell_type": "markdown",
   "id": "36daa630",
   "metadata": {},
   "source": [
    "1. What is the `reduce()` function in Python, and what module should you import to use it? Provide an example of its basic usage.\n",
    "  \n",
    "Ans:\n",
    "Python's reduce() is a function that implements a mathematical technique called folding or reduction. reduce() is useful when you need to apply a function to an iterable and reduce it to a single cumulative value.\n",
    "from functools import reduce"
   ]
  },
  {
   "cell_type": "code",
   "execution_count": 27,
   "id": "a4a030c5",
   "metadata": {},
   "outputs": [
    {
     "data": {
      "text/plain": [
       "120"
      ]
     },
     "execution_count": 27,
     "metadata": {},
     "output_type": "execute_result"
    }
   ],
   "source": [
    "# 2. Write a Python program that uses the `reduce()` function to find the product of all elements in a list.\n",
    "\n",
    "# Ans:\n",
    "l1 = [2,3,4,5]\n",
    "\n",
    "def product_func(a,b):\n",
    "    return a*b\n",
    "\n",
    "reduce(product_func, l1 )"
   ]
  },
  {
   "cell_type": "code",
   "execution_count": 29,
   "id": "6a3de471",
   "metadata": {},
   "outputs": [
    {
     "data": {
      "text/plain": [
       "5"
      ]
     },
     "execution_count": 29,
     "metadata": {},
     "output_type": "execute_result"
    }
   ],
   "source": [
    "# 3. Create a Python program that uses `reduce()` to find the maximum element in a list of numbers.\n",
    "\n",
    "# Ans:\n",
    "\n",
    "l = [2,3,4,5]\n",
    "\n",
    "def maximun(a,b):\n",
    "    return max(a,b)\n",
    "\n",
    "reduce(maximun, l)"
   ]
  },
  {
   "cell_type": "code",
   "execution_count": 30,
   "id": "6d158142",
   "metadata": {},
   "outputs": [
    {
     "data": {
      "text/plain": [
       "'aditigoyalruchi'"
      ]
     },
     "execution_count": 30,
     "metadata": {},
     "output_type": "execute_result"
    }
   ],
   "source": [
    "# 4.How can you use the `reduce()` function to concatenate a list of strings into a single string?\n",
    "\n",
    "# Ans:\n",
    "l = ['aditi', 'goyal', 'ruchi']\n",
    "\n",
    "def concat(s1,s2):\n",
    "    return s1+s2\n",
    "\n",
    "reduce(concat, l)"
   ]
  },
  {
   "cell_type": "code",
   "execution_count": 39,
   "id": "5bddcd0e",
   "metadata": {},
   "outputs": [
    {
     "data": {
      "text/plain": [
       "120"
      ]
     },
     "execution_count": 39,
     "metadata": {},
     "output_type": "execute_result"
    }
   ],
   "source": [
    "# 5.Write a Python program that calculates the factorial of a number using the `reduce()` function.\n",
    "\n",
    "# Ans:\n",
    "\n",
    "def factorial(n):\n",
    "    if n == 0:\n",
    "        return 1\n",
    "    else:\n",
    "        return reduce(lambda x,y: x*y, range(1, n+1))\n",
    "\n",
    "factorial(5)"
   ]
  },
  {
   "cell_type": "code",
   "execution_count": 45,
   "id": "3edb72d1",
   "metadata": {},
   "outputs": [
    {
     "ename": "TypeError",
     "evalue": "'<' not supported between instances of 'int' and 'NoneType'",
     "output_type": "error",
     "traceback": [
      "\u001b[1;31m---------------------------------------------------------------------------\u001b[0m",
      "\u001b[1;31mTypeError\u001b[0m                                 Traceback (most recent call last)",
      "\u001b[1;32mC:\\Users\\ADITIG~1\\AppData\\Local\\Temp/ipykernel_34380/1089160218.py\u001b[0m in \u001b[0;36m<module>\u001b[1;34m\u001b[0m\n\u001b[0;32m      6\u001b[0m         \u001b[1;32mif\u001b[0m \u001b[0mx\u001b[0m\u001b[1;33m%\u001b[0m \u001b[0mi\u001b[0m \u001b[1;33m==\u001b[0m\u001b[1;36m0\u001b[0m \u001b[1;32mand\u001b[0m \u001b[0my\u001b[0m\u001b[1;33m%\u001b[0m\u001b[0mi\u001b[0m \u001b[1;33m==\u001b[0m\u001b[1;36m0\u001b[0m\u001b[1;33m:\u001b[0m\u001b[1;33m\u001b[0m\u001b[1;33m\u001b[0m\u001b[0m\n\u001b[0;32m      7\u001b[0m             \u001b[1;32mreturn\u001b[0m \u001b[0mi\u001b[0m\u001b[1;33m\u001b[0m\u001b[1;33m\u001b[0m\u001b[0m\n\u001b[1;32m----> 8\u001b[1;33m \u001b[0mresult\u001b[0m \u001b[1;33m=\u001b[0m \u001b[0mlist\u001b[0m\u001b[1;33m(\u001b[0m\u001b[0mreduce\u001b[0m\u001b[1;33m(\u001b[0m\u001b[0mgcd_func\u001b[0m\u001b[1;33m,\u001b[0m \u001b[0ml\u001b[0m\u001b[1;33m)\u001b[0m\u001b[1;33m)\u001b[0m\u001b[1;33m\u001b[0m\u001b[1;33m\u001b[0m\u001b[0m\n\u001b[0m",
      "\u001b[1;32mC:\\Users\\ADITIG~1\\AppData\\Local\\Temp/ipykernel_34380/1089160218.py\u001b[0m in \u001b[0;36mgcd_func\u001b[1;34m(x, y)\u001b[0m\n\u001b[0;32m      3\u001b[0m \u001b[1;31m# Ans:\u001b[0m\u001b[1;33m\u001b[0m\u001b[1;33m\u001b[0m\u001b[0m\n\u001b[0;32m      4\u001b[0m \u001b[1;32mdef\u001b[0m \u001b[0mgcd_func\u001b[0m\u001b[1;33m(\u001b[0m\u001b[0mx\u001b[0m\u001b[1;33m,\u001b[0m\u001b[0my\u001b[0m\u001b[1;33m)\u001b[0m\u001b[1;33m:\u001b[0m\u001b[1;33m\u001b[0m\u001b[1;33m\u001b[0m\u001b[0m\n\u001b[1;32m----> 5\u001b[1;33m     \u001b[1;32mfor\u001b[0m \u001b[0mi\u001b[0m \u001b[1;32min\u001b[0m \u001b[0mrange\u001b[0m\u001b[1;33m(\u001b[0m\u001b[1;36m2\u001b[0m\u001b[1;33m,\u001b[0m \u001b[0mmin\u001b[0m\u001b[1;33m(\u001b[0m\u001b[0mx\u001b[0m\u001b[1;33m,\u001b[0m\u001b[0my\u001b[0m\u001b[1;33m)\u001b[0m\u001b[1;33m)\u001b[0m\u001b[1;33m:\u001b[0m\u001b[1;33m\u001b[0m\u001b[1;33m\u001b[0m\u001b[0m\n\u001b[0m\u001b[0;32m      6\u001b[0m         \u001b[1;32mif\u001b[0m \u001b[0mx\u001b[0m\u001b[1;33m%\u001b[0m \u001b[0mi\u001b[0m \u001b[1;33m==\u001b[0m\u001b[1;36m0\u001b[0m \u001b[1;32mand\u001b[0m \u001b[0my\u001b[0m\u001b[1;33m%\u001b[0m\u001b[0mi\u001b[0m \u001b[1;33m==\u001b[0m\u001b[1;36m0\u001b[0m\u001b[1;33m:\u001b[0m\u001b[1;33m\u001b[0m\u001b[1;33m\u001b[0m\u001b[0m\n\u001b[0;32m      7\u001b[0m             \u001b[1;32mreturn\u001b[0m \u001b[0mi\u001b[0m\u001b[1;33m\u001b[0m\u001b[1;33m\u001b[0m\u001b[0m\n",
      "\u001b[1;31mTypeError\u001b[0m: '<' not supported between instances of 'int' and 'NoneType'"
     ]
    }
   ],
   "source": [
    "# 6. Create a Python program that uses `reduce()` to find the GCD (Greatest Common Divisor) of a list of numbers.\n",
    "\n",
    "# Ans:\n",
    "def gcd_func(x,y):\n",
    "    for i in range(2, min(x,y)):\n",
    "        if x% i ==0 and y%i ==0:\n",
    "            return i\n",
    "result = list(reduce(gcd_func, l))"
   ]
  },
  {
   "cell_type": "code",
   "execution_count": 43,
   "id": "dd44cdae",
   "metadata": {},
   "outputs": [
    {
     "data": {
      "text/plain": [
       "9"
      ]
     },
     "execution_count": 43,
     "metadata": {},
     "output_type": "execute_result"
    }
   ],
   "source": [
    "# 7. Write a Python program that uses the `reduce()` function to find the sum of the digits of a given number.\n",
    "\n",
    "# Ans:\n",
    "l = [2,3,4]\n",
    "def sum_dig(a,b):\n",
    "    return a + b\n",
    "\n",
    "result = reduce(sum_dig, l)\n",
    "result"
   ]
  },
  {
   "cell_type": "markdown",
   "id": "bfff03f0",
   "metadata": {},
   "source": [
    "## Filter :-"
   ]
  },
  {
   "cell_type": "markdown",
   "id": "35cd06af",
   "metadata": {},
   "source": [
    "1. Explain the purpose of the `filter()` function in Python and provide an example of how it can be used to filter elements from an iterable.\n",
    "\n",
    "Ans:\n",
    "Python’s filter() is a built-in function that allows you to process an iterable and extract those items that satisfy a given condition. "
   ]
  },
  {
   "cell_type": "code",
   "execution_count": 2,
   "id": "666262b9",
   "metadata": {},
   "outputs": [
    {
     "data": {
      "text/plain": [
       "[2, 4, 6, 8]"
      ]
     },
     "execution_count": 2,
     "metadata": {},
     "output_type": "execute_result"
    }
   ],
   "source": [
    "# 2. Write a Python program that uses the `filter()` function to select even numbers from a list of integers.\n",
    "\n",
    "# Ans:\n",
    "\n",
    "def select_even(n):\n",
    "    if n % 2== 0:\n",
    "        return n\n",
    "l = [2,3,4,5,6,7,8]\n",
    "\n",
    "result = list(filter(select_even, l))\n",
    "result"
   ]
  },
  {
   "cell_type": "code",
   "execution_count": 6,
   "id": "98f01700",
   "metadata": {},
   "outputs": [
    {
     "data": {
      "text/plain": [
       "['aditi', 'ashish']"
      ]
     },
     "execution_count": 6,
     "metadata": {},
     "output_type": "execute_result"
    }
   ],
   "source": [
    "# 3. Create a Python program that uses the `filter()` function to select names that start with a specific letter from a list of strings.\n",
    "\n",
    "# Ans:\n",
    "\n",
    "def start_letter(s):\n",
    "    if s.startswith('a')== True:\n",
    "        return s\n",
    "    \n",
    "l = ['aditi','goyal', 'mittal', 'ashish']\n",
    "\n",
    "result = list(filter(start_letter, l))\n",
    "result"
   ]
  },
  {
   "cell_type": "code",
   "execution_count": 8,
   "id": "971c8270",
   "metadata": {},
   "outputs": [
    {
     "name": "stdout",
     "output_type": "stream",
     "text": [
      "3\n",
      "4\n",
      "5\n",
      "5\n",
      "5\n",
      "6\n",
      "6\n",
      "7\n",
      "7\n",
      "7\n",
      "7\n",
      "7\n",
      "8\n",
      "8\n",
      "8\n",
      "8\n"
     ]
    },
    {
     "data": {
      "text/plain": [
       "[]"
      ]
     },
     "execution_count": 8,
     "metadata": {},
     "output_type": "execute_result"
    }
   ],
   "source": [
    "# 4. Write a Python program that uses the `filter()` function to select prime numbers from a list of integers.\n",
    "\n",
    "# Ans:\n",
    "# def prime_num(n):\n",
    "#     for i in range(2,n):\n",
    "#         if n%i != 0:\n",
    "#             print(n)\n",
    "# l = [1,2,3,4,5,6,7,8]            \n",
    "            \n",
    "# result = list(filter(prime_num, l))\n",
    "# result"
   ]
  },
  {
   "cell_type": "code",
   "execution_count": 9,
   "id": "8ca7e9fa",
   "metadata": {},
   "outputs": [
    {
     "data": {
      "text/plain": [
       "['aditi']"
      ]
     },
     "execution_count": 9,
     "metadata": {},
     "output_type": "execute_result"
    }
   ],
   "source": [
    "# 5. How can you use the `filter()` function to remove None values from a list in Python?\n",
    "\n",
    "# Ans:\n",
    "l = ['None', 'aditi', 'None']\n",
    "\n",
    "def remove_str(s):\n",
    "    if s != 'None':\n",
    "        return s\n",
    "result = list(filter(remove_str, l))\n",
    "result"
   ]
  },
  {
   "cell_type": "code",
   "execution_count": 11,
   "id": "1e99d237",
   "metadata": {},
   "outputs": [
    {
     "data": {
      "text/plain": [
       "['aditi', 'ashish', 'aadisha']"
      ]
     },
     "execution_count": 11,
     "metadata": {},
     "output_type": "execute_result"
    }
   ],
   "source": [
    "# 6. Create a Python program that uses `filter()` to select words longer than a certain length from a list of strings.\n",
    "\n",
    "# Ans:\n",
    "l = ['aditi', 'ashish', 'aadisha', 'pari']\n",
    "\n",
    "def return_str(s):\n",
    "    if len(s)>= 5:\n",
    "        return s\n",
    "result = list(filter(return_str, l))\n",
    "result"
   ]
  },
  {
   "cell_type": "code",
   "execution_count": 12,
   "id": "00ac1037",
   "metadata": {},
   "outputs": [
    {
     "data": {
      "text/plain": [
       "[5, 6, 7, 8]"
      ]
     },
     "execution_count": 12,
     "metadata": {},
     "output_type": "execute_result"
    }
   ],
   "source": [
    "# 7. Write a Python program that uses the `filter()` function to select elements greater than a specified threshold from a list of values.\n",
    "\n",
    "# Ans:\n",
    "l = [2,3,4,5,6,7,8]\n",
    "\n",
    "def greater_func(n):\n",
    "    if n >= 5:\n",
    "        return n\n",
    "    \n",
    "result = list(filter(greater_func, l))\n",
    "result"
   ]
  },
  {
   "cell_type": "markdown",
   "id": "ac8f8f62",
   "metadata": {},
   "source": [
    "## Recursion:-"
   ]
  },
  {
   "cell_type": "markdown",
   "id": "ee6f81d5",
   "metadata": {},
   "source": [
    "1. Explain the concept of recursion in Python. How does it differ from iteration?\n",
    "\n",
    "Ans:\n",
    "The concept where we use the function inside the function.\n",
    "\n",
    "Recursion is when a function calls itself within its code, thus repeatedly executing the instructions present inside it. Iteration is when a loop repeatedly executes the set of instructions like \"for\" loops and \"while\" loops."
   ]
  },
  {
   "cell_type": "code",
   "execution_count": 2,
   "id": "0e7dc8bf",
   "metadata": {},
   "outputs": [
    {
     "data": {
      "text/plain": [
       "120"
      ]
     },
     "execution_count": 2,
     "metadata": {},
     "output_type": "execute_result"
    }
   ],
   "source": [
    "# 2. Write a Python program to calculate the factorial of a number using recursion.\n",
    "\n",
    "# Ans:\n",
    "\n",
    "def factorial(num):\n",
    "    if num <= 1:\n",
    "        return num\n",
    "    else:\n",
    "        return num * factorial(num-1)\n",
    "\n",
    "factorial(5)"
   ]
  },
  {
   "cell_type": "code",
   "execution_count": 4,
   "id": "e5764ab0",
   "metadata": {},
   "outputs": [
    {
     "data": {
      "text/plain": [
       "3"
      ]
     },
     "execution_count": 4,
     "metadata": {},
     "output_type": "execute_result"
    }
   ],
   "source": [
    "# 3. Create a recursive Python function to find the nth Fibonacci number.\n",
    "\n",
    "# Ans:\n",
    "\n",
    "def fibonacci_number(n):\n",
    "    if n <= 0:\n",
    "        print('Incorrect input')\n",
    "    elif n == 1:\n",
    "        return 0\n",
    "    elif n == 2:\n",
    "        return 1\n",
    "    else:\n",
    "        return fibonacci_number(n-1) +fibonacci_number(n-2)\n",
    "\n",
    "fibonacci_number(5)"
   ]
  },
  {
   "cell_type": "code",
   "execution_count": 8,
   "id": "c6550f6b",
   "metadata": {},
   "outputs": [
    {
     "data": {
      "text/plain": [
       "9"
      ]
     },
     "execution_count": 8,
     "metadata": {},
     "output_type": "execute_result"
    }
   ],
   "source": [
    "# 4. Write a recursive Python function to calculate the sum of all elements in a list.\n",
    "\n",
    "# Ans:\n",
    "l = [2,3,4]\n",
    "\n",
    "def sum_ele(l):\n",
    "    if len(l) == 0:\n",
    "        return 0\n",
    "    else:\n",
    "        return l[0] + sum_ele(l[1:])\n",
    "sum_ele(l)"
   ]
  },
  {
   "cell_type": "code",
   "execution_count": 1,
   "id": "74e3fca4",
   "metadata": {},
   "outputs": [
    {
     "name": "stdout",
     "output_type": "stream",
     "text": [
      "Enter the number: \n",
      "90\n",
      "1485715964481761497309522733620825737885569961284688766942216863704985393094065876545992131370884059645617234469978112000000000000000000000\n"
     ]
    }
   ],
   "source": [
    "# 5. How can you prevent a recursive function from running indefinitely, causing a stack overflow error?\n",
    "\n",
    "# Ans:\n",
    "\n",
    "import sys\n",
    "\n",
    "sys.setrecursionlimit(10**6)\n",
    "\n",
    "def fact(n):\n",
    "    if n == 0:\n",
    "        return 1\n",
    "    else:\n",
    "        return n * fact(n-1)\n",
    "    \n",
    "if __name__ == '__main__':\n",
    "    f = int(input('Enter the number: \\n'))\n",
    "    \n",
    "    print(fact(f))"
   ]
  },
  {
   "cell_type": "code",
   "execution_count": 4,
   "id": "5f2c171c",
   "metadata": {},
   "outputs": [
    {
     "data": {
      "text/plain": [
       "12"
      ]
     },
     "execution_count": 4,
     "metadata": {},
     "output_type": "execute_result"
    }
   ],
   "source": [
    "# 6. Create a recursive Python function to find the greatest common divisor (GCD) of two numbers using the Euclidean algorithm.\n",
    "\n",
    "# Ans:\n",
    "\n",
    "def hcf_func(a,b):\n",
    "    if b == 0:\n",
    "        return a\n",
    "    else:\n",
    "        return hcf_func(b, a%b)\n",
    "\n",
    "hcf_func(60,48)"
   ]
  },
  {
   "cell_type": "code",
   "execution_count": 3,
   "id": "01d012f0",
   "metadata": {},
   "outputs": [
    {
     "data": {
      "text/plain": [
       "'itida'"
      ]
     },
     "execution_count": 3,
     "metadata": {},
     "output_type": "execute_result"
    }
   ],
   "source": [
    "# 7. Write a recursive Python function to reverse a string.\n",
    "\n",
    "# Ans:\n",
    "def reverse_str(s):\n",
    "    if len(s) == 0:\n",
    "        return s\n",
    "    else:\n",
    "        return reverse_str(s[1:])+s[0]\n",
    "\n",
    "reverse_str('aditi')"
   ]
  },
  {
   "cell_type": "code",
   "execution_count": 7,
   "id": "7e09f6f1",
   "metadata": {},
   "outputs": [
    {
     "data": {
      "text/plain": [
       "25"
      ]
     },
     "execution_count": 7,
     "metadata": {},
     "output_type": "execute_result"
    }
   ],
   "source": [
    "# 8. Create a recursive Python function to calculate the power of a number (x^n).\n",
    "\n",
    "\n",
    "# Ans:\n",
    "def create_pow(x,n):\n",
    "    if n == 0:\n",
    "        return 1\n",
    "    else:\n",
    "        return (x * create_pow(x, n-1))\n",
    "    \n",
    "create_pow(5,2)"
   ]
  },
  {
   "cell_type": "code",
   "execution_count": null,
   "id": "553f5aca",
   "metadata": {},
   "outputs": [],
   "source": [
    "# 9. Write a recursive Python function to find all permutations of a given string.\n",
    "\n",
    "# Ans:\n",
    " \n",
    "# def perm(s):\n",
    "#     if len(s) == 0:\n",
    "#         print('invalid input')\n",
    "#     else:\n",
    "        "
   ]
  },
  {
   "cell_type": "code",
   "execution_count": 11,
   "id": "abfcecdd",
   "metadata": {},
   "outputs": [
    {
     "data": {
      "text/plain": [
       "False"
      ]
     },
     "execution_count": 11,
     "metadata": {},
     "output_type": "execute_result"
    }
   ],
   "source": [
    "# 10.Write a recursive Python function to check if a string is a palindrome.\n",
    "\n",
    "# Ans:\n",
    "\n",
    "def is_palidrome(s):\n",
    "    if len(s) < 2:\n",
    "        return True\n",
    "    elif s[0] != s[-1]:\n",
    "        return False\n",
    "    else:\n",
    "        return is_palidrome(s[1:-1])\n",
    "        \n",
    "is_palidrome('aditi')"
   ]
  },
  {
   "cell_type": "code",
   "execution_count": 13,
   "id": "8ca61730",
   "metadata": {},
   "outputs": [
    {
     "name": "stdout",
     "output_type": "stream",
     "text": [
      "[[], [1], [2], [1, 2], [3], [1, 3], [2, 3], [1, 2, 3]]\n"
     ]
    }
   ],
   "source": [
    "# 11. Create a recursive Python function to generate all possible combinations of a list of elements.\n",
    "\n",
    "# Ans:\n",
    "def combinations(l):\n",
    "    if l:\n",
    "        result = combinations(l[:-1])\n",
    "        return result + [c + [l[-1]] for c in result]\n",
    "    else:\n",
    "        return [[]]\n",
    "\n",
    "print(combinations([1,2,3]))"
   ]
  },
  {
   "cell_type": "markdown",
   "id": "d201bf08",
   "metadata": {},
   "source": [
    "## Basics of Functions:"
   ]
  },
  {
   "cell_type": "markdown",
   "id": "d966dbbb",
   "metadata": {},
   "source": [
    "1. What is a function in Python, and why is it used?\n",
    "\n",
    "Ans:\n",
    "For making the code the reusable and avoiding the duplication in praogram the concept of function is useful."
   ]
  },
  {
   "cell_type": "markdown",
   "id": "930b83ae",
   "metadata": {},
   "source": [
    "2. How do you define a function in Python? Provide an example.\n",
    "\n",
    "Ans:\n",
    "In Python, you define a function with the def keyword, then write the function identifier (name) followed by parentheses and a colon.\n",
    "\n",
    "def sum_func(a,b):\n",
    "    return a+b"
   ]
  },
  {
   "cell_type": "markdown",
   "id": "fdc41f9d",
   "metadata": {},
   "source": [
    "3. Explain the difference between a function definition and a function call.\n",
    "\n",
    "Ans:\n",
    "A function is a block of code that performs a specific task, while a function call is an expression that invokes a function and executes the code in the function"
   ]
  },
  {
   "cell_type": "code",
   "execution_count": 15,
   "id": "7aba0068",
   "metadata": {},
   "outputs": [
    {
     "data": {
      "text/plain": [
       "6"
      ]
     },
     "execution_count": 15,
     "metadata": {},
     "output_type": "execute_result"
    }
   ],
   "source": [
    "# 4. Write a Python program that defines a function to calculate the sum of two numbers and then calls the function.\n",
    "\n",
    "# Ans:\n",
    "\n",
    "def sum_func(a,b):\n",
    "    return a+b\n",
    "\n",
    "sum_func(2,4)"
   ]
  },
  {
   "cell_type": "markdown",
   "id": "68fd20d2",
   "metadata": {},
   "source": [
    "5. What is a function signature, and what information does it typically include?\n",
    "\n",
    "Ans:\n",
    "The signature indicates the names and types of the input arguments, and (with type annotations) the type of the returned result(s) of a function or method."
   ]
  },
  {
   "cell_type": "code",
   "execution_count": 17,
   "id": "6665cca7",
   "metadata": {},
   "outputs": [
    {
     "data": {
      "text/plain": [
       "6"
      ]
     },
     "execution_count": 17,
     "metadata": {},
     "output_type": "execute_result"
    }
   ],
   "source": [
    "# 6. Create a Python function that takes two arguments and returns their product.\n",
    "\n",
    "# Ans:\n",
    "\n",
    "def product_func(a,b):\n",
    "    return a*b\n",
    "\n",
    "product_func(2,3)"
   ]
  },
  {
   "cell_type": "markdown",
   "id": "4e4409f7",
   "metadata": {},
   "source": [
    "## Function Parameters and Arguments:"
   ]
  },
  {
   "cell_type": "markdown",
   "id": "1dabc868",
   "metadata": {},
   "source": [
    "1. Explain the concepts of formal parameters and actual arguments in Python functions.\n",
    "\n",
    "Ans:\n",
    "Actual Parameters vary from Formal Parameters in that Actual Parameters are values supplied to the function when it is invoked, whereas Formal Parameters are variables declared by the function that get values when the function is called."
   ]
  },
  {
   "cell_type": "code",
   "execution_count": 20,
   "id": "94febef0",
   "metadata": {},
   "outputs": [
    {
     "data": {
      "text/plain": [
       "6"
      ]
     },
     "execution_count": 20,
     "metadata": {},
     "output_type": "execute_result"
    }
   ],
   "source": [
    "# 2. Write a Python program that defines a function with default argument values.\n",
    "\n",
    "# Ans:\n",
    "def sum_val(a= 2, b=4):\n",
    "    return a+b\n",
    "\n",
    "sum_val()"
   ]
  },
  {
   "cell_type": "markdown",
   "id": "ca807c13",
   "metadata": {},
   "source": [
    "3. How do you use keyword arguments in Python function calls? Provide an example.\n",
    "\n",
    "Ans:\n",
    "Keyword-only arguments mean whenever we pass the arguments(or value) by their parameter names at the time of calling the function in Python in which if you change the position of arguments then there will be no change in the output.\n",
    "\n",
    "example :\n",
    "def names(name, age):\n",
    "    print(\"i am\" ,age, \"years old\")\n",
    "    print(\"My name is\", name)\n",
    "    \n",
    "names(age =18, name = 'aditi')"
   ]
  },
  {
   "cell_type": "code",
   "execution_count": 24,
   "id": "9af623ec",
   "metadata": {},
   "outputs": [
    {
     "data": {
      "text/plain": [
       "14"
      ]
     },
     "execution_count": 24,
     "metadata": {},
     "output_type": "execute_result"
    }
   ],
   "source": [
    "# 4. Create a Python function that accepts a variable number of arguments and calculates their sum.\n",
    "\n",
    "# Ans:\n",
    "\n",
    "def sum_func(*args):\n",
    "    return sum(args)\n",
    "\n",
    "sum_func(2,3,4,5)"
   ]
  },
  {
   "cell_type": "markdown",
   "id": "0ce20fbf",
   "metadata": {},
   "source": [
    "5. What is the purpose of the `*args` and `**kwargs` syntax in function parameter lists?\n",
    "\n",
    "Ans:\n",
    "\n",
    "*args passes variable number of non-keyworded arguments and on which operation of the tuple can be performed.\n",
    "**kwargs passes variable number of keyword arguments dictionary to function on which operation of a dictionary can be performed."
   ]
  },
  {
   "cell_type": "code",
   "execution_count": 28,
   "id": "47191d7d",
   "metadata": {},
   "outputs": [],
   "source": [
    "def my_func(**kwargs):\n",
    "    for key, value in kwargs.items():\n",
    "        print(key, value)"
   ]
  },
  {
   "cell_type": "code",
   "execution_count": 29,
   "id": "9918148b",
   "metadata": {},
   "outputs": [
    {
     "name": "stdout",
     "output_type": "stream",
     "text": [
      "name aditi\n",
      "last goyal\n"
     ]
    }
   ],
   "source": [
    "my_func(name= \"aditi\", last = 'goyal')"
   ]
  },
  {
   "cell_type": "markdown",
   "id": "2798155f",
   "metadata": {},
   "source": [
    "## Return Values and Scoping:"
   ]
  },
  {
   "cell_type": "markdown",
   "id": "87a3d0b9",
   "metadata": {},
   "source": [
    "1. Describe the role of the `return` statement in Python functions and provide examples.\n",
    "\n",
    "Ans:\n",
    "A return statement is used to end the execution of the function call and “returns” the result (value of the expression following the return keyword) to the caller. \n",
    "\n",
    "def sum_func(a,b):\n",
    "    return a + b"
   ]
  },
  {
   "cell_type": "markdown",
   "id": "3e86c800",
   "metadata": {},
   "source": [
    "2. Explain the concept of variable scope in Python, including local and global variables.\n",
    "\n",
    "Ans:\n",
    "Python global variables are those which are defined outside the function.\n",
    "Python local variables are those which are deifined inside the function."
   ]
  },
  {
   "cell_type": "markdown",
   "id": "de858186",
   "metadata": {},
   "source": [
    "3. Write a Python program that demonstrates the use of global variables within functions.\n",
    "\n",
    "Ans:\n",
    "s = 0\n",
    "l = []\n",
    "def sum_func():\n",
    "    for i in l:\n",
    "        s+=1\n",
    "        \n",
    "Here, s and l are the global variable. "
   ]
  },
  {
   "cell_type": "code",
   "execution_count": 44,
   "id": "c1463828",
   "metadata": {},
   "outputs": [],
   "source": [
    "# 4. Create a Python function that calculates the factorial of a number and returns it.\n",
    "\n",
    "# Ans:\n",
    "\n",
    "def fact_num(n):\n",
    "    fact = 1\n",
    "    for i in range(1,n+1):\n",
    "        fact = fact * i\n",
    "        i+=1\n",
    "    return fact"
   ]
  },
  {
   "cell_type": "code",
   "execution_count": 47,
   "id": "1cf9bc53",
   "metadata": {},
   "outputs": [
    {
     "name": "stdout",
     "output_type": "stream",
     "text": [
      "Enter the interger: 4\n",
      "Enter the interger: 5\n"
     ]
    },
    {
     "data": {
      "text/plain": [
       "9"
      ]
     },
     "execution_count": 47,
     "metadata": {},
     "output_type": "execute_result"
    }
   ],
   "source": [
    "# 5. How can you access variables defined outside a function from within the function?\n",
    "\n",
    "# Ans:\n",
    "a = int(input('Enter the interger: '))\n",
    "b = int(input('Enter the interger: '))\n",
    "\n",
    "def new_func(a,b):\n",
    "    return a + b\n",
    "new_func(a,b)"
   ]
  },
  {
   "cell_type": "markdown",
   "id": "c8943706",
   "metadata": {},
   "source": [
    "# Lambda Functions and Higher-Order Functions:"
   ]
  },
  {
   "cell_type": "markdown",
   "id": "2e367edd",
   "metadata": {},
   "source": [
    "1. What are lambda functions in Python, and when are they typically used?\n",
    "\n",
    "Ans:\n",
    "Python Lambda Functions are anonymous function means that the function is without a name. As we already know that the def keyword is used to define a normal function in Python.Similarly, the lambda keyword is used to define an anonymous function in Python."
   ]
  },
  {
   "cell_type": "code",
   "execution_count": 56,
   "id": "7ccb4bb5",
   "metadata": {},
   "outputs": [
    {
     "name": "stdout",
     "output_type": "stream",
     "text": [
      "[(4, 1), (2, 2), (1, 4), (3, 6)]\n"
     ]
    }
   ],
   "source": [
    "# 2. Write a Python program that uses lambda functions to sort a list of tuples based on the second element.\n",
    "\n",
    "# Ans:\n",
    "# List of tuples\n",
    "data = [(1, 4), (2, 2), (3, 6), (4, 1)]\n",
    "\n",
    "# Sort the list of tuples based on the second element (index 1)\n",
    "sorted_data = sorted(data, key=lambda x: x[1])\n",
    "\n",
    "# Print the sorted list\n",
    "print(sorted_data)"
   ]
  },
  {
   "cell_type": "markdown",
   "id": "031fd677",
   "metadata": {},
   "source": [
    "3. Explain the concept of higher-order functions in Python, and provide an example.\n",
    "\n",
    "Ans:\n",
    "Higher-order functions are functions that take a function as a parameter and/or return a function as an output. A few useful higher-order functions are map() , filter() , and reduce() . map() and filter() are built-in functions, whereas reduce() is contained in functools() module."
   ]
  },
  {
   "cell_type": "code",
   "execution_count": 61,
   "id": "a2ec1205",
   "metadata": {},
   "outputs": [
    {
     "name": "stdout",
     "output_type": "stream",
     "text": [
      "[1, 4, 9, 16, 25]\n"
     ]
    }
   ],
   "source": [
    "# 4. Create a Python function that takes a list of numbers and a function as arguments, applying the function to each element in the list.\n",
    "\n",
    "# Ans:\n",
    "def apply_function_to_list(numbers, func):\n",
    "    \"\"\"\n",
    "    Apply the given function to each element in the list of numbers.\n",
    "\n",
    "    Args:\n",
    "    numbers (list): A list of numbers.\n",
    "    func (function): The function to apply to each element in the list.\n",
    "\n",
    "    Returns:\n",
    "    list: A new list containing the results of applying the function to each element.\n",
    "    \"\"\"\n",
    "    result = []\n",
    "    for num in numbers:\n",
    "        result.append(func(num))\n",
    "    return result\n",
    "\n",
    "# Example usage:\n",
    "numbers = [1, 2, 3, 4, 5]\n",
    "\n",
    "# Define a sample function to apply (e.g., squaring the number)\n",
    "def square(x):\n",
    "    return x ** 2\n",
    "\n",
    "# Apply the square function to each element in the list\n",
    "result = apply_function_to_list(numbers, square)\n",
    "\n",
    "print(result)  # Output: [1, 4, 9, 16, 25]"
   ]
  },
  {
   "cell_type": "markdown",
   "id": "5f3f0e7c",
   "metadata": {},
   "source": [
    "## Built-in Functions:"
   ]
  },
  {
   "cell_type": "markdown",
   "id": "0a4e5bef",
   "metadata": {},
   "source": [
    "1. Describe the role of built-in functions like `len()`, `max()`, and `min()` in Python.\n",
    "\n",
    "Ans:\n",
    "len() is used deteremine the length of data.\n",
    "max() returns the largest number from the data.\n",
    "min() returns the smallest number from the data."
   ]
  },
  {
   "cell_type": "markdown",
   "id": "7168eac9",
   "metadata": {},
   "source": [
    "2. Write a Python program that uses the `map()` function to apply a function to each element of a list.\n",
    "\n",
    "Ans:\n",
    "def func(n):\n",
    "    return n + n\n",
    "l = [2,3,4]\n",
    "result = list(map(func,l))\n",
    "result"
   ]
  },
  {
   "cell_type": "code",
   "execution_count": 79,
   "id": "6e84e470",
   "metadata": {},
   "outputs": [
    {
     "data": {
      "text/plain": [
       "[2, 4]"
      ]
     },
     "execution_count": 79,
     "metadata": {},
     "output_type": "execute_result"
    }
   ],
   "source": [
    "# 3. How does the `filter()` function work in Python, and when would you use it?\n",
    "\n",
    "# Ans:\n",
    "#filter is used to filer the data from iterable object based on some condition.\n",
    "l = [2,3,4]\n",
    "new_filter = list(filter(lambda x: x%2==0, l))\n",
    "new_filter"
   ]
  },
  {
   "cell_type": "code",
   "execution_count": 84,
   "id": "79be1b97",
   "metadata": {},
   "outputs": [
    {
     "data": {
      "text/plain": [
       "6"
      ]
     },
     "execution_count": 84,
     "metadata": {},
     "output_type": "execute_result"
    }
   ],
   "source": [
    "# 4. Create a Python program that uses the `reduce()` function to find the product of all elements in a list.\n",
    "\n",
    "# Ans:\n",
    "from functools import reduce\n",
    "l = [2,3]\n",
    "\n",
    "def product(x,y):\n",
    "    return x*y\n",
    "\n",
    "reduce(product, l)"
   ]
  },
  {
   "cell_type": "markdown",
   "id": "3753d93e",
   "metadata": {},
   "source": [
    "## Function Documentation and Best Practices:"
   ]
  },
  {
   "cell_type": "markdown",
   "id": "ebd0ceba",
   "metadata": {},
   "source": [
    "1. Explain the purpose of docstrings in Python functions and how to write them.\n",
    "\n",
    "Ans:\n",
    "Python documentation strings (or docstrings) provide a convenient way of associating documentation with Python modules, functions, classes, and methods.\n",
    "Example:\n",
    "def power(a, b):\n",
    "    ' ' 'Returns arg1 raised to power arg2.' ' '\n",
    "  \n",
    "    return a**b\n",
    " \n",
    "print(power.__doc__)# output Returns arg1 raised to power arg2. "
   ]
  },
  {
   "cell_type": "markdown",
   "id": "6ce571a1",
   "metadata": {},
   "source": [
    "2. Describe some best practices for naming functions and variables in Python, including naming conventions and guidelines.\n",
    "\n",
    "Ans:\n",
    "1. Use descriptive and meaningful names. Variable names should be descriptive and meaningful.\n",
    "2. Follow a consistent naming convention.\n",
    "3. Avoid reserved keywords.\n",
    "4. Don't use abbreviations. \n",
    "5. Be mindful of variable scope."
   ]
  },
  {
   "cell_type": "code",
   "execution_count": null,
   "id": "68a01a86",
   "metadata": {},
   "outputs": [],
   "source": []
  }
 ],
 "metadata": {
  "kernelspec": {
   "display_name": "Python 3 (ipykernel)",
   "language": "python",
   "name": "python3"
  },
  "language_info": {
   "codemirror_mode": {
    "name": "ipython",
    "version": 3
   },
   "file_extension": ".py",
   "mimetype": "text/x-python",
   "name": "python",
   "nbconvert_exporter": "python",
   "pygments_lexer": "ipython3",
   "version": "3.9.7"
  }
 },
 "nbformat": 4,
 "nbformat_minor": 5
}
