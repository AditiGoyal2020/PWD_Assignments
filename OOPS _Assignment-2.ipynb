{
 "cells": [
  {
   "cell_type": "markdown",
   "id": "10c4560b",
   "metadata": {},
   "source": [
    "## CONSTRUCTOR"
   ]
  },
  {
   "cell_type": "markdown",
   "id": "0fd5ebc1",
   "metadata": {},
   "source": [
    "1. What is a constructor in Python? Explain its purpose and usage.\n",
    "\n",
    "Ans:\n",
    "Constructors are generally used for instantiating an object. The task of constructors is to initialize(assign values) to the data members of the class when an object of the class is created. "
   ]
  },
  {
   "cell_type": "markdown",
   "id": "411d7e7a",
   "metadata": {},
   "source": [
    "2. Differentiate between a parameterless constructor and a parameterized constructor in Python.\n",
    "\n",
    "Ans:\n",
    "Parameterized Constructor: A parameterized constructor is a constructor that takes one or more arguments. It is used to create an object with custom values for its attributes. \n",
    "Example:\n",
    "def __init__(self, f, s):\n",
    "\n",
    "\n",
    "Non-Parameterized Constructor: A non-parameterized constructor is a constructor that does not take any arguments.\n",
    "Example:\n",
    "def __init__(self):"
   ]
  },
  {
   "cell_type": "markdown",
   "id": "08d5c70c",
   "metadata": {},
   "source": [
    "3. How do you define a constructor in a Python class? Provide an example.\n",
    "\n",
    "Ans:\n",
    "The purpose of a python constructor is to assign values to the data members within the class when an object is initialized. The name of the constructor method is always __init__.\n",
    "\n",
    "In this example, the __init__ method is called when the Person object is created, and it sets the name and age attributes of the object.\n",
    "Example:\n",
    "def __init__(self, name , age):"
   ]
  },
  {
   "cell_type": "markdown",
   "id": "9a8d379d",
   "metadata": {},
   "source": [
    "4. Explain the `__init__` method in Python and its role in constructors.\n",
    "\n",
    "Ans:\n",
    "In Python, __init__ is a special method known as the constructor. It is automatically called when a new instance (object) of a class is created."
   ]
  },
  {
   "cell_type": "code",
   "execution_count": 1,
   "id": "3fbc46e2",
   "metadata": {},
   "outputs": [
    {
     "data": {
      "text/plain": [
       "'Aditi'"
      ]
     },
     "execution_count": 1,
     "metadata": {},
     "output_type": "execute_result"
    }
   ],
   "source": [
    "# 5. In a class named `Person`, create a constructor that initializes the `name` and `age` attributes. Provide an example of creating an object of this class.\n",
    "\n",
    "# Ans:\n",
    "\n",
    "class Person: \n",
    "    def __init__(self, name, age):\n",
    "        self.Name = name\n",
    "        self.Age = age\n",
    "        \n",
    "p1 = Person('Aditi', 24)\n",
    "p2 = Person('Goyal', 23)\n",
    "p1.Name"
   ]
  },
  {
   "cell_type": "code",
   "execution_count": 2,
   "id": "02b2fef1",
   "metadata": {},
   "outputs": [],
   "source": [
    "# 6. How can you call a constructor explicitly in Python? Give an example.\n",
    "\n",
    "# Ans:\n",
    "class point:\n",
    "    def __init__(self, x=0, y=0):\n",
    "        self.X = x\n",
    "        self.Y = y\n",
    "p1 = point(10,20)\n",
    "p2 = point(10)\n",
    "p3 = point()"
   ]
  },
  {
   "cell_type": "markdown",
   "id": "25f0bd75",
   "metadata": {},
   "source": [
    "7. Python uses the self parameter to refer to instance attributes and methods of the class. Unlike other programming languages, Python does not use the “@” syntax to access the instance attributes. This is the sole reason why you need to use the self variable in Python.\n",
    "\n",
    "Ans:\n",
    "Python uses the self parameter to refer to instance attributes and methods of the class.\n",
    "Unlike other programming languages, Python does not use the “@” syntax to access the instance attributes. \n",
    "\n",
    "This is the sole reason why you need to use the self variable in Python."
   ]
  },
  {
   "cell_type": "markdown",
   "id": "e654f696",
   "metadata": {},
   "source": [
    "8. Discuss the concept of default constructors in Python. When are they used?\n",
    "\n",
    "Ans:\n",
    "Default Constructor:\n",
    "A default constructor is a constructor that takes no arguments. It is used to create an object with default values for its attributes."
   ]
  },
  {
   "cell_type": "code",
   "execution_count": 3,
   "id": "598bcb81",
   "metadata": {},
   "outputs": [
    {
     "data": {
      "text/plain": [
       "6"
      ]
     },
     "execution_count": 3,
     "metadata": {},
     "output_type": "execute_result"
    }
   ],
   "source": [
    "# 9. Create a Python class called `Rectangle` with a constructor that initializes the `width` and `height` attributes. Provide a method to calculate the area of the rectangle.\n",
    "\n",
    "# Ans:\n",
    "class Rectangle:\n",
    "    def __init__(self, w, h):\n",
    "        self.Width = w\n",
    "        self.Height = h\n",
    "        \n",
    "    def CalculateArea(self):\n",
    "        return self.Width * self.Height\n",
    "    \n",
    "x = Rectangle(2,3)\n",
    "x.CalculateArea()"
   ]
  },
  {
   "cell_type": "markdown",
   "id": "03c37f30",
   "metadata": {},
   "source": [
    "10. How can you have multiple constructors in a Python class? Explain with an example.\n",
    "\n",
    "Ans:\n",
    "A pretty useful technique for simulating multiple constructors in a Python class is to provide .\n",
    "__init__() with optional arguments using default argument values. \n",
    "\n",
    "This way, you can call the class constructor in different ways and get a different behavior each time.\n",
    "\n",
    "class CumulativePowerFactory:\n",
    "    def __init__(self, exponent=2, *, start=0):\n",
    "        self._exponent = exponent\n",
    "        self.total = start\n",
    "\n",
    "    def __call__(self, base):\n",
    "        power = base ** self._exponent\n",
    "        self.total += power\n",
    "        return power"
   ]
  },
  {
   "cell_type": "markdown",
   "id": "61e46203",
   "metadata": {},
   "source": [
    "11. What is method overloading, and how is it related to constructors in Python?\n",
    "\n",
    "Ans:\n",
    "Two methods with same name in the class then it is called method overloading. Both have different number of parameteres.\n",
    "\n",
    "If the constructor is written two times with different signatures, we call constructor overloading."
   ]
  },
  {
   "cell_type": "markdown",
   "id": "3a1d1737",
   "metadata": {},
   "source": [
    "12. Explain the use of the `super()` function in Python constructors. Provide an example.\n",
    "\n",
    "Ans:\n",
    "In Python, the super() function is used to refer to the parent class or superclass. It allows you to call methods defined in the superclass from the subclass, enabling you to extend and customize the functionality inherited from the parent class."
   ]
  },
  {
   "cell_type": "code",
   "execution_count": 4,
   "id": "a3d39a14",
   "metadata": {},
   "outputs": [
    {
     "name": "stdout",
     "output_type": "stream",
     "text": [
      "Title :xyz\n",
      "Author :ndbhsah\n",
      "Published Year :6718\n",
      "\n"
     ]
    }
   ],
   "source": [
    "#13. Create a class called `Book` with a constructor that initializes the `title`, `author`, and `published_year` attributes. Provide a method to display book details.\n",
    "\n",
    "#Ans:\n",
    "class Book:\n",
    "    def __init__(self, title, author,publishedyear):\n",
    "        self.Title = title\n",
    "        self.Author = author\n",
    "        self.PublishedYear = publishedyear\n",
    "        \n",
    "    def displayBooksDetail(self):\n",
    "        print(\"Title :{}\\nAuthor :{}\\nPublished Year :{}\\n\".format(self.Title,self.Author,self.PublishedYear))\n",
    "        \n",
    "b1 = Book('xyz', \"ndbhsah\", 6718)\n",
    "b1.displayBooksDetail()"
   ]
  },
  {
   "cell_type": "markdown",
   "id": "2fa50637",
   "metadata": {},
   "source": [
    "14. Discuss the differences between constructors and regular methods in Python classes.\n",
    "\n",
    "Ans:\n",
    "A Constructor helps in initialising an object that doesn't exist. \n",
    "A Method performs functions on pre-constructed or already developed objects. "
   ]
  },
  {
   "cell_type": "markdown",
   "id": "7075bdcb",
   "metadata": {},
   "source": [
    "15. Explain the role of the `self` parameter in instance variable initialization within a constructor.\n",
    "\n",
    "Ans:\n",
    "The self variable is used to represent the instance of the class which is often used in object-oriented programming. It works as a reference to the object. Python uses the self parameter to refer to instance attributes and methods of the class."
   ]
  },
  {
   "cell_type": "markdown",
   "id": "ce469a31",
   "metadata": {},
   "source": [
    "16. How do you prevent a class from having multiple instances by using constructors in Python? Provide an example.\n",
    "\n",
    "Ans:\n"
   ]
  },
  {
   "cell_type": "code",
   "execution_count": 5,
   "id": "050674d6",
   "metadata": {},
   "outputs": [],
   "source": [
    "# 17. Create a Python class called `Student` with a constructor that takes a list of subjects as a parameter and initializes the `subjects` attribute.\n",
    "\n",
    "# Ans:\n",
    "class Student:\n",
    "    def __init__(self, hindi, english):\n",
    "        self.Hindi = hindi\n",
    "        self.English = english\n",
    "        "
   ]
  },
  {
   "cell_type": "markdown",
   "id": "26605566",
   "metadata": {},
   "source": [
    "18. What is the purpose of the `__del__` method in Python classes, and how does it relate to constructors?\n",
    "\n",
    "Ans:\n",
    "n Python, the __del__() method is referred to as a destructor method. It is called after an object's garbage collection occurs, which happens after all references to the item have been destroyed. Student table created. Destructor called, Student table deleted."
   ]
  },
  {
   "cell_type": "markdown",
   "id": "4ce2ed31",
   "metadata": {},
   "source": [
    "19. Explain the use of constructor chaining in Python. Provide a practical example.\n",
    "\n",
    "Ans\n",
    "\n",
    "Dog IS A Animal it can call the constructor of the parent class I. E. Animal() or Animal (String name, String type, String weight). Here we are calling Animal() because the super () is not parameterized. This is another example of constructor chaining."
   ]
  },
  {
   "cell_type": "code",
   "execution_count": 6,
   "id": "55f9efd8",
   "metadata": {},
   "outputs": [],
   "source": [
    "#20. Create a Python class called `Car` with a default constructor that initializes the `make` and `model` attributes. Provide a method to display car information\n",
    "\n",
    "# Ans:\n",
    "class car:\n",
    "    def __init__(self,make,model):\n",
    "        self.Make = make\n",
    "        self.Model = model\n",
    "        \n",
    "    def display_info(self):\n",
    "        print(\"Car making: {}\\nCar model: {}\\n\".format(self.Make, self.Model))"
   ]
  },
  {
   "cell_type": "code",
   "execution_count": 7,
   "id": "118f7093",
   "metadata": {},
   "outputs": [],
   "source": [
    "c1= car('Maruti', 'dbwjh89')"
   ]
  },
  {
   "cell_type": "code",
   "execution_count": 8,
   "id": "d67894f7",
   "metadata": {},
   "outputs": [
    {
     "name": "stdout",
     "output_type": "stream",
     "text": [
      "Car making: Maruti\n",
      "Car model: dbwjh89\n",
      "\n"
     ]
    }
   ],
   "source": [
    "c1.display_info()"
   ]
  },
  {
   "cell_type": "markdown",
   "id": "515536dc",
   "metadata": {},
   "source": [
    "## Inheritance"
   ]
  },
  {
   "cell_type": "markdown",
   "id": "9e3b06bb",
   "metadata": {},
   "source": [
    "1. What is inheritance in Python? Explain its significance in object-oriented programming.\n",
    "\n",
    "Ans:\n",
    "when the child class inherits all the methods and attributes of parent class then it is called inheritance in python.\n",
    "\n",
    "It avoids rewritting the same methods and attributes of child class again."
   ]
  },
  {
   "cell_type": "markdown",
   "id": "75df6ee8",
   "metadata": {},
   "source": [
    "2. Differentiate between single inheritance and multiple inheritance in Python. Provide examples for each.\n",
    "\n",
    "Ans:\n",
    "Single Inheritance:\n",
    "when the child class inherits the methods and attributes from single parent class.\n",
    "Example:\n",
    "class Grandfather:\n",
    "    def property(self, house= 'flat'):\n",
    "        self.House = house\n",
    "        print(self.House)\n",
    "\n",
    "class Father(Grandfather):\n",
    "    def show_property(self, ownhouse = 'villa'):\n",
    "        self.OwnHouse =ownhouse\n",
    "        print(\"Father's property are:\",self.OwnHouse)\n",
    "        super().property()\n",
    "f1 = Father()\n",
    "f1.show_property()\n",
    "\n",
    "\n",
    "Multiple Inheritance:\n",
    "when the child class inehrits from multiple parent classes.\n",
    "\n",
    "Example:\n",
    "class Father:\n",
    "    def Father_property(self): \n",
    "        print(\"Has one house\")\n",
    "\n",
    "class Mother:\n",
    "    def Mother_property(self): \n",
    "        print(\"Has one car\")\n",
    "        \n",
    "class child(Father, Mother):\n",
    "    def Show_property(self):\n",
    "        print(\"child's property: \")\n",
    "        super().Father_property()\n",
    "        super().Mother_property()\n",
    "\n",
    "c1 = child()\n",
    "c1.Show_property()"
   ]
  },
  {
   "cell_type": "code",
   "execution_count": 9,
   "id": "1aa9b5fd",
   "metadata": {},
   "outputs": [
    {
     "name": "stdout",
     "output_type": "stream",
     "text": [
      "Maruti red 60\n"
     ]
    }
   ],
   "source": [
    "# 3. Create a Python class called `Vehicle` with attributes `color` and `speed`. Then, create a child class called `Car` that inherits from `Vehicle` and adds a `brand` attribute. Provide an example of creating a `Car` object.\n",
    "\n",
    "# Ans:\n",
    "class Vehicle:\n",
    "    def __init__(self, color,speed):\n",
    "        self.Color = color \n",
    "        self.Speed = speed\n",
    "\n",
    "class Car(Vehicle):\n",
    "    def __init__(self,brand, color,speed):\n",
    "        super().__init__(color,speed)\n",
    "        self.Brand = brand\n",
    "\n",
    "c1 = Car('Maruti', 'red', 60)\n",
    "print(c1.Brand, c1.Color, c1.Speed)"
   ]
  },
  {
   "cell_type": "code",
   "execution_count": 10,
   "id": "a766877f",
   "metadata": {},
   "outputs": [
    {
     "name": "stdout",
     "output_type": "stream",
     "text": [
      "Employee # : 101\n",
      "Employee Name # : Aditi\n",
      "Salary # : 99000\n",
      "DeptNo # : sales\n",
      "\n",
      "Commission : 4500\n"
     ]
    }
   ],
   "source": [
    "#4. Explain the concept of method overriding in inheritance. Provide a practical example.\n",
    "\n",
    "#Ans:\n",
    "# Using the same name for two methods in a class it is called method overriding.\n",
    "# Example:\n",
    "\n",
    "class Employee:\n",
    "    def __init__(self,eno, ename, salary, deptno):\n",
    "        self.EmpNo = eno\n",
    "        self.EName = ename\n",
    "        self.Salary = salary\n",
    "        self.DeptNo = deptno\n",
    "        \n",
    "    def showEmployee(self):\n",
    "        print(\"Employee # : {}\\nEmployee Name # : {}\\nSalary # : {}\\nDeptNo # : {}\\n\"\n",
    "              .format(self.EmpNo, self.EName, self.Salary, self.DeptNo))\n",
    "\n",
    "class Salesman(Employee):\n",
    "    def __init__(self,eno, ename, salary, deptno, comm):\n",
    "        self.Commission = comm\n",
    "        super().__init__(eno, ename, salary, deptno)\n",
    "    \n",
    "    def showEmployee(self):\n",
    "        super().showEmployee()\n",
    "        print('Commission :',self.Commission)\n",
    "        \n",
    "emp = Salesman(101,'Aditi', 99000, 'sales', 4500)\n",
    "emp.showEmployee()"
   ]
  },
  {
   "cell_type": "code",
   "execution_count": 11,
   "id": "5fa9993a",
   "metadata": {},
   "outputs": [
    {
     "name": "stdout",
     "output_type": "stream",
     "text": [
      "Employee : 123\n",
      "Employee Name: gfgf\n",
      "\n",
      "Commission : 90\n"
     ]
    }
   ],
   "source": [
    "# 5. How can you access the methods and attributes of a parent class from a child class in Python? Give an example.\n",
    "\n",
    "# Ans:\n",
    "# We can access the methods and attributes of parent class from child class using the super() method.\n",
    "# Example:\n",
    "\n",
    "class Employee:\n",
    "    def __init__(self, eno, ename):\n",
    "        self.eno  = eno\n",
    "        self.ename = ename\n",
    "        \n",
    "    def ShowEmployee(self):\n",
    "        print('Employee : {}\\nEmployee Name: {}\\n'.format(self.eno,self.ename))\n",
    "        \n",
    "class Salesman(Employee):\n",
    "    def __init__(self, eno, ename, comm):\n",
    "        self.comm = comm\n",
    "        super().__init__(eno, ename)\n",
    "   \n",
    "    def ShowEmployee(self):\n",
    "        super().ShowEmployee()\n",
    "        print('Commission :',self.comm)\n",
    "\n",
    "e1 = Salesman(123, 'gfgf',90)\n",
    "e1.ShowEmployee()"
   ]
  },
  {
   "cell_type": "markdown",
   "id": "8d9d5190",
   "metadata": {},
   "source": [
    "6. Discuss the use of the `super()` function in Python inheritance. When and why is it used? Provide an example.\n",
    "\n",
    "Ans:\n",
    "The super method is used to invoke the parent attribute and method in the child class.\n",
    "Example:\n",
    "class Employee:\n",
    "    def __init__(self, eno, ename):\n",
    "        self.eno  = eno\n",
    "        self.ename = ename\n",
    "        \n",
    "    def ShowEmployee(self):\n",
    "        print('Employee : {}\\nEmployee Name: {}\\n'.format(self.eno,self.ename))\n",
    "        \n",
    "class Salesman(Employee):\n",
    "    def __init__(self, eno, ename, comm):\n",
    "        self.comm = comm\n",
    "        super().__init__(eno, ename)\n",
    "   \n",
    "    def ShowEmployee(self):\n",
    "        super().ShowEmployee()\n",
    "        print('Commission :',self.comm)\n",
    "\n",
    "e1 = Salesman(123, 'gfgf',90)\n",
    "e1.ShowEmployee()"
   ]
  },
  {
   "cell_type": "code",
   "execution_count": 12,
   "id": "af8b8c9d",
   "metadata": {},
   "outputs": [],
   "source": [
    "# 7. Create a Python class called `Animal` with a method `speak()`. Then, create child classes `Dog` and `Cat` that inherit from `Animal` and override the `speak()` method. Provide an example of using these classes.\n",
    "\n",
    "# Ans:\n",
    "\n",
    "class Animal:\n",
    "    def Speak(self):\n",
    "        print('This animal has its own language')\n",
    "        \n",
    "class Cat:\n",
    "    def Speak(self):\n",
    "        print('This animal meeaaww')\n",
    "        \n",
    "class Dog:\n",
    "    def Speak(self):\n",
    "        print('This animal barks')"
   ]
  },
  {
   "cell_type": "markdown",
   "id": "ecacfef2",
   "metadata": {},
   "source": [
    "8. Explain the role of the `isinstance()` function in Python and how it relates to inheritance.\n",
    "\n",
    "Ans:\n",
    "The isinstance () function checks whether an object is an instance of the class mentioned.\n",
    "Example:\n",
    "x = isinstance(5, int)\n",
    "This check whether this is integer."
   ]
  },
  {
   "cell_type": "code",
   "execution_count": 13,
   "id": "e0e34fb6",
   "metadata": {},
   "outputs": [
    {
     "data": {
      "text/plain": [
       "True"
      ]
     },
     "execution_count": 13,
     "metadata": {},
     "output_type": "execute_result"
    }
   ],
   "source": [
    "# 9. What is the purpose of the `issubclass()` function in Python? Provide an example.\n",
    "\n",
    "# Ans:\n",
    "\n",
    "# This check whether the current class is subclass of another class.\n",
    "\n",
    "class myAge:\n",
    "    age = 36\n",
    "\n",
    "class myObj(myAge):\n",
    "    name = \"John\"\n",
    "    age = myAge\n",
    "\n",
    "x = issubclass(myObj, myAge)\n",
    "x"
   ]
  },
  {
   "cell_type": "markdown",
   "id": "9d548ced",
   "metadata": {},
   "source": [
    "10. Discuss the concept of constructor inheritance in Python. How are constructors inherited in child classes?\n",
    "\n",
    "Ans:\n",
    "In Python, every class inherits from a built-in basic class called 'object'. The constructor i.e. the '__init__' function of a class is invoked when we create an object variable or an instance of the class. The variables defined within __init__() are called instance variables or objects.\n",
    "\n",
    "They are inherited using super().__init__()"
   ]
  },
  {
   "cell_type": "code",
   "execution_count": 14,
   "id": "0d9cd6ef",
   "metadata": {},
   "outputs": [],
   "source": [
    "# 11. Create a Python class called `Shape` with a method `area()` that calculates the area of a shape. Then, create child classes `Circle` and `Rectangle` that inherit from `Shape` and implement the `area()` method accordingly. Provide an example.\n",
    "\n",
    "# Ans:\n",
    "class Shape:\n",
    "    def __init__(self, r, w, h):\n",
    "        self.radius = r\n",
    "        self.width = w\n",
    "        self.height = h\n",
    "    def Area(self):\n",
    "        print('The are of this shape is: ')\n",
    "\n",
    "class Circle:\n",
    "    def Area(self, r):\n",
    "        super().__init__(r)\n",
    "        return  3.14 * r\n",
    "    \n",
    "\n",
    "class Rectangle:\n",
    "    def Area(self,w,h):\n",
    "        super().__init__(w,h)\n",
    "        return w * h"
   ]
  },
  {
   "cell_type": "markdown",
   "id": "62f243f9",
   "metadata": {},
   "source": [
    "12. Explain the use of abstract base classes (ABCs) in Python and how they relate to inheritance. Provide an example using the `abc` module.\n",
    "\n",
    "Ans:\n",
    "Abstract base classes are used in the methods for the parent class where every child class have different implimentation of same method.\n",
    "Example:\n",
    "from abc import ABC, abstarctmethod;\n",
    "\n",
    "\n",
    "class Institute(ABC):\n",
    "    \n",
    "    def __init__(self):\n",
    "        print(type(self).__name__,\"details :\")\n",
    "    \n",
    "    def CoursesOffered(self):\n",
    "        print(\"Courses offered : C, C++, Java, .Net\")\n",
    "\n",
    "    @abstarctmethod\n",
    "    def address(self):pass\n",
    "\n",
    "class TechnoAcademy(Institute):\n",
    "    def CoursesOffered(self):\n",
    "        print(\"Courses offered: Python, Data Science, Xamarin\")\n",
    "\n",
    "    def address(self):\n",
    "        print(\"Address@ Hyderabad\")\n",
    "\n",
    "class OnlineAcademy(Institute):\n",
    "    def address(self):\n",
    "        print(\"Address @ banglore\")\n",
    "\n",
    "inst = Institute()\n",
    "ta = TechnoAcademy()\n",
    "ta.CoursesOffered()\n",
    "ta.address()\n",
    "\n",
    "olt = OnlineAcademy()\n",
    "olt.CoursesOffered()\n",
    "olt.address()"
   ]
  },
  {
   "cell_type": "code",
   "execution_count": 15,
   "id": "58c08017",
   "metadata": {},
   "outputs": [
    {
     "ename": "SyntaxError",
     "evalue": "invalid syntax (Temp/ipykernel_19320/1944361791.py, line 4)",
     "output_type": "error",
     "traceback": [
      "\u001b[1;36m  File \u001b[1;32m\"C:\\Users\\ADITIG~1\\AppData\\Local\\Temp/ipykernel_19320/1944361791.py\"\u001b[1;36m, line \u001b[1;32m4\u001b[0m\n\u001b[1;33m    class\u001b[0m\n\u001b[1;37m          ^\u001b[0m\n\u001b[1;31mSyntaxError\u001b[0m\u001b[1;31m:\u001b[0m invalid syntax\n"
     ]
    }
   ],
   "source": [
    "# 13. How can you prevent a child class from modifying certain attributes or methods inherited from a parent class in Python?\n",
    "\n",
    "# Ans:\n",
    "class "
   ]
  },
  {
   "cell_type": "code",
   "execution_count": null,
   "id": "8a8c8346",
   "metadata": {},
   "outputs": [],
   "source": [
    "# 14. Create a Python class called `Employee` with attributes `name` and `salary`. Then, create a child class\n",
    "# `Manager` that inherits from `Employee` and adds an attribute `department`. Provide an example.\n",
    "\n",
    "# Ans:\n",
    "class Employee:\n",
    "    def __init__(self, name, salary):\n",
    "        self.Name = name\n",
    "        self.Salary = salary\n",
    "\n",
    "class Manager(Employee):\n",
    "    def showInfo(self, name, salary,department):\n",
    "        self.Department = department\n",
    "        super().__init__(department)"
   ]
  },
  {
   "cell_type": "markdown",
   "id": "b945d63b",
   "metadata": {},
   "source": [
    "15. Discuss the concept of method overloading in Python inheritance. How does it differ from method overriding?\n",
    "\n",
    "Ans:\n",
    "Two or more methods have the same name but different numbers of parameters or different types of parameters, or both. These methods are called overloaded methods and this is called method overloading.\n",
    "\n",
    "When the definations of the base class is modified at the derived class then it is said to be method overriding."
   ]
  },
  {
   "cell_type": "markdown",
   "id": "d7e56d2a",
   "metadata": {},
   "source": [
    "16. Explain the purpose of the `__init__()` method in Python inheritance and how it is utilized in child classes.\n",
    "\n",
    "Ans:\n",
    "The __init__ method is the Python equivalent of the C++ constructor in an object-oriented approach. The __init__ function is called every time an object is created from a class. The __init__ method lets the class initialize the object's attributes and serves no other purpose. It is only used within classes."
   ]
  },
  {
   "cell_type": "code",
   "execution_count": null,
   "id": "7d04e8fa",
   "metadata": {},
   "outputs": [],
   "source": [
    "# 17. Create a Python class called `Bird` with a method `fly()`. Then, create child classes `Eagle` and `Sparrow` that inherit from `Bird` and implement the `fly()` method differently. Provide an example of using these\n",
    "# classes.\n",
    "\n",
    "# Ans:\n",
    "class Bird:\n",
    "    def Fly(self):\n",
    "        print('I fly as per my pace')\n",
    "        \n",
    "class Eagle(Bird):\n",
    "    def Fly(self):\n",
    "        print('I fly very very high')"
   ]
  },
  {
   "cell_type": "markdown",
   "id": "134ca503",
   "metadata": {},
   "source": [
    "18. What is the \"diamond problem\" in multiple inheritance, and how does Python address it?\n",
    "\n",
    "Ans:\n",
    "The diamond problem is an ambiguity that is arisen when there are two classes say B and C that inherit / are derived from a single class A, and there is another class D, that is a class derived from multiple inheritance and inherits from B as well as Cs"
   ]
  },
  {
   "cell_type": "markdown",
   "id": "5b61bf91",
   "metadata": {},
   "source": [
    "19. Discuss the concept of \"is-a\" and \"has-a\" relationships in inheritance, and provide examples of each.\n",
    "\n",
    "Ans:\n",
    "An IS-A relationship is inheritance. The classes which inherit are known as sub classes or child classes. On the other hand, HAS-A relationship is composition.\n",
    "\n",
    "In OOP, IS-A relationship is completely inheritance. This means, that the child class is a type of parent class."
   ]
  },
  {
   "cell_type": "code",
   "execution_count": null,
   "id": "096495bd",
   "metadata": {},
   "outputs": [],
   "source": [
    "20. Create a Python class hierarchy for a university system. Start with a base class `Person` and create child\n",
    "classes `Student` and `Professor`, each with their own attributes and methods. Provide an example of using\n",
    "these classes in a university context.\n",
    "\n",
    "Ans:\n",
    "    "
   ]
  },
  {
   "cell_type": "markdown",
   "id": "471d50b3",
   "metadata": {},
   "source": [
    "## Encapsulation:"
   ]
  },
  {
   "cell_type": "markdown",
   "id": "4478c7ac",
   "metadata": {},
   "source": [
    "1. Explain the concept of encapsulation in Python. What is its role in object-oriented programming?\n",
    "\n",
    "Ans:\n",
    "Encapsulation is the process of bundling of data with the methods that operate on the data.\n",
    "\n",
    "Data encapsulation is the process of restricting the direct access to some component of an object."
   ]
  },
  {
   "cell_type": "markdown",
   "id": "dcb76fc2",
   "metadata": {},
   "source": [
    "2. Describe the key principles of encapsulation, including access control and data hiding.\n",
    "\n",
    "Ans:\n",
    "Encapsulation is a way to restrict the direct access to some components of an object, so users cannot access state values for all of the variables of a particular object.\n",
    "Encapsulation can be used to hide both data members and data functions or methods associated with an instantiated class or object."
   ]
  },
  {
   "cell_type": "markdown",
   "id": "ad2bc1df",
   "metadata": {},
   "source": [
    "3. How can you achieve encapsulation in Python classes? Provide an example.\n",
    "\n",
    "Ans:\n",
    "Encapsulation is achieved by declaring a class's data members and methods as either private or protected. But in Python, we do not have keywords like public, private, and protected, as in the case of Java. Instead, we achieve this by using single and double underscores."
   ]
  },
  {
   "cell_type": "markdown",
   "id": "a84b3753",
   "metadata": {},
   "source": [
    "4. Discuss the difference between public, private, and protected access modifiers in Python.\n",
    "\n",
    "Ans:\n",
    "Public data attributes are accessible by any class and function.\n",
    "\n",
    "protected data attributes should only be accessed inside the class environment and can also be accessed inside the sub-classes. \n",
    "\n",
    "private data attributes are only accessible inside the class."
   ]
  },
  {
   "cell_type": "code",
   "execution_count": null,
   "id": "4d2701e1",
   "metadata": {},
   "outputs": [],
   "source": [
    "# 5. Create a Python class called `Person` with a private attribute `__name`. Provide methods to get and set the name attribute.\n",
    "\n",
    "# Ans:\n",
    "class Person:\n",
    "    def __init__(self, name):\n",
    "        self.__name = name\n",
    "    \n",
    "    def get_name(self):\n",
    "        return self.__name\n",
    "    \n",
    "    def set_name(self, value):\n",
    "        self.__name = value\n",
    "\n",
    "p1 = Person('Aditi')\n",
    "p1.set_name('Ashish')\n",
    "p1.get_name()"
   ]
  },
  {
   "cell_type": "markdown",
   "id": "2512eef6",
   "metadata": {},
   "source": [
    "6. Explain the purpose of getter and setter methods in encapsulation. Provide examples.\n",
    "\n",
    "Ans:\n",
    "\n",
    "Getters and Setters play an important role in retrieving and updating the value of a variable outside the encapsulating class.\n",
    "\n",
    "A setter updates the value of a variable, while a getter reads the value of a variable."
   ]
  },
  {
   "cell_type": "markdown",
   "id": "95eb4c59",
   "metadata": {},
   "source": [
    "7. What is name mangling in Python, and how does it affect encapsulation?\n",
    "\n",
    "Ans:\n",
    "In Python, mangling is used for class attributes that one does not want subclasses to use which are designated as such by giving them a name with two or more leading underscores and no more than one trailing underscore.\n",
    "\n",
    "witten as :\n",
    " _classname__identifier \n",
    "\n",
    "Example:\n",
    "class Student:\n",
    "    def __init__(self, name):\n",
    "        self.__name = name\n",
    "\n",
    "S1 = Student(\"Aditi\")"
   ]
  },
  {
   "cell_type": "code",
   "execution_count": null,
   "id": "40658887",
   "metadata": {},
   "outputs": [],
   "source": [
    "# 8. Create a Python class called `BankAccount` with private attributes for the account balance (`__balance`) and account number (`__account_number`). Provide methods for depositing and withdrawing money.\n",
    "\n",
    "# Ans:\n",
    "class BankAccount:\n",
    "    def __init__(self, bal, accno):\n",
    "        self.__Balance = bal\n",
    "        self.__AccountNo = accno\n",
    "    \n",
    "    def Deposit(self, amount):\n",
    "        self.__Balance+=amount\n",
    "    \n",
    "    def Withdraw(self, amount):\n",
    "        self.__Balance-=amount\n",
    "p1 = BankAccount(10000,'jhjsahdhs90')\n",
    "p1._BankAccount__Balance"
   ]
  },
  {
   "cell_type": "markdown",
   "id": "5c35a394",
   "metadata": {},
   "source": [
    "9. Discuss the advantages of encapsulation in terms of code maintainability and security.\n",
    "\n",
    "Ans:\n",
    "1. Data Hiding:Encapsulation also provides a way for data hiding. The user will have no idea about the inner implementation of the class.\n",
    "\n",
    "2. Increased Flexibility:We can make the variables of the class read-only or write-only depending on our requirements. If we wish to make the variables read-only then we have to omit the setter methods like setName(), setAge(), etc. from the above program or if we wish to make the variables write-only then we have to omit the get methods like getName(), getAge(), etc.\n",
    "\n",
    "3. Reusability:Encapsulation also improves the re-usability and is easy to change with new requirements.\n",
    "\n",
    "4. Testing code is easy: Encapsulated code is easy to test for unit testing.\n",
    "\n",
    "5. Freedom to programmer in implementing the details of the system: This is one of the major advantage of encapsulation that it gives the programmer freedom in implementing the details of a system. "
   ]
  },
  {
   "cell_type": "markdown",
   "id": "cf982b5c",
   "metadata": {},
   "source": [
    "10. How can you access private attributes in Python? Provide an example demonstrating the use of name mangling.\n",
    "\n",
    "Ans:\n",
    "The class variables can be accessed by adding _classname to it. \n",
    "\n",
    "The name mangling is closest to private not exactly private. \n",
    "\n",
    "The above class variable is accessed by adding the _classname to it. \n",
    "\n",
    "The class variable is accessed from outside the class with the name _Student__name.\n",
    "\n",
    "Example:\n",
    "class BankAccount:\n",
    "    def __init__(self, bal, accno):\n",
    "        self.__Balance = bal\n",
    "        self.__AccountNo = accno\n",
    "    \n",
    "    def Deposit(self, amount):\n",
    "        self.__Balance+=amount\n",
    "    \n",
    "    def Withdraw(self, amount):\n",
    "        self.__Balance-=amount\n",
    "p1 = BankAccount(10000,'jhjsahdhs90')\n",
    "p1._BankAccount__Balance"
   ]
  },
  {
   "cell_type": "code",
   "execution_count": null,
   "id": "04fd545a",
   "metadata": {},
   "outputs": [],
   "source": [
    "# 11. Create a Python class hierarchy for a school system, including classes for students, teachers, and courses,and implement encapsulation principles to protect sensitive information.\n",
    "\n",
    "#Ans:\n",
    "class SchoolSystem:\n",
    "    \n",
    "class Students(SchoolSystem):\n",
    "    \n",
    "class Teachers(SchoolSystem):\n",
    "    \n",
    "class Courses(SchoolSystem):"
   ]
  },
  {
   "cell_type": "markdown",
   "id": "b0d1046e",
   "metadata": {},
   "source": [
    "12. Explain the concept of property decorators in Python and how they relate to encapsulation.\n",
    "\n",
    "Ans:\n",
    "@property decorator is a built-in decorator in Python which is helpful in defining the properties effortlessly without manually calling the inbuilt function property(). Which is used to return the property attributes of a class from the stated getter, setter and deleter as parameters.\n",
    "\n",
    "Example\n",
    "class Employee:\n",
    "    def __init__(self, fname, lname):\n",
    "        self.fname = fname\n",
    "        self.lname = lname\n",
    "        # self.email = f\"{fname}.{lname}@codewithharry.com\"\n",
    "\n",
    "    def explain(self):\n",
    "        return f\"This employee is {self.fname} {self.lname}\"\n",
    "    \n",
    "@property\n",
    "def email(self):\n",
    "    if self.fname==None or self.lname == None:\n",
    "        return \"Email is not set. Please set it using setter\"\n",
    "    return f\"{self.fname}.{self.lname}@codewithharry.com\"\n",
    "\n",
    "s1 = Employee('skills', 'F')\n",
    "s1.fname"
   ]
  },
  {
   "cell_type": "markdown",
   "id": "45162246",
   "metadata": {},
   "source": [
    "13. What is data hiding, and why is it important in encapsulation? Provide examples.\n",
    "\n",
    "Ans:\n",
    "Data Hiding: it is a way of restricting the access of our data members by hiding the implementation details.\n",
    "\n",
    "Encapsulation also provides a way for data hiding. The user will have no idea about the inner implementation of the class. \n",
    "\n",
    "It will not be visible to the user how the class is storing values in the variables."
   ]
  },
  {
   "cell_type": "code",
   "execution_count": null,
   "id": "a8dab9d1",
   "metadata": {},
   "outputs": [],
   "source": [
    "# 14. Create a Python class called `Employee` with private attributes for salary (`__salary`) and employee ID (`__employee_id`). Provide a method to calculate yearly bonuses\n",
    "\n",
    "# Ans:\n",
    "\n",
    "class Employee:\n",
    "    def __init__(self, salary, employee_id):\n",
    "        self.__Salary = salary\n",
    "        self.__employee_id = employee_id\n",
    "        \n",
    "    def BonusCalculation(self, perbonus):\n",
    "        bonus = (self.__Salary*perbonus)/100\n",
    "        return bonus\n",
    "e1 = Employee(40000, 1082)\n",
    "e1.BonusCalculation(4)"
   ]
  },
  {
   "cell_type": "markdown",
   "id": "5f4ffb24",
   "metadata": {},
   "source": [
    "15. Discuss the use of accessors and mutators in encapsulation. How do they help maintain control over\n",
    "attribute access?\n",
    "\n",
    "Ans:\n",
    "Accessors (getters) are methods that retrieve the values of an object's attributes, while mutators (setters) are methods that modify the values of attributes. \n",
    "They are used to control access to object data, enforcing encapsulation and data integrity."
   ]
  },
  {
   "cell_type": "markdown",
   "id": "360742cb",
   "metadata": {},
   "source": [
    "16. What are the potential drawbacks or disadvantages of using encapsulation in Python?\n",
    "\n",
    "Ans:\n",
    "Code Size:The length of the code increases drastically in the case of encapsulation as we need to provide all the methods with the specifiers.\n",
    "\n",
    "More Instructions: As the size of the code increases, therefore, you need to provide additional instructions for every method."
   ]
  },
  {
   "cell_type": "markdown",
   "id": "108c50dd",
   "metadata": {},
   "source": [
    "17. Create a Python class for a library system that encapsulates book information, including titles, authors, and availability status.\n",
    "\n",
    "Ans:\n"
   ]
  },
  {
   "cell_type": "markdown",
   "id": "0c17c743",
   "metadata": {},
   "source": [
    "18. Explain how encapsulation enhances code reusability and modularity in Python programs.\n",
    "\n",
    "Ans:\n",
    "Modularity is closely tied with encapsulation; think of modularity as a way of mapping encapsulated abstractions into real, physical modules.\n",
    "\n",
    "Encapsulation promotes code reuse by making it easier to use and adapt existing code to new applications. By encapsulating data and methods within a class, the class can be used as a black box, without the need to know the details of its implementation."
   ]
  },
  {
   "cell_type": "markdown",
   "id": "204248ed",
   "metadata": {},
   "source": [
    "19. Describe the concept of information hiding in encapsulation. Why is it essential in software development?\n",
    "\n",
    "Ans:\n",
    "Information Hiding is a key principle related to the concept of encapsulation in Object-Oriented Programming (OOP). By hiding the internal workings of a class and only exposing necessary interfaces, we ensure that the object's state can only be changed in controlled ways."
   ]
  },
  {
   "cell_type": "code",
   "execution_count": null,
   "id": "f229cfa1",
   "metadata": {},
   "outputs": [],
   "source": [
    "# 20. Create a Python class called `Customer` with private attributes for customer details like name, address,\n",
    "# and contact information. Implement encapsulation to ensure data integrity and security.\n",
    "\n",
    "# Ans:\n",
    "class Customer:\n",
    "    def __init__(self, name, address, contact):\n",
    "        self.__Name = name\n",
    "        self.__Address = address\n",
    "        self.__Contact = contact\n",
    "        \n",
    "c1 = Customer('Aditi', 'D-99 milan apartment', 9900923456)\n",
    "c1._Customer__Name"
   ]
  },
  {
   "cell_type": "markdown",
   "id": "11a2d207",
   "metadata": {},
   "source": [
    "## Polymorphism:"
   ]
  },
  {
   "cell_type": "markdown",
   "id": "c8b7053c",
   "metadata": {},
   "source": [
    "1. What is polymorphism in Python? Explain how it is related to object-oriented programming.\n",
    "\n",
    "Ans:\n",
    "\"polymorphism\" means \"many forms\", and in programming it refers to methods/functions/operators with the same name that can be executed on many objects or classes."
   ]
  },
  {
   "cell_type": "markdown",
   "id": "b68ba4cc",
   "metadata": {},
   "source": [
    "2. Describe the difference between compile-time polymorphism and runtime polymorphism in Python.\n",
    "\n",
    "Ans:\n",
    " Compile-time polymorphism is illustrated by method overloading, whereas runtime polymorphism is illustrated by method overriding.\n",
    "\n",
    "When two or more methods in the same class have the same method name but different parameters, this is called overloading.\n",
    "In contrast, overriding occurs when two methods have the same name and parameters.\n",
    "\n",
    "Method overloading happens withon same class while method overriding happens between two classes in the concept of inheritance. "
   ]
  },
  {
   "cell_type": "code",
   "execution_count": null,
   "id": "80d225a0",
   "metadata": {},
   "outputs": [],
   "source": [
    "# 3. Create a Python class hierarchy for shapes (e.g., circle, square, triangle) and demonstrate polymorphism\n",
    "# through a common method, such as `calculate_area()`.\n",
    "\n",
    "# Ans:\n",
    "class Shapes:\n",
    "    def __init__(self, l, w, h, r, s):\n",
    "        self.Length = l\n",
    "        self.Width = w\n",
    "        self.Height = h\n",
    "        self.Radius = r\n",
    "        self.Side = s\n",
    "    def CalculateArea(self):\n",
    "        pass\n",
    "    \n",
    "class Circle(Shapes):\n",
    "    def CalculateArea(self):\n",
    "        return 3.14 * (r*r)\n",
    "\n",
    "class Square(Shapes):\n",
    "    def CalculateArea(self):\n",
    "        return s * s"
   ]
  },
  {
   "cell_type": "markdown",
   "id": "830d9f43",
   "metadata": {},
   "source": [
    "4. Explain the concept of method overriding in polymorphism. Provide an example.\n",
    "\n",
    "Ans:\n",
    "It is Run time polymorphism. \n",
    "Method Overriding is done when a child or a subclass has a method with the same name, parameters, and return type as the parent or the superclass; then that function overrides the function in the superclass.\n",
    "\n",
    "Example:\n",
    "class Parent(): \n",
    "      \n",
    "    # Constructor \n",
    "    def __init__(self): \n",
    "        self.value = \"Inside Parent\"\n",
    "          \n",
    "    # Parent's show method \n",
    "    def show(self): \n",
    "        print(self.value) \n",
    "          \n",
    "Defining child class \n",
    "\n",
    "class Child(Parent): \n",
    "      \n",
    "    # Constructor \n",
    "    def __init__(self): \n",
    "        self.value = \"Inside Child\"\n",
    "          \n",
    "    # Child's show method \n",
    "    def show(self): \n",
    "        print(self.value)\n",
    "obj1 = Parent() \n",
    "obj2 = Child() \n",
    "  \n",
    "obj1.show() \n",
    "obj2.show() "
   ]
  },
  {
   "cell_type": "markdown",
   "id": "e41f195b",
   "metadata": {},
   "source": [
    "5. How is polymorphism different from method overloading in Python? Provide examples for both.\n",
    "\n",
    "Ans:\n",
    "Method Overloading in Python is a type of Compile-time Polymorphism using which we can define two or more methods in the same class with the same name but with a different parameter list. \n",
    "\n",
    "We cannot perform method overloading in the Python programming language as everything is considered an object in Python."
   ]
  },
  {
   "cell_type": "code",
   "execution_count": 16,
   "id": "6725ef02",
   "metadata": {},
   "outputs": [],
   "source": [
    "# 6. Create a Python class called `Animal` with a method `speak()`. Then, create child classes like `Dog`, `Cat`, and `Bird`, each with their own `speak()` method. Demonstrate polymorphism by calling the `speak()` method on objects of different subclasses.\n",
    "\n",
    "# Ans:\n",
    "class Animal:\n",
    "    def Speak(self):\n",
    "        print('Every animal has its own voice')\n",
    "\n",
    "class Dog(Animal):\n",
    "    def Speak(self):\n",
    "        print('This animal barks')\n",
    "\n",
    "class Cat(Animal):\n",
    "    def Speak(self):\n",
    "        print('This animal produces meaaww sound')\n",
    "        \n",
    "class Bird(Animal):\n",
    "    def Speak(self):\n",
    "        print('This produces sweet sound')"
   ]
  },
  {
   "cell_type": "code",
   "execution_count": 19,
   "id": "8fd61a94",
   "metadata": {},
   "outputs": [
    {
     "name": "stdout",
     "output_type": "stream",
     "text": [
      "This produces sweet sound\n"
     ]
    }
   ],
   "source": [
    "a1 = Bird()\n",
    "a1.Speak()"
   ]
  },
  {
   "cell_type": "markdown",
   "id": "43c7a42d",
   "metadata": {},
   "source": [
    "7. Discuss the use of abstract methods and classes in achieving polymorphism in Python. Provide an example using the `abc` module.\n",
    "\n",
    "Ans:\n",
    "An abstract class can be considered a blueprint for other classes. It allows you to create a set of methods that must be created within any child classes built from the abstract class. A class that contains one or more abstract methods is called an abstract class.\n",
    "\n",
    "Example for importing the abstarct class\n",
    "\n",
    "from abc import ABC, abstractmethod"
   ]
  },
  {
   "cell_type": "code",
   "execution_count": 42,
   "id": "e64e1f93",
   "metadata": {},
   "outputs": [],
   "source": [
    "# 8. Create a Python class hierarchy for a vehicle system (e.g., car, bicycle, boat) \n",
    "#and implement a polymorphic start() method that prints a message specific to each vehicle type.\n",
    "\n",
    "# Ans:\n",
    "import abc\n",
    "from abc import ABC, abstractmethod\n",
    "class Vehicle(ABC):\n",
    "    @abstractmethod\n",
    "    def Start(self):\n",
    "        pass\n",
    "        \n",
    "class Car(Vehicle):\n",
    "    def Start(self):\n",
    "        print('This is car class')\n",
    "\n",
    "class Bicycle(Vehicle):\n",
    "    def Start(self):\n",
    "        print('This is Bicycle class')\n",
    "\n",
    "class Boat(Vehicle):\n",
    "    def Start(self):\n",
    "        print('This is boat class')\n",
    "v1 = Boat()\n"
   ]
  },
  {
   "cell_type": "markdown",
   "id": "4e717186",
   "metadata": {},
   "source": [
    "9. Explain the significance of the `isinstance()` and `issubclass()` functions in Python polymorphism.\n",
    "\n",
    "Ans:\n",
    "The function isinstance () checks whether the object that is passed in its parameters is the subclass of the classinfo mentioned within the parameters.\n",
    "Example:\n",
    "isinstance(v1,Boat)       \n",
    "\n",
    "On the other hand, the Python issubclass () function only checks whether a class is a subclass of a supposed parent class.\n",
    "\n",
    "Example:\n",
    "issubclass(Boat, Vehicle)"
   ]
  },
  {
   "cell_type": "markdown",
   "id": "5fd4bde3",
   "metadata": {},
   "source": [
    "10. What is the role of the `@abstractmethod` decorator in achieving polymorphism in Python? Provide an example.\n",
    "\n",
    "Ans:\n",
    "abstractmethod() may be used to declare abstract methods for properties and descriptors. Polymorphism is an important feature of class definition in Python that is used when you have methods with the same name across classes or subclasses.\n",
    "\n",
    "Example\n",
    "from abc import ABC, abstractmethod\n",
    " \n",
    " \n",
    "class Animal(ABC):\n",
    " \n",
    "    def move(self):\n",
    "        pass\n",
    " \n",
    "class Human(Animal):\n",
    " \n",
    "    def move(self):\n",
    "        print(\"I can walk and run\")\n",
    " \n",
    "class Snake(Animal):\n",
    " \n",
    "    def move(self):\n",
    "        print(\"I can crawl\")\n",
    " \n",
    "class Dog(Animal):\n",
    " \n",
    "    def move(self):\n",
    "        print(\"I can bark\")\n",
    " \n",
    "class Lion(Animal):\n",
    " \n",
    "    def move(self):\n",
    "        print(\"I can roar\")"
   ]
  },
  {
   "cell_type": "code",
   "execution_count": 45,
   "id": "bdf98f58",
   "metadata": {},
   "outputs": [],
   "source": [
    "# 11. Create a Python class called `Shape` with a polymorphic method `area()` that calculates the area of different shapes (e.g., circle, rectangle, triangle).\n",
    "\n",
    "# Ans:\n",
    "class Shape:\n",
    "    @abstractmethod\n",
    "    def area(self):\n",
    "        pass\n",
    "class Circle(Shape):\n",
    "    def __init__(self, r):\n",
    "        self.Radius = r\n",
    "    def area(self):\n",
    "        return 3.14 *(self.Radius*self.Radius)\n",
    "\n",
    "class Triangle(Shape):\n",
    "    def __init__(self,b,h):\n",
    "        self.Breath = b\n",
    "        self.Height = h\n",
    "    \n",
    "    def area(self):\n",
    "        return (self.Breath*self.Height)/2\n",
    "    \n",
    "class Rectangle(Shape):\n",
    "    def __init__(self, w, l):\n",
    "        self.Width = w\n",
    "        self.Length = l\n",
    "    \n",
    "    def area(self):\n",
    "        self.Width * self.Length"
   ]
  },
  {
   "cell_type": "markdown",
   "id": "f35af6ab",
   "metadata": {},
   "source": [
    "12. Discuss the benefits of polymorphism in terms of code reusability and flexibility in Python programs.\n",
    "\n",
    "Ans:\n",
    "By enabling programmers to reuse the same code for various data types, polymorphism encourages code reuse. As a result, less code needs to be written and code maintenance is made simpler over time.\n",
    "\n",
    "Code can be more flexible thanks to polymorphism, which enables objects and functions to take on different forms."
   ]
  },
  {
   "cell_type": "markdown",
   "id": "56d57e71",
   "metadata": {},
   "source": [
    "13. Explain the use of the `super()` function in Python polymorphism. How does it help call methods of parent classes?\n",
    "\n",
    "Ans:\n",
    "In Python, the super() function is used to refer to the parent class or superclass. It allows you to call methods defined in the superclass from the subclass, enabling you to extend and customize the functionality inherited from the parent class."
   ]
  },
  {
   "cell_type": "code",
   "execution_count": 46,
   "id": "da344ad6",
   "metadata": {},
   "outputs": [],
   "source": [
    "# 14. Create a Python class hierarchy for a banking system with various account types (e.g., savings, checking,\n",
    "\n",
    "# Ans:\n",
    "class Banking:\n",
    "    def __init__(self, balance):\n",
    "        self.Balance = balance\n",
    "    @abstractmethod\n",
    "    def balance(self):\n",
    "        pass\n",
    "    \n",
    "\n",
    "class Savings(Banking):\n",
    "    def balance(self):\n",
    "        print('This is the saving account balance', self.Balance)\n",
    "\n",
    "class Checking(Banking):\n",
    "    def balance(self):\n",
    "        print('This class is checking the all type account balance', self.Balance)"
   ]
  },
  {
   "cell_type": "code",
   "execution_count": 48,
   "id": "642554e5",
   "metadata": {},
   "outputs": [
    {
     "name": "stdout",
     "output_type": "stream",
     "text": [
      "(15,30)\n"
     ]
    }
   ],
   "source": [
    "#15. Describe the concept of operator overloading in Python and how it relates to polymorphism. \n",
    "#Provideexamples using operators like `+` and `*`.\n",
    "\n",
    "# Ans:\n",
    "# Meaning of operator overloading:\n",
    "# Python operators work for bulit-in-classes and the same operator behave differently with different datatypes\n",
    "\n",
    "\n",
    "#Example:\n",
    "class Point:\n",
    "    def __init__(self,x,y):\n",
    "        self.X = x\n",
    "        self.Y = y\n",
    "\n",
    "    def __add__(self,other):\n",
    "        x = self.X + other.X\n",
    "        y = self.Y + other.Y\n",
    "        return Point(x,y)\n",
    "\n",
    "\n",
    "    def __str__(self):\n",
    "        return \"({0},{1})\".format(self.X, self.Y)\\\n",
    "        \n",
    "    def __lt__(self, other):\n",
    "        p1 = self.X + self.Y\n",
    "        p2 = other.X + other.Y\n",
    "        return p1 < p2\n",
    "\n",
    "\n",
    "p1 = Point(10,20)\n",
    "p2 = Point(5,10)\n",
    "\n",
    "result = p1 + p2\n",
    "print(result)\n",
    "\n"
   ]
  },
  {
   "cell_type": "markdown",
   "id": "51f4e2ee",
   "metadata": {},
   "source": [
    "16. What is dynamic polymorphism, and how is it achieved in Python?\n",
    "\n",
    "Ans:\n",
    "Dynamic polymorphism is the most powerful feature of object oriented programming, \n",
    "which allows us to program against abstractions whose real behavior is only defined at run time.\n",
    "\n",
    "The classes Bike and Splendor are created, with the Splendor class extending Bike and overriding its run() method. The parent class's reference variable invokes the run() method."
   ]
  },
  {
   "cell_type": "code",
   "execution_count": 50,
   "id": "7abcfed6",
   "metadata": {},
   "outputs": [],
   "source": [
    "#17. Create a Python class hierarchy for employees in a company (e.g., manager, developer, designer) and implement polymorphism through a common `calculate_salary()` method.\n",
    "\n",
    "#Ans:\n",
    "\n"
   ]
  },
  {
   "cell_type": "markdown",
   "id": "5e16f9f7",
   "metadata": {},
   "source": [
    "18. Discuss the concept of function pointers and how they can be used to achieve polymorphism in Python.\n",
    "\n",
    "Ans:\n",
    "Pointers can be thought of as names - that is, entries in Python's namespace - that correspond to objects in Python's memory. \n",
    "\n",
    "In the above example, the pointer is my_string , and the object in memory is the string with value \"Hello World!\" ."
   ]
  },
  {
   "cell_type": "markdown",
   "id": "9f05b5bc",
   "metadata": {},
   "source": [
    "19. Explain the role of interfaces and abstract classes in polymorphism, drawing comparisons between them.\n",
    "\n",
    "Ans:\n",
    "Abstract classes can have both concrete and abstract methods, can provide default implementations, and support inheritance. \n",
    "\n",
    "Interfaces, on the other hand, can only have abstract methods, do not provide implementations, and support multiple inheritance through implementation."
   ]
  },
  {
   "cell_type": "code",
   "execution_count": 52,
   "id": "2505fa04",
   "metadata": {},
   "outputs": [],
   "source": [
    "# 20. Create a Python class for a zoo simulation, demonstrating polymorphism with different animal types (e.g., mammals, birds, reptiles) and their behavior (e.g., eating, sleeping, making sounds).\n",
    "\n",
    "# Ans:\n",
    "class Zoo:\n",
    "    @abstractmethod\n",
    "    def eating(self):\n",
    "        pass\n",
    "    \n",
    "    @abstractmethod\n",
    "    def sleeping(self):\n",
    "        pass\n",
    "    \n",
    "    @abstractmethod\n",
    "    def makingsounds(self):\n",
    "        pass\n",
    "    \n",
    "class mammals(Zoo):\n",
    "    def eating(self):\n",
    "        print('Mammals eat a wide variety of foods.')\n",
    "    def sleeping(self):\n",
    "        print('They are even active while sleeping')\n",
    "    def makingsound(self):\n",
    "        print('Varies with catagory of mammals')\n",
    "\n",
    "class birds(Zoo):\n",
    "    def eating(self):\n",
    "        print('They mainly eats grains')\n",
    "    def sleeping(self):\n",
    "        print('They have sound sleep habbits')\n",
    "    def makingsound(self):\n",
    "        print('every bird also makes different sounds')"
   ]
  },
  {
   "cell_type": "markdown",
   "id": "3940fc82",
   "metadata": {},
   "source": [
    "## Abstraction:"
   ]
  },
  {
   "cell_type": "markdown",
   "id": "0a1a81a2",
   "metadata": {},
   "source": [
    "1. What is abstraction in Python, and how does it relate to object-oriented programming?\n",
    "\n",
    "Ans:\n",
    "In object-oriented programming, abstraction is one of three central principles (along with encapsulation and inheritance). \n",
    "\n",
    "Through the process of abstraction, a programmer hides all but the relevant data about an object in order to reduce complexity and increase efficiency."
   ]
  },
  {
   "cell_type": "markdown",
   "id": "20f99968",
   "metadata": {},
   "source": [
    "2. Describe the benefits of abstraction in terms of code organization and complexity reduction.\n",
    "\n",
    "Ans:\n",
    "A data abstraction layer bridges the gap between business needs and source data's original form. This best practice implementation of data virtualization provides the following benefits: Simplify information access – Bridge business and IT terminology and technology so both can succeed."
   ]
  },
  {
   "cell_type": "code",
   "execution_count": 53,
   "id": "2835467c",
   "metadata": {},
   "outputs": [],
   "source": [
    "# 3. Create a Python class called `Shape` with an abstract method `calculate_area()`. Then, create child classes (e.g., `Circle`, `Rectangle`) that implement the `calculate_area()` method. Provide an example of\n",
    "# using these classes.\n",
    "\n",
    "# Ans:\n",
    "\n",
    "class Shape:\n",
    "    @abstractmethod\n",
    "    def calculateArea(self):\n",
    "        pass\n",
    "class Circle(Shape):\n",
    "    def __init__(self, r):\n",
    "        self.Radius = r\n",
    "    def calculateArea(self):\n",
    "        return 3.14 * (self.Radius^2)\n",
    "class Rectangle(Shape):\n",
    "    def __init__(self, l ,w):\n",
    "        self.Length = l\n",
    "        self.Width = w\n",
    "    \n",
    "    def calculateArea(self):\n",
    "        return  self.Length * self.Width"
   ]
  },
  {
   "cell_type": "markdown",
   "id": "a688f575",
   "metadata": {},
   "source": [
    "4. Explain the concept of abstract classes in Python and how they are defined using the `abc` module. Provide an example.\n",
    "\n",
    "Ans:\n",
    "An abstract class can be considered a blueprint for other classes. It allows you to create a set of methods that must be created within any child classes built from the abstract class. A class that contains one or more abstract methods is called an abstract class."
   ]
  },
  {
   "cell_type": "markdown",
   "id": "da476c1e",
   "metadata": {},
   "source": [
    "5. How do abstract classes differ from regular classes in Python? Discuss their use cases.\n",
    "\n",
    "Ans:\n",
    "An abstract class is a class, but not one you can create objects from directly. Its purpose is to define how other classes should look like, i.e. what methods and properties they are expected to have."
   ]
  },
  {
   "cell_type": "code",
   "execution_count": 54,
   "id": "7e2c0133",
   "metadata": {},
   "outputs": [],
   "source": [
    "# 6. Create a Python class for a bank account and demonstrate abstraction by hiding the account balance and\n",
    "# providing methods to deposit and withdraw funds.\n",
    "\n",
    "# Ans:\n",
    "class BankAccount:\n",
    "    def __init__(self, balance):\n",
    "        self.__Balance = balance\n",
    "    \n",
    "    def deposit(self, amount):\n",
    "        self.__Balance+= amount\n",
    "        \n",
    "    def withdraw(self, amount):\n",
    "        if self.__Balance- amount > 5000:\n",
    "            return self.__Balance- amount\n",
    "        else:\n",
    "            print('insufficient balance')"
   ]
  },
  {
   "cell_type": "markdown",
   "id": "8cb70b4a",
   "metadata": {},
   "source": [
    "7. Discuss the concept of interface classes in Python and their role in achieving abstraction.\n",
    "\n",
    "Ans:\n",
    "An interface defines a contract between a class and its users. It specifies a set of methods that a class must implement in order to be considered compatible with the interface. \n",
    "\n",
    "In Python, interfaces can be implemented using abstract base classes (ABCs)."
   ]
  },
  {
   "cell_type": "code",
   "execution_count": 57,
   "id": "3791456a",
   "metadata": {},
   "outputs": [],
   "source": [
    "# 8. Create a Python class hierarchy for animals and implement abstraction by defining \n",
    "# common methods (e.g., `eat()`, `sleep()`) in an abstract base class.\n",
    "\n",
    "#Ans:\n",
    "class Animal:\n",
    "    def eat(self):\n",
    "        print(\"They need to eat for their survival\")\n",
    "    \n",
    "    def sleep(self):\n",
    "        print(\"They need to sleep in order to ensure natural functioning of the body\")"
   ]
  },
  {
   "cell_type": "markdown",
   "id": "234fa823",
   "metadata": {},
   "source": [
    "9. Explain the significance of encapsulation in achieving abstraction. Provide examples.\n",
    "\n",
    "Ans:\n",
    "Encapsulation: It is binding the data and the functions that manipulate that data a into one big object. \n",
    "\n",
    "Abstraction: Abstraction is showing essential features and hiding non-essential features to the user. To abstract something is to create a model of something that only describes its key features."
   ]
  },
  {
   "cell_type": "markdown",
   "id": "fa407b19",
   "metadata": {},
   "source": [
    "10. What is the purpose of abstract methods, and how do they enforce abstraction in Python classes?\n",
    "\n",
    "Ans:\n",
    "Abstract methods force the child classes to give the implementation of these methods in them and thus help us achieve abstraction as each subclass can give its own implementation. A class containing one or more than one abstract method is called an abstract class."
   ]
  },
  {
   "cell_type": "code",
   "execution_count": 61,
   "id": "2d3b560f",
   "metadata": {},
   "outputs": [],
   "source": [
    "# 11. Create a Python class for a vehicle system and demonstrate abstraction by defining common methods (e.g., `start()`, `stop()`) in an abstract base class.\n",
    "\n",
    "#Ans:\n",
    "class vehicle:\n",
    "    def start(self):\n",
    "        print(\"This is command to start the vehicle\")\n",
    "    \n",
    "    def stop(self):\n",
    "        print(\"This is command to stop the vehicle\")\n",
    "        \n",
    "class Maruti(vehicle):\n",
    "    pass\n",
    "#     def start(self):\n",
    "#         print(\"This is having self start\")\n",
    "        \n",
    "#     def stop(self):\n",
    "#         print(\"This is mannual car\")\n",
    "\n",
    "c1 = Maruti()\n",
    "c1.start()"
   ]
  },
  {
   "cell_type": "markdown",
   "id": "bdec811e",
   "metadata": {},
   "source": [
    "12. Describe the use of abstract properties in Python and how they can be employed in abstract classes.\n",
    "\n",
    "Ans:\n",
    "The methods and properties defined (but not implemented) in an abstract class are called abstract methods and abstract properties. All abstract methods and properties need to be implemented in a child class in order to be able to create objects from it."
   ]
  },
  {
   "cell_type": "code",
   "execution_count": 76,
   "id": "e6de37b2",
   "metadata": {},
   "outputs": [],
   "source": [
    "# 13. Create a Python class hierarchy for employees in a company (e.g., manager, developer, designer) and implement abstraction by defining a common `get_salary()` method.\n",
    "\n",
    "# Ans:\n",
    "class Employee:\n",
    "    def __init__(self, dailypay, daysworked, comm):\n",
    "        self.Dailypay = dailypay\n",
    "        self.NoDaysWorked = daysworked\n",
    "        self.Commission = comm\n",
    "    \n",
    "    @abstractmethod\n",
    "    def get_salary(self):\n",
    "        pass\n",
    "\n",
    "class Manager(Employee):\n",
    "    def get_salary(self):\n",
    "        return self.Dailypay\n",
    "\n",
    "class Developer(Employee):\n",
    "    def get_salary(self):\n",
    "        return self.Dailypay*self.NoDaysWorked\n",
    "    \n",
    "class Designer(Employee):\n",
    "    def get_salary(self):\n",
    "        return (self.Dailypay*self.NoDaysWorked)+self.Commission"
   ]
  },
  {
   "cell_type": "code",
   "execution_count": 77,
   "id": "47cb8425",
   "metadata": {},
   "outputs": [
    {
     "data": {
      "text/plain": [
       "120000"
      ]
     },
     "execution_count": 77,
     "metadata": {},
     "output_type": "execute_result"
    }
   ],
   "source": [
    "e1 = Designer(5000, 23, 5000)\n",
    "e1.get_salary()"
   ]
  },
  {
   "cell_type": "markdown",
   "id": "75878b8e",
   "metadata": {},
   "source": [
    "14. Discuss the differences between abstract classes and concrete classes in Python, including their instantiation.\n",
    "\n",
    "Ans:\n",
    "Concrete classes contain only concrete (normal)methods whereas abstract classes may contain both concrete methods and abstract methods. \n",
    "\n",
    "The concrete class provides an implementation of abstract methods, the abstract base class can also provide an implementation by invoking the methods via super()"
   ]
  },
  {
   "cell_type": "markdown",
   "id": "bace5dca",
   "metadata": {},
   "source": [
    "15. Explain the concept of abstract data types (ADTs) and their role in achieving abstraction in Python.\n",
    "\n",
    "Ans:\n",
    "Abstract data types (ADTs) are a way of encapsulating data and operations on that data into a single unit. Some of the key features of ADTs include: Abstraction: The user does not need to know the implementation of the data structure only essentials are provided."
   ]
  },
  {
   "cell_type": "code",
   "execution_count": 1,
   "id": "502137bd",
   "metadata": {},
   "outputs": [],
   "source": [
    "# 16. Create a Python class for a computer system, demonstrating abstraction by defining common methods (e.g., `power_on()`, `shutdown()`) in an abstract base class.\n",
    "\n",
    "# Ans:\n",
    "class ComputerSystem:\n",
    "    def power_on(self):\n",
    "        print(\"This command will start the system\")\n",
    "    def shutdown(self):\n",
    "        print(\"This command will shutdown the system\")"
   ]
  },
  {
   "cell_type": "markdown",
   "id": "086c1230",
   "metadata": {},
   "source": [
    "17. Discuss the benefits of using abstraction in large-scale software development projects.\n",
    "\n",
    "Ans:\n",
    "It reduces the complexity of viewing the things. Helps to increase security of an application or program as only important details are provided to the user. \n",
    "\n",
    "Avoids code duplication and increases reusability. Can change internal implementation of class independently without affecting the user."
   ]
  },
  {
   "cell_type": "markdown",
   "id": "3c69ab84",
   "metadata": {},
   "source": [
    "18. Explain how abstraction enhances code reusability and modularity in Python programs.\n",
    "\n",
    "Ans:\n",
    "Abstraction simplifies complex systems by breaking them into smaller components, improving maintainability, debugging, testing, collaboration, and integration of new features.\n",
    "\n",
    "Abstraction focuses on bundling data and methods within an object to improve control and modularity."
   ]
  },
  {
   "cell_type": "code",
   "execution_count": null,
   "id": "c6021b70",
   "metadata": {},
   "outputs": [],
   "source": [
    "# 19. Create a Python class for a library system, implementing abstraction by defining common methods \n",
    "# (e.g., `add_book()`, `borrow_book()`) in an abstract base class.\n",
    "\n",
    "#Ans:\n",
    "\n",
    "class Library:\n",
    "    def __init__(self, avbooks):\n",
    "        self.AvailableBooks = avbooks\n",
    "    \n",
    "    def add_book(self, newbooks):\n",
    "         self.AvailableBooks += newbooks\n",
    "    \n",
    "    def borrow_book(self, borrowbooks):\n",
    "        self.AvailableBooks -= borrowbooks"
   ]
  },
  {
   "cell_type": "markdown",
   "id": "398eb8e6",
   "metadata": {},
   "source": [
    "20. Describe the concept of method abstraction in Python and how it relates to polymorphism.\n",
    "\n",
    "Ans:\n",
    "Abstraction refers to no specific detail of something.\n",
    "\n",
    "Polymorphism refers to methods of different objects have the same, but do different task."
   ]
  },
  {
   "cell_type": "markdown",
   "id": "9195826d",
   "metadata": {},
   "source": [
    "## Composition:"
   ]
  },
  {
   "cell_type": "markdown",
   "id": "28925172",
   "metadata": {},
   "source": [
    "1. Explain the concept of composition in Python and how it is used to build complex objects from simpler ones.\n",
    "\n",
    "Ans:\n",
    "Composition is a concept that models a has a relationship. It enables creating complex types by combining objects of other types. \n",
    "\n",
    "This means that a class Composite can contain an object of another class Component . This relationship means that a Composite has a Component .\n",
    "\n",
    "Example:\n",
    "class Component: \n",
    "  \n",
    "   # composite class constructor \n",
    "    def __init__(self): \n",
    "        print('Component class object created...') \n",
    "  \n",
    "    # composite class instance method \n",
    "    def m1(self): \n",
    "        print('Component class m1() method executed...') \n",
    "  \n",
    "  \n",
    "class Composite: \n",
    "  \n",
    "    # composite class constructor \n",
    "    def __init__(self): \n",
    "  \n",
    "        # creating object of component class \n",
    "        self.obj1 = Component() \n",
    "          \n",
    "        print('Composite class object also created...') \n",
    "  \n",
    "     # composite class instance method \n",
    "    def m2(self): \n",
    "        \n",
    "        print('Composite class m2() method executed...') \n",
    "  \n",
    "        # calling m1() method of component class \n",
    "        self.obj1.m1() "
   ]
  },
  {
   "cell_type": "markdown",
   "id": "b61d68db",
   "metadata": {},
   "source": [
    "2. Describe the difference between composition and inheritance in object-oriented programming.\n",
    "\n",
    "Ans:\n",
    "i) Composition is having \"has a\" relationship while inheritance is having \"is a\" relationship.\n",
    "\n",
    "ii) In inheritance, the child class is dependent upon parent class. Whereas in composition, both child class and parent class are independent."
   ]
  },
  {
   "cell_type": "code",
   "execution_count": 11,
   "id": "4467a733",
   "metadata": {},
   "outputs": [
    {
     "name": "stdout",
     "output_type": "stream",
     "text": [
      "Composite class object also created...\n",
      "Composite class m2() method executed...\n",
      "This is the method of this class\n"
     ]
    }
   ],
   "source": [
    "# 3. Create a Python class called `Author` with attributes for name and birthdate. Then, create a `Book` class\n",
    "# that contains an instance of `Author` as a composition. Provide an example of creating a `Book` object.\n",
    "\n",
    "# Ans:\n",
    "class Author:\n",
    "    def __init__(self, name, birthdate):\n",
    "        self.name = name\n",
    "        self.birthdate = birthdate\n",
    "\n",
    "    def method1(self):\n",
    "        print(\"This is the method of this class\")\n",
    "\n",
    "\n",
    "class Book:\n",
    "    def __init__(self, name, author):\n",
    "        self.name = name\n",
    "        self.author = author\n",
    "        print('Composite class object also created...')\n",
    "\n",
    "    def method2(self):\n",
    "        print('Composite class m2() method executed...')\n",
    "        self.author.method1()\n",
    "\n",
    "\n",
    "# Create an Author object\n",
    "author = Author(\"J.K. Rowling\", \"31-07-1965\")\n",
    "\n",
    "# Create a Book object using the Author object\n",
    "book = Book(\"Harry Potter and the Sorcerer's Stone\", author)\n",
    "\n",
    "# Call the method2() method of the Book object\n",
    "book.method2() \n"
   ]
  },
  {
   "cell_type": "markdown",
   "id": "ff3c4297",
   "metadata": {},
   "source": [
    "4. Discuss the benefits of using composition over inheritance in Python, especially in terms of code flexibility and reusability.\n",
    "\n",
    "Ans:\n",
    "In summary, composition offers several advantages over inheritance, including greater flexibility, reduced complexity, and improved maintainability. \n",
    "\n",
    "It can also avoid problems associated with multiple inheritance, such as the \"diamond problem.\" While inheritance still has its place in object-oriented programming."
   ]
  },
  {
   "cell_type": "markdown",
   "id": "fac73f1a",
   "metadata": {},
   "source": [
    "5. How can you implement composition in Python classes? Provide examples of using composition to create complex objects.\n",
    "\n",
    "Ans:\n",
    "To achieve composition you can instantiate other objects in the class and then use those instances. \n",
    "\n",
    "For example in the below example we instantiate the Rocket class using self. rocket and then using self."
   ]
  },
  {
   "cell_type": "code",
   "execution_count": 19,
   "id": "ab47cb25",
   "metadata": {},
   "outputs": [
    {
     "name": "stdout",
     "output_type": "stream",
     "text": [
      "The list of songs is called playlists\n",
      "The songs is the base component of playlits\n"
     ]
    }
   ],
   "source": [
    "# 6. Create a Python class hierarchy for a music player system, using composition to represent playlists and\n",
    "# songs.\n",
    "\n",
    "# Ans:\n",
    "class playlists:\n",
    "    def method1(self):\n",
    "        print('The list of songs is called playlists')\n",
    "class songs:\n",
    "    def method2(self):\n",
    "        print('The songs is the base component of playlits')\n",
    "\n",
    "class Music_System_Player:\n",
    "    P = playlists()\n",
    "    S = songs()\n",
    "    \n",
    "m1 = Music_System_Player()\n",
    "m1.P.method1()\n",
    "m1.S.method2()"
   ]
  },
  {
   "cell_type": "markdown",
   "id": "fcc9de96",
   "metadata": {},
   "source": [
    "7. Explain the concept of \"has-a\" relationships in composition and how it helps design software systems.\n",
    "\n",
    "Ans:\n",
    "Composition is a concept that models a has a relationship. \n",
    "It enables creating complex types by combining objects of other types. \n",
    "This means that a class Composite can contain an object of another class Component . \n",
    "This relationship means that a Composite has a Component ."
   ]
  },
  {
   "cell_type": "code",
   "execution_count": 18,
   "id": "4739d4e1",
   "metadata": {},
   "outputs": [
    {
     "name": "stdout",
     "output_type": "stream",
     "text": [
      "this is the main component of any system\n",
      "this provides the storage in any system\n",
      "This is specifying the external storage device\n"
     ]
    }
   ],
   "source": [
    "# 8. Create a Python class for a computer system, using composition to represent components like CPU, RAM,\n",
    "# and storage devices.\n",
    "\n",
    "# Ans:\n",
    "class cpu:\n",
    "    def method(self):\n",
    "        print('this is the main component of any system')\n",
    "class ram:\n",
    "    def method(self):\n",
    "        print('this provides the storage in any system')\n",
    "class storageDevice:\n",
    "    def method(self):\n",
    "        print('This is specifying the external storage device')\n",
    "\n",
    "class computerSystem:\n",
    "    C = cpu()\n",
    "    R = ram()\n",
    "    SD = storageDevice()\n",
    "\n",
    "c1 =computerSystem()\n",
    "c1.C.method()\n",
    "c1.R.method()\n",
    "c1.SD.method()"
   ]
  },
  {
   "cell_type": "markdown",
   "id": "1023f4c3",
   "metadata": {},
   "source": [
    "9. Describe the concept of \"delegation\" in composition and how it simplifies the design of complex systems.\n",
    "\n",
    "Ans:\n",
    "Object Delegation means using the object of another class as a class member of another class. It is known as object delegation. \n",
    "\n",
    "Delegation can be an alternative to inheritance, but in an inheritance, there is an i-s a relationship, but in the delegation, there is no inheritance relationship between the classes."
   ]
  },
  {
   "cell_type": "code",
   "execution_count": 7,
   "id": "16b07881",
   "metadata": {},
   "outputs": [
    {
     "name": "stdout",
     "output_type": "stream",
     "text": [
      "Car is having very efficient engine\n",
      "Car is having right speed\n"
     ]
    }
   ],
   "source": [
    "# 10. Create a Python class for a car, using composition to represent components like the engine, wheels, and\n",
    "# transmission.\n",
    "\n",
    "# Ans\n",
    "\n",
    "class Engine:\n",
    "    def method1(self):\n",
    "        print('Car is having very efficient engine')\n",
    "    def method2(self):\n",
    "        print('Car is having right speed')\n",
    "\n",
    "class Car:\n",
    "    e = Engine()\n",
    "    e.method1()\n",
    "    e.method2()    \n",
    "    \n",
    "c1 = Car()"
   ]
  },
  {
   "cell_type": "markdown",
   "id": "8ce947a7",
   "metadata": {},
   "source": [
    "11. How can you encapsulate and hide the details of composed objects in Python classes to maintain abstraction?\n",
    "\n",
    "Ans:"
   ]
  },
  {
   "cell_type": "code",
   "execution_count": null,
   "id": "bcd39d2e",
   "metadata": {},
   "outputs": [],
   "source": [
    "# 12. Create a Python class for a university course, using composition to represent students, instructors, and\n",
    "# course materials.\n",
    "\n",
    "# Ans:\n",
    "class CourseRunning:\n",
    "    def __init__(self, course, year):\n",
    "        self.course = course\n",
    "        self.year = year\n",
    "        self.students = []\n",
    "        self.instructors = []\n",
    "\n",
    "    def add_student(self, student):\n",
    "        self.students.append(student)\n",
    "        \n",
    "    def add_instructor(self, instructor):\n",
    "        self.instructors.append(instructor)\n",
    "        \n",
    "    "
   ]
  },
  {
   "cell_type": "markdown",
   "id": "aebdc177",
   "metadata": {},
   "source": [
    "13. Discuss the challenges and drawbacks of composition, such as increased complexity and potential for tight coupling between objects.\n",
    "\n",
    "Ans:"
   ]
  },
  {
   "cell_type": "code",
   "execution_count": 2,
   "id": "3f7be250",
   "metadata": {},
   "outputs": [],
   "source": [
    "# 14. Create a Python class hierarchy for a restaurant system, using composition \n",
    "#to represent menus, dishes,and ingredients.\n",
    "\n",
    "#Ans:\n",
    "class restaurant:\n",
    "    def __init__(self):\n",
    "        self.Menu = []\n",
    "        self.Dishes = []\n",
    "        self.Ingredients = []\n",
    "    \n",
    "    def Add_MenuItem(self,item):\n",
    "        self.Menu.append(item)\n",
    "    \n",
    "    def Add_Dishes(self, dish):\n",
    "        self.Dishes.append(dish)\n",
    "    \n",
    "    def Add_Ingredients(self, initem):\n",
    "        self.Ingredients.append(initem)"
   ]
  },
  {
   "cell_type": "code",
   "execution_count": 3,
   "id": "6ddd7510",
   "metadata": {},
   "outputs": [],
   "source": [
    "r1 = restaurant()"
   ]
  },
  {
   "cell_type": "code",
   "execution_count": 4,
   "id": "80b225b7",
   "metadata": {},
   "outputs": [],
   "source": [
    "r1.Add_Ingredients('garam masalsa')"
   ]
  },
  {
   "cell_type": "code",
   "execution_count": 8,
   "id": "9d163703",
   "metadata": {},
   "outputs": [
    {
     "data": {
      "text/plain": [
       "['garam masalsa']"
      ]
     },
     "execution_count": 8,
     "metadata": {},
     "output_type": "execute_result"
    }
   ],
   "source": [
    "r1.Ingredients"
   ]
  },
  {
   "cell_type": "markdown",
   "id": "a703b6f4",
   "metadata": {},
   "source": [
    "15. Explain how composition enhances code maintainability and modularity in Python programs.\n",
    "\n",
    "Ans:\n",
    "\n",
    "Composition is a concept that models a has a relationship.\n",
    "\n",
    "It enables creating complex types by combining objects of other types. This means that a class Composite can contain an object of another class Component . This relationship means that a Composite has a Component ."
   ]
  },
  {
   "cell_type": "code",
   "execution_count": 4,
   "id": "c1c84fbd",
   "metadata": {},
   "outputs": [
    {
     "name": "stdout",
     "output_type": "stream",
     "text": [
      "ndjwh ndjshj 89\n"
     ]
    }
   ],
   "source": [
    "# 16. Create a Python class for a computer game character, using composition to represent attributes like\n",
    "# weapons, armor, and inventory.\n",
    "\n",
    "# Ans:\n",
    "class ComputerGameCharacter:\n",
    "    def __init__(self,weapons, armor, inventory):\n",
    "        self.Weapons = weapons\n",
    "        self.Armor = armor\n",
    "        self.Inventory = inventory\n",
    "        \n",
    "    def show_attributes(self):\n",
    "        print(self.Weapons,  self.Armor, self.Inventory)\n",
    "        \n",
    "cg1 = ComputerGameCharacter('ndjwh', 'ndjshj', 89)\n",
    "cg1.show_attributes()"
   ]
  },
  {
   "cell_type": "markdown",
   "id": "8db8f5a2",
   "metadata": {},
   "source": [
    "17. Describe the concept of \"aggregation\" in composition and how it differs from simple composition.\n",
    "\n",
    "Ans:\n"
   ]
  },
  {
   "cell_type": "code",
   "execution_count": 8,
   "id": "7a1b0511",
   "metadata": {},
   "outputs": [
    {
     "name": "stdout",
     "output_type": "stream",
     "text": [
      "This house is having sufficient rooms as per the requirement\n",
      "This house is having furniture as per the requirement.\n",
      "This house is having appliances as per the requirement.\n"
     ]
    }
   ],
   "source": [
    "# 18. Create a Python class for a house, using composition to represent rooms, furniture, and appliances.\n",
    "\n",
    "# Ans:\n",
    "class rooms:\n",
    "    def method1(self):\n",
    "        print(\"This house is having sufficient rooms as per the requirement\")\n",
    "\n",
    "class furniture:\n",
    "    def method2(self):\n",
    "        print('This house is having furniture as per the requirement.')\n",
    "\n",
    "class appliances:\n",
    "    def method3(self):\n",
    "        print('This house is having appliances as per the requirement.')\n",
    "\n",
    "class house:\n",
    "    R = rooms()\n",
    "    F = furniture()\n",
    "    A = appliances()\n",
    "    R.method1()\n",
    "    F.method2()\n",
    "    A.method3()\n",
    "        \n",
    "   "
   ]
  },
  {
   "cell_type": "markdown",
   "id": "be03e804",
   "metadata": {},
   "source": [
    "19. How can you achieve flexibility in composed objects by allowing them to be replaced or modified dynamically at runtime?\n",
    "\n",
    "Ans:\n",
    "Composition combines existing classes to create more complex classes, which promotes code reuse. \n",
    "\n",
    "Because objects can be dynamically composed at runtime and easily replaced or modified without affecting the entire system, composition allows for greater flexibility and modularity."
   ]
  },
  {
   "cell_type": "code",
   "execution_count": 16,
   "id": "4d914e83",
   "metadata": {},
   "outputs": [
    {
     "name": "stdout",
     "output_type": "stream",
     "text": [
      "This is the user of social media\n",
      "User is the one who frequently posts something\n",
      "User is one who also frequently comments on posts\n"
     ]
    }
   ],
   "source": [
    "# 20. Create a Python class for a social media application, using composition to represent users, posts, and\n",
    "# comments.\n",
    "\n",
    "# Ans:\n",
    "class users:\n",
    "    def method(self):\n",
    "        print('This is the user of social media')\n",
    "class posts:\n",
    "    def method(self):\n",
    "        print('User is the one who frequently posts something')\n",
    "\n",
    "class comments:\n",
    "    def method(self):\n",
    "        print('User is one who also frequently comments on posts')\n",
    "\n",
    "class SocialMedia:\n",
    "    U  = users()\n",
    "    P  = posts()\n",
    "    C = comments()\n",
    "    U.method()\n",
    "    P.method()\n",
    "    C.method()\n",
    "\n"
   ]
  },
  {
   "cell_type": "code",
   "execution_count": null,
   "id": "3eab6294",
   "metadata": {},
   "outputs": [],
   "source": []
  }
 ],
 "metadata": {
  "kernelspec": {
   "display_name": "Python 3 (ipykernel)",
   "language": "python",
   "name": "python3"
  },
  "language_info": {
   "codemirror_mode": {
    "name": "ipython",
    "version": 3
   },
   "file_extension": ".py",
   "mimetype": "text/x-python",
   "name": "python",
   "nbconvert_exporter": "python",
   "pygments_lexer": "ipython3",
   "version": "3.9.7"
  }
 },
 "nbformat": 4,
 "nbformat_minor": 5
}
