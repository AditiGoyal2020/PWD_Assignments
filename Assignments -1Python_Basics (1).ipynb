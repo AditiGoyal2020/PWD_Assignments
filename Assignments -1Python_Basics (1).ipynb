{
 "cells": [
  {
   "cell_type": "code",
   "execution_count": 7,
   "id": "38243f30-b563-4873-99d8-d494c893ae71",
   "metadata": {},
   "outputs": [],
   "source": [
    "# Declare two variables, `x` and `y`, and assign them integer values.\n",
    "#Swap the values of these variables without using any temporary variable.\n",
    "\n",
    "# Ans:\n",
    "x = 56\n",
    "y = 89\n",
    "    \n",
    "x = x + y\n",
    "y = x - y\n",
    "x = x - y"
   ]
  },
  {
   "cell_type": "code",
   "execution_count": 8,
   "id": "e02e2fc7-5ceb-409a-9c0c-3043447d9945",
   "metadata": {},
   "outputs": [
    {
     "name": "stdin",
     "output_type": "stream",
     "text": [
      " 2\n",
      " 3\n"
     ]
    },
    {
     "name": "stdout",
     "output_type": "stream",
     "text": [
      "Area of Rectangle is: 6\n"
     ]
    }
   ],
   "source": [
    "# Create a program that calculates the area of a rectangle. Take the\n",
    "# length and width as inputs from the user and store them in variables.\n",
    "# Calculate and display the area.\n",
    "\n",
    "# Ans:\n",
    "l = int(input())\n",
    "b = int(input())\n",
    "print(\"Area of Rectangle is:\", l*b)"
   ]
  },
  {
   "cell_type": "code",
   "execution_count": 10,
   "id": "dc8763ec-c9eb-4da4-abef-a48b53b9b4a4",
   "metadata": {},
   "outputs": [
    {
     "name": "stdin",
     "output_type": "stream",
     "text": [
      " 6\n"
     ]
    },
    {
     "name": "stdout",
     "output_type": "stream",
     "text": [
      "Converted value from c to f is: 42.8\n"
     ]
    }
   ],
   "source": [
    "# Write a Python program that converts temperature from Celsius to\n",
    "# Fahrenheit. Take the temperature in Celsius as input, store it in a\n",
    "# variable, convert it to Fahrenheit, and display the result.\n",
    "\n",
    "# Ans:\n",
    "Celsius = int(input())\n",
    "\n",
    "Fahrenheit = Celsius*(9/5) + 32\n",
    "\n",
    "print(\"Converted value from c to f is:\", Fahrenheit)"
   ]
  },
  {
   "cell_type": "code",
   "execution_count": 11,
   "id": "b11862ab-f4aa-474d-80bb-a64821be0db4",
   "metadata": {},
   "outputs": [
    {
     "name": "stdin",
     "output_type": "stream",
     "text": [
      " aditi\n"
     ]
    },
    {
     "name": "stdout",
     "output_type": "stream",
     "text": [
      "length of string is 5\n"
     ]
    }
   ],
   "source": [
    "# Write a Python program that takes a string as input and prints the\n",
    "# length of the string.\n",
    "\n",
    "# Ans:\n",
    "a = str(input())\n",
    "print(\"length of string is\", len(a))"
   ]
  },
  {
   "cell_type": "code",
   "execution_count": 26,
   "id": "3b622c82-e970-4aba-93c2-cfcd8662b571",
   "metadata": {},
   "outputs": [
    {
     "name": "stdin",
     "output_type": "stream",
     "text": [
      " aditi goyal\n"
     ]
    },
    {
     "name": "stdout",
     "output_type": "stream",
     "text": [
      "5\n"
     ]
    }
   ],
   "source": [
    "# Create a program that takes a sentence from the user and counts the\n",
    "# number of vowels (a, e, i, o, u) in the string.\n",
    "\n",
    "# Ans:\n",
    "a = str(input())\n",
    "c = 0\n",
    "l = ['a','e','i','o','u']\n",
    "for i in a:\n",
    "    if i in l:\n",
    "        c = c+1 \n",
    "print(c)"
   ]
  },
  {
   "cell_type": "code",
   "execution_count": 29,
   "id": "478eeef4-1e5b-4112-a698-48c9012fec33",
   "metadata": {},
   "outputs": [
    {
     "data": {
      "text/plain": [
       "'itida'"
      ]
     },
     "execution_count": 29,
     "metadata": {},
     "output_type": "execute_result"
    }
   ],
   "source": [
    "# Given a string, reverse the order of characters using string slicing and\n",
    "# print the reversed string.\n",
    "\n",
    "# Ans:\n",
    "s = \"aditi\"\n",
    "\n",
    "s[::-1]"
   ]
  },
  {
   "cell_type": "code",
   "execution_count": 6,
   "id": "5b5baeea-3551-4f1a-96bc-29f499a0869c",
   "metadata": {},
   "outputs": [
    {
     "name": "stdout",
     "output_type": "stream",
     "text": [
      "radar\n",
      "The string is a palidrome\n"
     ]
    }
   ],
   "source": [
    "# Write a program that takes a string as input and checks if it is a\n",
    "# palindrome (reads the same forwards and backwards).\n",
    "\n",
    "# Ans:\n",
    "\n",
    "s = str(input())\n",
    "\n",
    "s = s.casefold()\n",
    "reverse_s = reversed(s)\n",
    "\n",
    "if list(s) == list(reverse_s):\n",
    " print(\"The string is a palidrome\")\n",
    "    \n",
    "else:\n",
    "    print(\"This string is not palidrome\")"
   ]
  },
  {
   "cell_type": "code",
   "execution_count": 33,
   "id": "ddf3fcd0-dc14-45d1-b309-acbc59fa3a6b",
   "metadata": {},
   "outputs": [
    {
     "name": "stdin",
     "output_type": "stream",
     "text": [
      "         aditi        \n"
     ]
    },
    {
     "name": "stdout",
     "output_type": "stream",
     "text": [
      "New string value is: aditi\n"
     ]
    }
   ],
   "source": [
    "# Create a program that takes a string as input and removes all the\n",
    "# spaces from it. Print the modified string without spaces.\n",
    "\n",
    "# Ans:\n",
    "\n",
    "s = str(input())\n",
    "\n",
    "print(\"New string value is:\", s.strip())"
   ]
  },
  {
   "cell_type": "code",
   "execution_count": null,
   "id": "39940c42-5707-43a7-95c5-f5a6cb9e083b",
   "metadata": {},
   "outputs": [],
   "source": []
  }
 ],
 "metadata": {
  "kernelspec": {
   "display_name": "Python 3 (ipykernel)",
   "language": "python",
   "name": "python3"
  },
  "language_info": {
   "codemirror_mode": {
    "name": "ipython",
    "version": 3
   },
   "file_extension": ".py",
   "mimetype": "text/x-python",
   "name": "python",
   "nbconvert_exporter": "python",
   "pygments_lexer": "ipython3",
   "version": "3.9.7"
  }
 },
 "nbformat": 4,
 "nbformat_minor": 5
}
